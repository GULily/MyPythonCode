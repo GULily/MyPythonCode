{
 "cells": [
  {
   "cell_type": "markdown",
   "metadata": {},
   "source": [
    "## Yelp Data Challenge - Restaurant Recommender with Graphlab Create (Environment: Python 2)\n",
    "\n",
    "Yi Li"
   ]
  },
  {
   "cell_type": "code",
   "execution_count": 2,
   "metadata": {
    "collapsed": true
   },
   "outputs": [],
   "source": [
    "import pandas as pd\n",
    "import numpy as np\n",
    "import matplotlib.pyplot as plt\n",
    "% matplotlib inline\n",
    "plt.style.use(\"ggplot\")"
   ]
  },
  {
   "cell_type": "code",
   "execution_count": 3,
   "metadata": {},
   "outputs": [
    {
     "data": {
      "text/html": [
       "<div>\n",
       "<table border=\"1\" class=\"dataframe\">\n",
       "  <thead>\n",
       "    <tr style=\"text-align: right;\">\n",
       "      <th></th>\n",
       "      <th>Unnamed: 0</th>\n",
       "      <th>business_id</th>\n",
       "      <th>name</th>\n",
       "      <th>categories</th>\n",
       "      <th>avg_stars</th>\n",
       "      <th>cool</th>\n",
       "      <th>date</th>\n",
       "      <th>funny</th>\n",
       "      <th>review_id</th>\n",
       "      <th>stars</th>\n",
       "      <th>text</th>\n",
       "      <th>useful</th>\n",
       "      <th>user_id</th>\n",
       "    </tr>\n",
       "  </thead>\n",
       "  <tbody>\n",
       "    <tr>\n",
       "      <th>0</th>\n",
       "      <td>1</td>\n",
       "      <td>--9e1ONYQuAa-CB_Rrw7Tw</td>\n",
       "      <td>Delmonico Steakhouse</td>\n",
       "      <td>['Cajun/Creole', 'Steakhouses', 'Restaurants']</td>\n",
       "      <td>4.0</td>\n",
       "      <td>0</td>\n",
       "      <td>2016-03-31</td>\n",
       "      <td>0</td>\n",
       "      <td>6SgvNWJltnZhW7duJgZ42w</td>\n",
       "      <td>5</td>\n",
       "      <td>This is mine and my fiancé's favorite steakhou...</td>\n",
       "      <td>0</td>\n",
       "      <td>oFyOUOeGTRZhFPF9uTqrTQ</td>\n",
       "    </tr>\n",
       "    <tr>\n",
       "      <th>1</th>\n",
       "      <td>2</td>\n",
       "      <td>--9e1ONYQuAa-CB_Rrw7Tw</td>\n",
       "      <td>Delmonico Steakhouse</td>\n",
       "      <td>['Cajun/Creole', 'Steakhouses', 'Restaurants']</td>\n",
       "      <td>4.0</td>\n",
       "      <td>0</td>\n",
       "      <td>2015-06-29</td>\n",
       "      <td>0</td>\n",
       "      <td>iwx6s6yQxc7yjS7NFANZig</td>\n",
       "      <td>4</td>\n",
       "      <td>Nice atmosphere and wonderful service. I had t...</td>\n",
       "      <td>0</td>\n",
       "      <td>2aeNFntqY2QDZLADNo8iQQ</td>\n",
       "    </tr>\n",
       "  </tbody>\n",
       "</table>\n",
       "</div>"
      ],
      "text/plain": [
       "   Unnamed: 0             business_id                  name  \\\n",
       "0           1  --9e1ONYQuAa-CB_Rrw7Tw  Delmonico Steakhouse   \n",
       "1           2  --9e1ONYQuAa-CB_Rrw7Tw  Delmonico Steakhouse   \n",
       "\n",
       "                                       categories  avg_stars  cool  \\\n",
       "0  ['Cajun/Creole', 'Steakhouses', 'Restaurants']        4.0     0   \n",
       "1  ['Cajun/Creole', 'Steakhouses', 'Restaurants']        4.0     0   \n",
       "\n",
       "         date  funny               review_id  stars  \\\n",
       "0  2016-03-31      0  6SgvNWJltnZhW7duJgZ42w      5   \n",
       "1  2015-06-29      0  iwx6s6yQxc7yjS7NFANZig      4   \n",
       "\n",
       "                                                text  useful  \\\n",
       "0  This is mine and my fiancé's favorite steakhou...       0   \n",
       "1  Nice atmosphere and wonderful service. I had t...       0   \n",
       "\n",
       "                  user_id  \n",
       "0  oFyOUOeGTRZhFPF9uTqrTQ  \n",
       "1  2aeNFntqY2QDZLADNo8iQQ  "
      ]
     },
     "execution_count": 3,
     "metadata": {},
     "output_type": "execute_result"
    }
   ],
   "source": [
    "df = pd.read_csv('../dataset/last_2_years_restaurant_reviews.csv')\n",
    "df.head(2)"
   ]
  },
  {
   "cell_type": "code",
   "execution_count": 4,
   "metadata": {},
   "outputs": [
    {
     "data": {
      "text/html": [
       "<div>\n",
       "<table border=\"1\" class=\"dataframe\">\n",
       "  <thead>\n",
       "    <tr style=\"text-align: right;\">\n",
       "      <th></th>\n",
       "      <th>business_id</th>\n",
       "      <th>name</th>\n",
       "      <th>user_id</th>\n",
       "      <th>stars</th>\n",
       "    </tr>\n",
       "  </thead>\n",
       "  <tbody>\n",
       "    <tr>\n",
       "      <th>0</th>\n",
       "      <td>--9e1ONYQuAa-CB_Rrw7Tw</td>\n",
       "      <td>Delmonico Steakhouse</td>\n",
       "      <td>oFyOUOeGTRZhFPF9uTqrTQ</td>\n",
       "      <td>5</td>\n",
       "    </tr>\n",
       "    <tr>\n",
       "      <th>1</th>\n",
       "      <td>--9e1ONYQuAa-CB_Rrw7Tw</td>\n",
       "      <td>Delmonico Steakhouse</td>\n",
       "      <td>2aeNFntqY2QDZLADNo8iQQ</td>\n",
       "      <td>4</td>\n",
       "    </tr>\n",
       "    <tr>\n",
       "      <th>2</th>\n",
       "      <td>--9e1ONYQuAa-CB_Rrw7Tw</td>\n",
       "      <td>Delmonico Steakhouse</td>\n",
       "      <td>gmPP4YFrgYsYQqPYokMgFA</td>\n",
       "      <td>5</td>\n",
       "    </tr>\n",
       "    <tr>\n",
       "      <th>3</th>\n",
       "      <td>--9e1ONYQuAa-CB_Rrw7Tw</td>\n",
       "      <td>Delmonico Steakhouse</td>\n",
       "      <td>aVOGlN9fZ-BXcbtj6dbf0g</td>\n",
       "      <td>5</td>\n",
       "    </tr>\n",
       "    <tr>\n",
       "      <th>4</th>\n",
       "      <td>--9e1ONYQuAa-CB_Rrw7Tw</td>\n",
       "      <td>Delmonico Steakhouse</td>\n",
       "      <td>KC8H7qTZVPIEnanw9fG43g</td>\n",
       "      <td>5</td>\n",
       "    </tr>\n",
       "  </tbody>\n",
       "</table>\n",
       "</div>"
      ],
      "text/plain": [
       "              business_id                  name                 user_id  stars\n",
       "0  --9e1ONYQuAa-CB_Rrw7Tw  Delmonico Steakhouse  oFyOUOeGTRZhFPF9uTqrTQ      5\n",
       "1  --9e1ONYQuAa-CB_Rrw7Tw  Delmonico Steakhouse  2aeNFntqY2QDZLADNo8iQQ      4\n",
       "2  --9e1ONYQuAa-CB_Rrw7Tw  Delmonico Steakhouse  gmPP4YFrgYsYQqPYokMgFA      5\n",
       "3  --9e1ONYQuAa-CB_Rrw7Tw  Delmonico Steakhouse  aVOGlN9fZ-BXcbtj6dbf0g      5\n",
       "4  --9e1ONYQuAa-CB_Rrw7Tw  Delmonico Steakhouse  KC8H7qTZVPIEnanw9fG43g      5"
      ]
     },
     "execution_count": 4,
     "metadata": {},
     "output_type": "execute_result"
    }
   ],
   "source": [
    "# Get business_id, user_id, stars for recommender\n",
    "names = ['business_id', 'name', 'user_id', 'stars']\n",
    "df_new = df[names]\n",
    "df_new.head()"
   ]
  },
  {
   "cell_type": "markdown",
   "metadata": {},
   "source": [
    "#### There are many users that haven't given many reviews, exclude these users from the item-item similarity recommender"
   ]
  },
  {
   "cell_type": "code",
   "execution_count": 5,
   "metadata": {},
   "outputs": [
    {
     "name": "stdout",
     "output_type": "stream",
     "text": [
      "count    227241.000000\n",
      "mean          2.269626\n",
      "std           4.724827\n",
      "min           1.000000\n",
      "25%           1.000000\n",
      "50%           1.000000\n",
      "75%           2.000000\n",
      "max         748.000000\n",
      "Name: user_id, dtype: float64\n",
      "\n",
      "\n",
      "count     227241\n",
      "unique         2\n",
      "top        False\n",
      "freq      212566\n",
      "Name: user_id, dtype: object\n",
      "\n",
      "\n",
      "count     227241\n",
      "unique         2\n",
      "top        False\n",
      "freq      222081\n",
      "Name: user_id, dtype: object\n"
     ]
    }
   ],
   "source": [
    "print(df_new['user_id'].value_counts().describe())\n",
    "print('\\n')\n",
    "print((df_new['user_id'].value_counts()>5).describe())\n",
    "print('\\n')\n",
    "print((df_new['user_id'].value_counts()>10).describe())"
   ]
  },
  {
   "cell_type": "code",
   "execution_count": 6,
   "metadata": {},
   "outputs": [
    {
     "data": {
      "text/plain": [
       "(117389, 4)"
      ]
     },
     "execution_count": 6,
     "metadata": {},
     "output_type": "execute_result"
    }
   ],
   "source": [
    "# only keep the users who have more than 10 reviews\n",
    "df_filter = df_new.groupby('user_id').filter(lambda x: len(x) > 10)\n",
    "df_filter.shape"
   ]
  },
  {
   "cell_type": "code",
   "execution_count": 7,
   "metadata": {},
   "outputs": [
    {
     "data": {
      "text/plain": [
       "(5160, 4394)"
      ]
     },
     "execution_count": 7,
     "metadata": {},
     "output_type": "execute_result"
    }
   ],
   "source": [
    "len(df_filter['user_id'].unique()), len(df_filter['business_id'].unique())"
   ]
  },
  {
   "cell_type": "code",
   "execution_count": 8,
   "metadata": {},
   "outputs": [
    {
     "data": {
      "text/plain": [
       "0"
      ]
     },
     "execution_count": 8,
     "metadata": {},
     "output_type": "execute_result"
    }
   ],
   "source": [
    "117389/(5160* 4394) # still a very sparse matrix"
   ]
  },
  {
   "cell_type": "markdown",
   "metadata": {},
   "source": [
    "#### Load data in Dato's SFrame type"
   ]
  },
  {
   "cell_type": "code",
   "execution_count": 11,
   "metadata": {},
   "outputs": [
    {
     "name": "stderr",
     "output_type": "stream",
     "text": [
      "[INFO] graphlab.cython.cy_server: GraphLab Create v2.1 started. Logging: /tmp/graphlab_server_1522351067.log\n"
     ]
    },
    {
     "name": "stdout",
     "output_type": "stream",
     "text": [
      "This non-commercial license of GraphLab Create for academic use is assigned to yl808@georgetown.edu and will expire on March 29, 2019.\n"
     ]
    }
   ],
   "source": [
    "import graphlab\n",
    "\n",
    "sf = graphlab.SFrame(df_filter[['user_id', 'business_id', 'stars']])"
   ]
  },
  {
   "cell_type": "code",
   "execution_count": 28,
   "metadata": {},
   "outputs": [
    {
     "data": {
      "text/html": [
       "<div style=\"max-height:1000px;max-width:1500px;overflow:auto;\"><table frame=\"box\" rules=\"cols\">\n",
       "    <tr>\n",
       "        <th style=\"padding-left: 1em; padding-right: 1em; text-align: center\">user_id</th>\n",
       "        <th style=\"padding-left: 1em; padding-right: 1em; text-align: center\">business_id</th>\n",
       "        <th style=\"padding-left: 1em; padding-right: 1em; text-align: center\">stars</th>\n",
       "    </tr>\n",
       "    <tr>\n",
       "        <td style=\"padding-left: 1em; padding-right: 1em; text-align: center; vertical-align: top\">oFyOUOeGTRZhFPF9uTqrTQ</td>\n",
       "        <td style=\"padding-left: 1em; padding-right: 1em; text-align: center; vertical-align: top\">--9e1ONYQuAa-CB_Rrw7Tw</td>\n",
       "        <td style=\"padding-left: 1em; padding-right: 1em; text-align: center; vertical-align: top\">5</td>\n",
       "    </tr>\n",
       "    <tr>\n",
       "        <td style=\"padding-left: 1em; padding-right: 1em; text-align: center; vertical-align: top\">C6kw0Rny7jZAGjTj0MWA3Q</td>\n",
       "        <td style=\"padding-left: 1em; padding-right: 1em; text-align: center; vertical-align: top\">--9e1ONYQuAa-CB_Rrw7Tw</td>\n",
       "        <td style=\"padding-left: 1em; padding-right: 1em; text-align: center; vertical-align: top\">5</td>\n",
       "    </tr>\n",
       "    <tr>\n",
       "        <td style=\"padding-left: 1em; padding-right: 1em; text-align: center; vertical-align: top\">lUPSEbFRd3jDOM5agGnjWQ</td>\n",
       "        <td style=\"padding-left: 1em; padding-right: 1em; text-align: center; vertical-align: top\">--9e1ONYQuAa-CB_Rrw7Tw</td>\n",
       "        <td style=\"padding-left: 1em; padding-right: 1em; text-align: center; vertical-align: top\">4</td>\n",
       "    </tr>\n",
       "    <tr>\n",
       "        <td style=\"padding-left: 1em; padding-right: 1em; text-align: center; vertical-align: top\">JaqcCU3nxReTW2cBLHounA</td>\n",
       "        <td style=\"padding-left: 1em; padding-right: 1em; text-align: center; vertical-align: top\">--9e1ONYQuAa-CB_Rrw7Tw</td>\n",
       "        <td style=\"padding-left: 1em; padding-right: 1em; text-align: center; vertical-align: top\">5</td>\n",
       "    </tr>\n",
       "    <tr>\n",
       "        <td style=\"padding-left: 1em; padding-right: 1em; text-align: center; vertical-align: top\">n86B7IkbU20AkxlFX_5aew</td>\n",
       "        <td style=\"padding-left: 1em; padding-right: 1em; text-align: center; vertical-align: top\">--9e1ONYQuAa-CB_Rrw7Tw</td>\n",
       "        <td style=\"padding-left: 1em; padding-right: 1em; text-align: center; vertical-align: top\">4</td>\n",
       "    </tr>\n",
       "    <tr>\n",
       "        <td style=\"padding-left: 1em; padding-right: 1em; text-align: center; vertical-align: top\">3o8c_R-Kv5UOoXXuMEOZAw</td>\n",
       "        <td style=\"padding-left: 1em; padding-right: 1em; text-align: center; vertical-align: top\">--9e1ONYQuAa-CB_Rrw7Tw</td>\n",
       "        <td style=\"padding-left: 1em; padding-right: 1em; text-align: center; vertical-align: top\">3</td>\n",
       "    </tr>\n",
       "    <tr>\n",
       "        <td style=\"padding-left: 1em; padding-right: 1em; text-align: center; vertical-align: top\">611MiIXJkXM82I1y3Hg9eA</td>\n",
       "        <td style=\"padding-left: 1em; padding-right: 1em; text-align: center; vertical-align: top\">--9e1ONYQuAa-CB_Rrw7Tw</td>\n",
       "        <td style=\"padding-left: 1em; padding-right: 1em; text-align: center; vertical-align: top\">4</td>\n",
       "    </tr>\n",
       "    <tr>\n",
       "        <td style=\"padding-left: 1em; padding-right: 1em; text-align: center; vertical-align: top\">HVJgTH5qu0goywOHNpOjPA</td>\n",
       "        <td style=\"padding-left: 1em; padding-right: 1em; text-align: center; vertical-align: top\">--9e1ONYQuAa-CB_Rrw7Tw</td>\n",
       "        <td style=\"padding-left: 1em; padding-right: 1em; text-align: center; vertical-align: top\">5</td>\n",
       "    </tr>\n",
       "    <tr>\n",
       "        <td style=\"padding-left: 1em; padding-right: 1em; text-align: center; vertical-align: top\">togwFqr0eHwect2P2eZXZQ</td>\n",
       "        <td style=\"padding-left: 1em; padding-right: 1em; text-align: center; vertical-align: top\">--9e1ONYQuAa-CB_Rrw7Tw</td>\n",
       "        <td style=\"padding-left: 1em; padding-right: 1em; text-align: center; vertical-align: top\">5</td>\n",
       "    </tr>\n",
       "    <tr>\n",
       "        <td style=\"padding-left: 1em; padding-right: 1em; text-align: center; vertical-align: top\">y4O_c6UUAAtPb3Uk-T4t8A</td>\n",
       "        <td style=\"padding-left: 1em; padding-right: 1em; text-align: center; vertical-align: top\">--9e1ONYQuAa-CB_Rrw7Tw</td>\n",
       "        <td style=\"padding-left: 1em; padding-right: 1em; text-align: center; vertical-align: top\">5</td>\n",
       "    </tr>\n",
       "</table>\n",
       "[10 rows x 3 columns]<br/>\n",
       "</div>"
      ],
      "text/plain": [
       "Columns:\n",
       "\tuser_id\tstr\n",
       "\tbusiness_id\tstr\n",
       "\tstars\tint\n",
       "\n",
       "Rows: 10\n",
       "\n",
       "Data:\n",
       "+------------------------+------------------------+-------+\n",
       "|        user_id         |      business_id       | stars |\n",
       "+------------------------+------------------------+-------+\n",
       "| oFyOUOeGTRZhFPF9uTqrTQ | --9e1ONYQuAa-CB_Rrw7Tw |   5   |\n",
       "| C6kw0Rny7jZAGjTj0MWA3Q | --9e1ONYQuAa-CB_Rrw7Tw |   5   |\n",
       "| lUPSEbFRd3jDOM5agGnjWQ | --9e1ONYQuAa-CB_Rrw7Tw |   4   |\n",
       "| JaqcCU3nxReTW2cBLHounA | --9e1ONYQuAa-CB_Rrw7Tw |   5   |\n",
       "| n86B7IkbU20AkxlFX_5aew | --9e1ONYQuAa-CB_Rrw7Tw |   4   |\n",
       "| 3o8c_R-Kv5UOoXXuMEOZAw | --9e1ONYQuAa-CB_Rrw7Tw |   3   |\n",
       "| 611MiIXJkXM82I1y3Hg9eA | --9e1ONYQuAa-CB_Rrw7Tw |   4   |\n",
       "| HVJgTH5qu0goywOHNpOjPA | --9e1ONYQuAa-CB_Rrw7Tw |   5   |\n",
       "| togwFqr0eHwect2P2eZXZQ | --9e1ONYQuAa-CB_Rrw7Tw |   5   |\n",
       "| y4O_c6UUAAtPb3Uk-T4t8A | --9e1ONYQuAa-CB_Rrw7Tw |   5   |\n",
       "+------------------------+------------------------+-------+\n",
       "[10 rows x 3 columns]"
      ]
     },
     "execution_count": 28,
     "metadata": {},
     "output_type": "execute_result"
    }
   ],
   "source": [
    "sf.head()"
   ]
  },
  {
   "cell_type": "markdown",
   "metadata": {},
   "source": [
    "##  Matrix Factorization recommender\n",
    "\n",
    "Take a look at Graphlab Create examples\n",
    "\n",
    "#### Create a matrix factorization model"
   ]
  },
  {
   "cell_type": "code",
   "execution_count": 15,
   "metadata": {},
   "outputs": [
    {
     "data": {
      "text/html": [
       "<pre>Recsys training: model = factorization_recommender</pre>"
      ],
      "text/plain": [
       "Recsys training: model = factorization_recommender"
      ]
     },
     "metadata": {},
     "output_type": "display_data"
    },
    {
     "data": {
      "text/html": [
       "<pre>Preparing data set.</pre>"
      ],
      "text/plain": [
       "Preparing data set."
      ]
     },
     "metadata": {},
     "output_type": "display_data"
    },
    {
     "data": {
      "text/html": [
       "<pre>    Data has 117389 observations with 5160 users and 4394 items.</pre>"
      ],
      "text/plain": [
       "    Data has 117389 observations with 5160 users and 4394 items."
      ]
     },
     "metadata": {},
     "output_type": "display_data"
    },
    {
     "data": {
      "text/html": [
       "<pre>    Data prepared in: 0.209009s</pre>"
      ],
      "text/plain": [
       "    Data prepared in: 0.209009s"
      ]
     },
     "metadata": {},
     "output_type": "display_data"
    },
    {
     "data": {
      "text/html": [
       "<pre>Training factorization_recommender for recommendations.</pre>"
      ],
      "text/plain": [
       "Training factorization_recommender for recommendations."
      ]
     },
     "metadata": {},
     "output_type": "display_data"
    },
    {
     "data": {
      "text/html": [
       "<pre>+------------------------------+--------------------------------------------------+----------+</pre>"
      ],
      "text/plain": [
       "+------------------------------+--------------------------------------------------+----------+"
      ]
     },
     "metadata": {},
     "output_type": "display_data"
    },
    {
     "data": {
      "text/html": [
       "<pre>| Parameter                    | Description                                      | Value    |</pre>"
      ],
      "text/plain": [
       "| Parameter                    | Description                                      | Value    |"
      ]
     },
     "metadata": {},
     "output_type": "display_data"
    },
    {
     "data": {
      "text/html": [
       "<pre>+------------------------------+--------------------------------------------------+----------+</pre>"
      ],
      "text/plain": [
       "+------------------------------+--------------------------------------------------+----------+"
      ]
     },
     "metadata": {},
     "output_type": "display_data"
    },
    {
     "data": {
      "text/html": [
       "<pre>| num_factors                  | Factor Dimension                                 | 8        |</pre>"
      ],
      "text/plain": [
       "| num_factors                  | Factor Dimension                                 | 8        |"
      ]
     },
     "metadata": {},
     "output_type": "display_data"
    },
    {
     "data": {
      "text/html": [
       "<pre>| regularization               | L2 Regularization on Factors                     | 1e-08    |</pre>"
      ],
      "text/plain": [
       "| regularization               | L2 Regularization on Factors                     | 1e-08    |"
      ]
     },
     "metadata": {},
     "output_type": "display_data"
    },
    {
     "data": {
      "text/html": [
       "<pre>| max_iterations               | Maximum Number of Iterations                     | 50       |</pre>"
      ],
      "text/plain": [
       "| max_iterations               | Maximum Number of Iterations                     | 50       |"
      ]
     },
     "metadata": {},
     "output_type": "display_data"
    },
    {
     "data": {
      "text/html": [
       "<pre>| solver                       | Solver used for training                         | als      |</pre>"
      ],
      "text/plain": [
       "| solver                       | Solver used for training                         | als      |"
      ]
     },
     "metadata": {},
     "output_type": "display_data"
    },
    {
     "data": {
      "text/html": [
       "<pre>+------------------------------+--------------------------------------------------+----------+</pre>"
      ],
      "text/plain": [
       "+------------------------------+--------------------------------------------------+----------+"
      ]
     },
     "metadata": {},
     "output_type": "display_data"
    },
    {
     "data": {
      "text/html": [
       "<pre>+---------+--------------+------------------------+</pre>"
      ],
      "text/plain": [
       "+---------+--------------+------------------------+"
      ]
     },
     "metadata": {},
     "output_type": "display_data"
    },
    {
     "data": {
      "text/html": [
       "<pre>| Iter.   | Elapsed time | RMSE                   |</pre>"
      ],
      "text/plain": [
       "| Iter.   | Elapsed time | RMSE                   |"
      ]
     },
     "metadata": {},
     "output_type": "display_data"
    },
    {
     "data": {
      "text/html": [
       "<pre>+---------+--------------+------------------------+</pre>"
      ],
      "text/plain": [
       "+---------+--------------+------------------------+"
      ]
     },
     "metadata": {},
     "output_type": "display_data"
    },
    {
     "data": {
      "text/html": [
       "<pre>| Initial | 124us        | NA                     |</pre>"
      ],
      "text/plain": [
       "| Initial | 124us        | NA                     |"
      ]
     },
     "metadata": {},
     "output_type": "display_data"
    },
    {
     "data": {
      "text/html": [
       "<pre>+---------+--------------+------------------------+</pre>"
      ],
      "text/plain": [
       "+---------+--------------+------------------------+"
      ]
     },
     "metadata": {},
     "output_type": "display_data"
    },
    {
     "data": {
      "text/html": [
       "<pre>| 0       | 118.174ms    | 0.91151                |</pre>"
      ],
      "text/plain": [
       "| 0       | 118.174ms    | 0.91151                |"
      ]
     },
     "metadata": {},
     "output_type": "display_data"
    },
    {
     "data": {
      "text/html": [
       "<pre>| 1       | 232.89ms     | 0.714831               |</pre>"
      ],
      "text/plain": [
       "| 1       | 232.89ms     | 0.714831               |"
      ]
     },
     "metadata": {},
     "output_type": "display_data"
    },
    {
     "data": {
      "text/html": [
       "<pre>| 2       | 316.404ms    | 0.66476                |</pre>"
      ],
      "text/plain": [
       "| 2       | 316.404ms    | 0.66476                |"
      ]
     },
     "metadata": {},
     "output_type": "display_data"
    },
    {
     "data": {
      "text/html": [
       "<pre>| 3       | 415.319ms    | 0.638811               |</pre>"
      ],
      "text/plain": [
       "| 3       | 415.319ms    | 0.638811               |"
      ]
     },
     "metadata": {},
     "output_type": "display_data"
    },
    {
     "data": {
      "text/html": [
       "<pre>| 4       | 495.191ms    | 0.621515               |</pre>"
      ],
      "text/plain": [
       "| 4       | 495.191ms    | 0.621515               |"
      ]
     },
     "metadata": {},
     "output_type": "display_data"
    },
    {
     "data": {
      "text/html": [
       "<pre>| 5       | 570.286ms    | 0.608563               |</pre>"
      ],
      "text/plain": [
       "| 5       | 570.286ms    | 0.608563               |"
      ]
     },
     "metadata": {},
     "output_type": "display_data"
    },
    {
     "data": {
      "text/html": [
       "<pre>| 6       | 648.529ms    | 0.5983                 |</pre>"
      ],
      "text/plain": [
       "| 6       | 648.529ms    | 0.5983                 |"
      ]
     },
     "metadata": {},
     "output_type": "display_data"
    },
    {
     "data": {
      "text/html": [
       "<pre>| 7       | 733.236ms    | 0.589933               |</pre>"
      ],
      "text/plain": [
       "| 7       | 733.236ms    | 0.589933               |"
      ]
     },
     "metadata": {},
     "output_type": "display_data"
    },
    {
     "data": {
      "text/html": [
       "<pre>| 8       | 820.958ms    | 0.583017               |</pre>"
      ],
      "text/plain": [
       "| 8       | 820.958ms    | 0.583017               |"
      ]
     },
     "metadata": {},
     "output_type": "display_data"
    },
    {
     "data": {
      "text/html": [
       "<pre>| 9       | 897.445ms    | 0.577149               |</pre>"
      ],
      "text/plain": [
       "| 9       | 897.445ms    | 0.577149               |"
      ]
     },
     "metadata": {},
     "output_type": "display_data"
    },
    {
     "data": {
      "text/html": [
       "<pre>| 10      | 979.245ms    | 0.572044               |</pre>"
      ],
      "text/plain": [
       "| 10      | 979.245ms    | 0.572044               |"
      ]
     },
     "metadata": {},
     "output_type": "display_data"
    },
    {
     "data": {
      "text/html": [
       "<pre>| 11      | 1.05s        | 0.567545               |</pre>"
      ],
      "text/plain": [
       "| 11      | 1.05s        | 0.567545               |"
      ]
     },
     "metadata": {},
     "output_type": "display_data"
    },
    {
     "data": {
      "text/html": [
       "<pre>| 12      | 1.13s        | 0.563523               |</pre>"
      ],
      "text/plain": [
       "| 12      | 1.13s        | 0.563523               |"
      ]
     },
     "metadata": {},
     "output_type": "display_data"
    },
    {
     "data": {
      "text/html": [
       "<pre>| 13      | 1.21s        | 0.559877               |</pre>"
      ],
      "text/plain": [
       "| 13      | 1.21s        | 0.559877               |"
      ]
     },
     "metadata": {},
     "output_type": "display_data"
    },
    {
     "data": {
      "text/html": [
       "<pre>| 14      | 1.29s        | 0.556589               |</pre>"
      ],
      "text/plain": [
       "| 14      | 1.29s        | 0.556589               |"
      ]
     },
     "metadata": {},
     "output_type": "display_data"
    },
    {
     "data": {
      "text/html": [
       "<pre>| 15      | 1.40s        | 0.553595               |</pre>"
      ],
      "text/plain": [
       "| 15      | 1.40s        | 0.553595               |"
      ]
     },
     "metadata": {},
     "output_type": "display_data"
    },
    {
     "data": {
      "text/html": [
       "<pre>| 16      | 1.50s        | 0.550869               |</pre>"
      ],
      "text/plain": [
       "| 16      | 1.50s        | 0.550869               |"
      ]
     },
     "metadata": {},
     "output_type": "display_data"
    },
    {
     "data": {
      "text/html": [
       "<pre>| 17      | 1.60s        | 0.548386               |</pre>"
      ],
      "text/plain": [
       "| 17      | 1.60s        | 0.548386               |"
      ]
     },
     "metadata": {},
     "output_type": "display_data"
    },
    {
     "data": {
      "text/html": [
       "<pre>| 18      | 1.69s        | 0.54611                |</pre>"
      ],
      "text/plain": [
       "| 18      | 1.69s        | 0.54611                |"
      ]
     },
     "metadata": {},
     "output_type": "display_data"
    },
    {
     "data": {
      "text/html": [
       "<pre>| 19      | 1.76s        | 0.544025               |</pre>"
      ],
      "text/plain": [
       "| 19      | 1.76s        | 0.544025               |"
      ]
     },
     "metadata": {},
     "output_type": "display_data"
    },
    {
     "data": {
      "text/html": [
       "<pre>| 20      | 1.84s        | 0.542103               |</pre>"
      ],
      "text/plain": [
       "| 20      | 1.84s        | 0.542103               |"
      ]
     },
     "metadata": {},
     "output_type": "display_data"
    },
    {
     "data": {
      "text/html": [
       "<pre>| 21      | 1.91s        | 0.540325               |</pre>"
      ],
      "text/plain": [
       "| 21      | 1.91s        | 0.540325               |"
      ]
     },
     "metadata": {},
     "output_type": "display_data"
    },
    {
     "data": {
      "text/html": [
       "<pre>| 22      | 1.99s        | 0.53866                |</pre>"
      ],
      "text/plain": [
       "| 22      | 1.99s        | 0.53866                |"
      ]
     },
     "metadata": {},
     "output_type": "display_data"
    },
    {
     "data": {
      "text/html": [
       "<pre>| 23      | 2.08s        | 0.537107               |</pre>"
      ],
      "text/plain": [
       "| 23      | 2.08s        | 0.537107               |"
      ]
     },
     "metadata": {},
     "output_type": "display_data"
    },
    {
     "data": {
      "text/html": [
       "<pre>| 24      | 2.16s        | 0.535665               |</pre>"
      ],
      "text/plain": [
       "| 24      | 2.16s        | 0.535665               |"
      ]
     },
     "metadata": {},
     "output_type": "display_data"
    },
    {
     "data": {
      "text/html": [
       "<pre>| 25      | 2.24s        | 0.534315               |</pre>"
      ],
      "text/plain": [
       "| 25      | 2.24s        | 0.534315               |"
      ]
     },
     "metadata": {},
     "output_type": "display_data"
    },
    {
     "data": {
      "text/html": [
       "<pre>| 26      | 2.31s        | 0.533041               |</pre>"
      ],
      "text/plain": [
       "| 26      | 2.31s        | 0.533041               |"
      ]
     },
     "metadata": {},
     "output_type": "display_data"
    },
    {
     "data": {
      "text/html": [
       "<pre>| 27      | 2.40s        | 0.531831               |</pre>"
      ],
      "text/plain": [
       "| 27      | 2.40s        | 0.531831               |"
      ]
     },
     "metadata": {},
     "output_type": "display_data"
    },
    {
     "data": {
      "text/html": [
       "<pre>| 28      | 2.48s        | 0.530682               |</pre>"
      ],
      "text/plain": [
       "| 28      | 2.48s        | 0.530682               |"
      ]
     },
     "metadata": {},
     "output_type": "display_data"
    },
    {
     "data": {
      "text/html": [
       "<pre>| 29      | 2.56s        | 0.529589               |</pre>"
      ],
      "text/plain": [
       "| 29      | 2.56s        | 0.529589               |"
      ]
     },
     "metadata": {},
     "output_type": "display_data"
    },
    {
     "data": {
      "text/html": [
       "<pre>| 30      | 2.64s        | 0.528548               |</pre>"
      ],
      "text/plain": [
       "| 30      | 2.64s        | 0.528548               |"
      ]
     },
     "metadata": {},
     "output_type": "display_data"
    },
    {
     "data": {
      "text/html": [
       "<pre>| 31      | 2.72s        | 0.527549               |</pre>"
      ],
      "text/plain": [
       "| 31      | 2.72s        | 0.527549               |"
      ]
     },
     "metadata": {},
     "output_type": "display_data"
    },
    {
     "data": {
      "text/html": [
       "<pre>| 32      | 2.79s        | 0.526591               |</pre>"
      ],
      "text/plain": [
       "| 32      | 2.79s        | 0.526591               |"
      ]
     },
     "metadata": {},
     "output_type": "display_data"
    },
    {
     "data": {
      "text/html": [
       "<pre>| 33      | 2.87s        | 0.525679               |</pre>"
      ],
      "text/plain": [
       "| 33      | 2.87s        | 0.525679               |"
      ]
     },
     "metadata": {},
     "output_type": "display_data"
    },
    {
     "data": {
      "text/html": [
       "<pre>| 34      | 2.96s        | 0.524802               |</pre>"
      ],
      "text/plain": [
       "| 34      | 2.96s        | 0.524802               |"
      ]
     },
     "metadata": {},
     "output_type": "display_data"
    },
    {
     "data": {
      "text/html": [
       "<pre>| 35      | 3.06s        | 0.523958               |</pre>"
      ],
      "text/plain": [
       "| 35      | 3.06s        | 0.523958               |"
      ]
     },
     "metadata": {},
     "output_type": "display_data"
    },
    {
     "data": {
      "text/html": [
       "<pre>| 36      | 3.15s        | 0.523138               |</pre>"
      ],
      "text/plain": [
       "| 36      | 3.15s        | 0.523138               |"
      ]
     },
     "metadata": {},
     "output_type": "display_data"
    },
    {
     "data": {
      "text/html": [
       "<pre>| 37      | 3.23s        | 0.522352               |</pre>"
      ],
      "text/plain": [
       "| 37      | 3.23s        | 0.522352               |"
      ]
     },
     "metadata": {},
     "output_type": "display_data"
    },
    {
     "data": {
      "text/html": [
       "<pre>| 38      | 3.35s        | 0.52159                |</pre>"
      ],
      "text/plain": [
       "| 38      | 3.35s        | 0.52159                |"
      ]
     },
     "metadata": {},
     "output_type": "display_data"
    },
    {
     "data": {
      "text/html": [
       "<pre>| 39      | 3.52s        | 0.520849               |</pre>"
      ],
      "text/plain": [
       "| 39      | 3.52s        | 0.520849               |"
      ]
     },
     "metadata": {},
     "output_type": "display_data"
    },
    {
     "data": {
      "text/html": [
       "<pre>| 40      | 3.69s        | 0.520134               |</pre>"
      ],
      "text/plain": [
       "| 40      | 3.69s        | 0.520134               |"
      ]
     },
     "metadata": {},
     "output_type": "display_data"
    },
    {
     "data": {
      "text/html": [
       "<pre>| 41      | 3.79s        | 0.519437               |</pre>"
      ],
      "text/plain": [
       "| 41      | 3.79s        | 0.519437               |"
      ]
     },
     "metadata": {},
     "output_type": "display_data"
    },
    {
     "data": {
      "text/html": [
       "<pre>| 42      | 3.90s        | 0.518755               |</pre>"
      ],
      "text/plain": [
       "| 42      | 3.90s        | 0.518755               |"
      ]
     },
     "metadata": {},
     "output_type": "display_data"
    },
    {
     "data": {
      "text/html": [
       "<pre>| 43      | 3.98s        | 0.518089               |</pre>"
      ],
      "text/plain": [
       "| 43      | 3.98s        | 0.518089               |"
      ]
     },
     "metadata": {},
     "output_type": "display_data"
    },
    {
     "data": {
      "text/html": [
       "<pre>| 44      | 4.07s        | 0.517452               |</pre>"
      ],
      "text/plain": [
       "| 44      | 4.07s        | 0.517452               |"
      ]
     },
     "metadata": {},
     "output_type": "display_data"
    },
    {
     "data": {
      "text/html": [
       "<pre>| 45      | 4.22s        | 0.51684                |</pre>"
      ],
      "text/plain": [
       "| 45      | 4.22s        | 0.51684                |"
      ]
     },
     "metadata": {},
     "output_type": "display_data"
    },
    {
     "data": {
      "text/html": [
       "<pre>| 46      | 4.69s        | 0.516252               |</pre>"
      ],
      "text/plain": [
       "| 46      | 4.69s        | 0.516252               |"
      ]
     },
     "metadata": {},
     "output_type": "display_data"
    },
    {
     "data": {
      "text/html": [
       "<pre>| 47      | 4.97s        | 0.515681               |</pre>"
      ],
      "text/plain": [
       "| 47      | 4.97s        | 0.515681               |"
      ]
     },
     "metadata": {},
     "output_type": "display_data"
    },
    {
     "data": {
      "text/html": [
       "<pre>| 48      | 5.17s        | 0.515131               |</pre>"
      ],
      "text/plain": [
       "| 48      | 5.17s        | 0.515131               |"
      ]
     },
     "metadata": {},
     "output_type": "display_data"
    },
    {
     "data": {
      "text/html": [
       "<pre>| 49      | 5.30s        | 0.514596               |</pre>"
      ],
      "text/plain": [
       "| 49      | 5.30s        | 0.514596               |"
      ]
     },
     "metadata": {},
     "output_type": "display_data"
    },
    {
     "data": {
      "text/html": [
       "<pre>| FINAL   | 5.30s        | 0.514596               |</pre>"
      ],
      "text/plain": [
       "| FINAL   | 5.30s        | 0.514596               |"
      ]
     },
     "metadata": {},
     "output_type": "display_data"
    },
    {
     "data": {
      "text/html": [
       "<pre>+---------+--------------+------------------------+</pre>"
      ],
      "text/plain": [
       "+---------+--------------+------------------------+"
      ]
     },
     "metadata": {},
     "output_type": "display_data"
    },
    {
     "data": {
      "text/html": [
       "<pre>Optimization Complete: Iteration limit reached.</pre>"
      ],
      "text/plain": [
       "Optimization Complete: Iteration limit reached."
      ]
     },
     "metadata": {},
     "output_type": "display_data"
    }
   ],
   "source": [
    "rec = graphlab.recommender.factorization_recommender.create(\n",
    "            sf,\n",
    "            user_id='user_id',\n",
    "            item_id='business_id',\n",
    "            target='stars',\n",
    "            solver='als',\n",
    "            side_data_factorization=False)"
   ]
  },
  {
   "cell_type": "markdown",
   "metadata": {},
   "source": [
    "#### Call the predict method on your input data to get the predicted rating for a user of a restaurant."
   ]
  },
  {
   "cell_type": "code",
   "execution_count": 32,
   "metadata": {},
   "outputs": [
    {
     "data": {
      "text/plain": [
       "{'business_id': '--9e1ONYQuAa-CB_Rrw7Tw',\n",
       " 'stars': 5,\n",
       " 'user_id': 'oFyOUOeGTRZhFPF9uTqrTQ'}"
      ]
     },
     "execution_count": 32,
     "metadata": {},
     "output_type": "execute_result"
    }
   ],
   "source": [
    "# get the user_id, business_id, and the original rating\n",
    "sf[0]"
   ]
  },
  {
   "cell_type": "code",
   "execution_count": 33,
   "metadata": {},
   "outputs": [
    {
     "data": {
      "text/html": [
       "<div style=\"max-height:1000px;max-width:1500px;overflow:auto;\"><table frame=\"box\" rules=\"cols\">\n",
       "    <tr>\n",
       "        <th style=\"padding-left: 1em; padding-right: 1em; text-align: center\">business_id</th>\n",
       "        <th style=\"padding-left: 1em; padding-right: 1em; text-align: center\">user_id</th>\n",
       "    </tr>\n",
       "    <tr>\n",
       "        <td style=\"padding-left: 1em; padding-right: 1em; text-align: center; vertical-align: top\">--9e1ONYQuAa-CB_Rrw7Tw</td>\n",
       "        <td style=\"padding-left: 1em; padding-right: 1em; text-align: center; vertical-align: top\">oFyOUOeGTRZhFPF9uTqrTQ</td>\n",
       "    </tr>\n",
       "</table>\n",
       "[1 rows x 2 columns]<br/>\n",
       "</div>"
      ],
      "text/plain": [
       "Columns:\n",
       "\tbusiness_id\tstr\n",
       "\tuser_id\tstr\n",
       "\n",
       "Rows: 1\n",
       "\n",
       "Data:\n",
       "+------------------------+------------------------+\n",
       "|      business_id       |        user_id         |\n",
       "+------------------------+------------------------+\n",
       "| --9e1ONYQuAa-CB_Rrw7Tw | oFyOUOeGTRZhFPF9uTqrTQ |\n",
       "+------------------------+------------------------+\n",
       "[1 rows x 2 columns]"
      ]
     },
     "execution_count": 33,
     "metadata": {},
     "output_type": "execute_result"
    }
   ],
   "source": [
    "one_datapoint_sf = graphlab.SFrame({'user_id': ['oFyOUOeGTRZhFPF9uTqrTQ'], \n",
    "                                    'business_id': ['--9e1ONYQuAa-CB_Rrw7Tw']})\n",
    "one_datapoint_sf"
   ]
  },
  {
   "cell_type": "code",
   "execution_count": 34,
   "metadata": {},
   "outputs": [
    {
     "data": {
      "text/plain": [
       "5.190843874615112"
      ]
     },
     "execution_count": 34,
     "metadata": {},
     "output_type": "execute_result"
    }
   ],
   "source": [
    "# see if the predicted rating makes sense\n",
    "rec.predict(one_datapoint_sf)[0]"
   ]
  },
  {
   "cell_type": "markdown",
   "metadata": {},
   "source": [
    "#### On the returned model object, call the list_fields method to see what kind of data is stored for your model."
   ]
  },
  {
   "cell_type": "code",
   "execution_count": 35,
   "metadata": {},
   "outputs": [
    {
     "data": {
      "text/plain": [
       "['adagrad_momentum_weighting',\n",
       " 'additional_iterations_if_unhealthy',\n",
       " 'binary_target',\n",
       " 'coefficients',\n",
       " 'data_load_time',\n",
       " 'init_random_sigma',\n",
       " 'item_id',\n",
       " 'item_side_data_column_names',\n",
       " 'item_side_data_column_types',\n",
       " 'linear_regularization',\n",
       " 'max_iterations',\n",
       " 'model_name',\n",
       " 'nmf',\n",
       " 'num_factors',\n",
       " 'num_features',\n",
       " 'num_item_side_features',\n",
       " 'num_items',\n",
       " 'num_observations',\n",
       " 'num_tempering_iterations',\n",
       " 'num_user_side_features',\n",
       " 'num_users',\n",
       " 'observation_data_column_names',\n",
       " 'random_seed',\n",
       " 'regularization',\n",
       " 'regularization_type',\n",
       " 'sgd_convergence_interval',\n",
       " 'sgd_convergence_threshold',\n",
       " 'sgd_max_trial_iterations',\n",
       " 'sgd_sampling_block_size',\n",
       " 'sgd_step_adjustment_interval',\n",
       " 'sgd_step_size',\n",
       " 'sgd_trial_sample_minimum_size',\n",
       " 'sgd_trial_sample_proportion',\n",
       " 'side_data_factorization',\n",
       " 'solver',\n",
       " 'step_size_decrease_rate',\n",
       " 'target',\n",
       " 'tempering_regularization_start_value',\n",
       " 'track_exact_loss',\n",
       " 'training_rmse',\n",
       " 'training_stats',\n",
       " 'training_time',\n",
       " 'user_id',\n",
       " 'user_side_data_column_names',\n",
       " 'user_side_data_column_types']"
      ]
     },
     "execution_count": 35,
     "metadata": {},
     "output_type": "execute_result"
    }
   ],
   "source": [
    "rec.list_fields()"
   ]
  },
  {
   "cell_type": "markdown",
   "metadata": {},
   "source": [
    "#### Inspect the output of get('coefficients') to see what information your model uses."
   ]
  },
  {
   "cell_type": "code",
   "execution_count": 36,
   "metadata": {},
   "outputs": [
    {
     "data": {
      "text/plain": [
       "{'business_id': Columns:\n",
       " \tbusiness_id\tstr\n",
       " \tlinear_terms\tfloat\n",
       " \tfactors\tarray\n",
       " \n",
       " Rows: 4394\n",
       " \n",
       " Data:\n",
       " +------------------------+--------------+-------------------------------+\n",
       " |      business_id       | linear_terms |            factors            |\n",
       " +------------------------+--------------+-------------------------------+\n",
       " | --9e1ONYQuAa-CB_Rrw7Tw |     0.0      | [0.0900035127997, -0.07425... |\n",
       " | -1m9o3vGRA8IBPNvNqKLmA |     0.0      | [1.24483847618, 3.63663077... |\n",
       " | -1vfRrlnNnNJ5boOVghMPA |     0.0      | [-0.0314954519272, -0.0948... |\n",
       " | -3zffZUHoY8bQjGfPSoBKQ |     0.0      | [0.626619040966, -0.141688... |\n",
       " | -8R_-EkGpUhBk55K9Dd4mg |     0.0      | [-0.0709431096911, 0.12764... |\n",
       " | -9YyInW1wapzdNZrhQJ9dg |     0.0      | [0.797298967838, -0.018459... |\n",
       " | -AD5PiuJHgdUcAK-Vxao2A |     0.0      | [-0.11172413826, -0.289737... |\n",
       " | -ADtl9bLp8wNqYX1k3KuxA |     0.0      | [0.0426351353526, 0.230083... |\n",
       " | -BS4aZAQm9u41YnB9MUASA |     0.0      | [0.0907431989908, 0.029872... |\n",
       " | -Bf8BQ3yMk8U2f45r2DRKw |     0.0      | [0.135774388909, -0.182876... |\n",
       " +------------------------+--------------+-------------------------------+\n",
       " [4394 rows x 3 columns]\n",
       " Note: Only the head of the SFrame is printed.\n",
       " You can use print_rows(num_rows=m, num_columns=n) to print more rows and columns.,\n",
       " 'intercept': 3.8195827547725827,\n",
       " 'user_id': Columns:\n",
       " \tuser_id\tstr\n",
       " \tlinear_terms\tfloat\n",
       " \tfactors\tarray\n",
       " \n",
       " Rows: 5160\n",
       " \n",
       " Data:\n",
       " +------------------------+--------------+-------------------------------+\n",
       " |        user_id         | linear_terms |            factors            |\n",
       " +------------------------+--------------+-------------------------------+\n",
       " | oFyOUOeGTRZhFPF9uTqrTQ |     0.0      | [0.59014570713, -1.8838046... |\n",
       " | C6kw0Rny7jZAGjTj0MWA3Q |     0.0      | [3.23163032532, 2.22030091... |\n",
       " | lUPSEbFRd3jDOM5agGnjWQ |     0.0      | [-0.531638085842, -0.51736... |\n",
       " | JaqcCU3nxReTW2cBLHounA |     0.0      | [-0.288485467434, 0.583741... |\n",
       " | n86B7IkbU20AkxlFX_5aew |     0.0      | [3.99360156059, 3.17976856... |\n",
       " | 3o8c_R-Kv5UOoXXuMEOZAw |     0.0      | [-3.38676309586, 2.3717594... |\n",
       " | 611MiIXJkXM82I1y3Hg9eA |     0.0      | [6.99374580383, -2.8779799... |\n",
       " | HVJgTH5qu0goywOHNpOjPA |     0.0      | [2.22386932373, -3.4902637... |\n",
       " | togwFqr0eHwect2P2eZXZQ |     0.0      | [-2.49953126907, -0.646145... |\n",
       " | y4O_c6UUAAtPb3Uk-T4t8A |     0.0      | [2.19034647942, -1.1275672... |\n",
       " +------------------------+--------------+-------------------------------+\n",
       " [5160 rows x 3 columns]\n",
       " Note: Only the head of the SFrame is printed.\n",
       " You can use print_rows(num_rows=m, num_columns=n) to print more rows and columns.}"
      ]
     },
     "execution_count": 36,
     "metadata": {},
     "output_type": "execute_result"
    }
   ],
   "source": [
    "rec['coefficients'] "
   ]
  },
  {
   "cell_type": "code",
   "execution_count": 50,
   "metadata": {},
   "outputs": [
    {
     "name": "stdout",
     "output_type": "stream",
     "text": [
      "(4394, 5160)\n",
      "(8, 8)\n"
     ]
    }
   ],
   "source": [
    "item_sf = rec['coefficients']['business_id']\n",
    "user_sf = rec['coefficients']['user_id']\n",
    "print(len(item_sf), len(user_sf))\n",
    "print(len(item_sf['factors'][0]), len(user_sf['factors'][0])) "
   ]
  },
  {
   "cell_type": "markdown",
   "metadata": {},
   "source": [
    "#### Without using the predict method, compute the predicted rating"
   ]
  },
  {
   "cell_type": "code",
   "execution_count": 48,
   "metadata": {},
   "outputs": [
    {
     "name": "stdout",
     "output_type": "stream",
     "text": [
      "('rating:', 5.1908438213766566)\n"
     ]
    }
   ],
   "source": [
    "item_array = item_sf[item_sf['business_id'] == '--9e1ONYQuAa-CB_Rrw7Tw']['factors'][0]\n",
    "user_array = user_sf[user_sf['user_id'] == 'oFyOUOeGTRZhFPF9uTqrTQ']['factors'][0]\n",
    "intercept = rec['coefficients']['intercept']\n",
    "print(\"rating:\", np.dot(item_array, user_array) + intercept)    # 4"
   ]
  },
  {
   "cell_type": "markdown",
   "metadata": {},
   "source": [
    "#### The intercept term is the scaling factor. We can compute the value by taking the average of all the ratings in the original dataset."
   ]
  },
  {
   "cell_type": "code",
   "execution_count": 53,
   "metadata": {},
   "outputs": [
    {
     "name": "stdout",
     "output_type": "stream",
     "text": [
      "('intercept:', 3.8195827547725827)\n",
      "('average:', 3.8195827547725938)\n"
     ]
    }
   ],
   "source": [
    "print(\"intercept:\", intercept)\n",
    "print(\"average:\", np.average(sf['stars']))"
   ]
  },
  {
   "cell_type": "markdown",
   "metadata": {},
   "source": [
    "#### Call the predict method on your input data to get the predicted ratings, and verify that the RMSE reported by the model diagnostics is correct."
   ]
  },
  {
   "cell_type": "code",
   "execution_count": 56,
   "metadata": {},
   "outputs": [
    {
     "name": "stdout",
     "output_type": "stream",
     "text": [
      "(\"graphlab's reported rmse:\", 0.5145963002395231)\n",
      "('calculated rmse:', 0.51459630023952319)\n"
     ]
    }
   ],
   "source": [
    "from sklearn.metrics import mean_squared_error\n",
    "\n",
    "predictions = rec.predict(sf)\n",
    "rmse = np.sqrt(mean_squared_error(sf['stars'], predictions))\n",
    "\n",
    "print(\"graphlab's reported rmse:\", rec['training_rmse'])\n",
    "print(\"calculated rmse:\", rmse)"
   ]
  },
  {
   "cell_type": "code",
   "execution_count": 60,
   "metadata": {},
   "outputs": [
    {
     "data": {
      "text/plain": [
       "count    117389.000000\n",
       "mean          3.816336\n",
       "std           1.105862\n",
       "min          -0.364522\n",
       "25%           3.254590\n",
       "50%           4.005467\n",
       "75%           4.660924\n",
       "max           6.756745\n",
       "dtype: float64"
      ]
     },
     "execution_count": 60,
     "metadata": {},
     "output_type": "execute_result"
    }
   ],
   "source": [
    "pd.Series(rec.predict(sf)).describe()"
   ]
  },
  {
   "cell_type": "code",
   "execution_count": 58,
   "metadata": {},
   "outputs": [
    {
     "data": {
      "text/plain": [
       "count    117389.000000\n",
       "mean          3.819583\n",
       "std           1.219838\n",
       "min           1.000000\n",
       "25%           3.000000\n",
       "50%           4.000000\n",
       "75%           5.000000\n",
       "max           5.000000\n",
       "dtype: float64"
      ]
     },
     "execution_count": 58,
     "metadata": {},
     "output_type": "execute_result"
    }
   ],
   "source": [
    "pd.Series(sf['stars']).describe()"
   ]
  },
  {
   "cell_type": "markdown",
   "metadata": {},
   "source": [
    "### Regularization - graphlab provides two regularization parameters.\n",
    "The parameter regularization controls the value of lambda. Using what you know about regularization from linear regression, what effect would you expect this to have on solutions? What would you expect to see in the difference of training RMSE between setting this parameter to 0 or 0.1? Try it."
   ]
  },
  {
   "cell_type": "code",
   "execution_count": 66,
   "metadata": {},
   "outputs": [
    {
     "data": {
      "text/html": [
       "<pre>Recsys training: model = factorization_recommender</pre>"
      ],
      "text/plain": [
       "Recsys training: model = factorization_recommender"
      ]
     },
     "metadata": {},
     "output_type": "display_data"
    },
    {
     "data": {
      "text/html": [
       "<pre>Preparing data set.</pre>"
      ],
      "text/plain": [
       "Preparing data set."
      ]
     },
     "metadata": {},
     "output_type": "display_data"
    },
    {
     "data": {
      "text/html": [
       "<pre>    Data has 117389 observations with 5160 users and 4394 items.</pre>"
      ],
      "text/plain": [
       "    Data has 117389 observations with 5160 users and 4394 items."
      ]
     },
     "metadata": {},
     "output_type": "display_data"
    },
    {
     "data": {
      "text/html": [
       "<pre>    Data prepared in: 0.257337s</pre>"
      ],
      "text/plain": [
       "    Data prepared in: 0.257337s"
      ]
     },
     "metadata": {},
     "output_type": "display_data"
    },
    {
     "data": {
      "text/html": [
       "<pre>Training factorization_recommender for recommendations.</pre>"
      ],
      "text/plain": [
       "Training factorization_recommender for recommendations."
      ]
     },
     "metadata": {},
     "output_type": "display_data"
    },
    {
     "data": {
      "text/html": [
       "<pre>+------------------------------+--------------------------------------------------+----------+</pre>"
      ],
      "text/plain": [
       "+------------------------------+--------------------------------------------------+----------+"
      ]
     },
     "metadata": {},
     "output_type": "display_data"
    },
    {
     "data": {
      "text/html": [
       "<pre>| Parameter                    | Description                                      | Value    |</pre>"
      ],
      "text/plain": [
       "| Parameter                    | Description                                      | Value    |"
      ]
     },
     "metadata": {},
     "output_type": "display_data"
    },
    {
     "data": {
      "text/html": [
       "<pre>+------------------------------+--------------------------------------------------+----------+</pre>"
      ],
      "text/plain": [
       "+------------------------------+--------------------------------------------------+----------+"
      ]
     },
     "metadata": {},
     "output_type": "display_data"
    },
    {
     "data": {
      "text/html": [
       "<pre>| num_factors                  | Factor Dimension                                 | 8        |</pre>"
      ],
      "text/plain": [
       "| num_factors                  | Factor Dimension                                 | 8        |"
      ]
     },
     "metadata": {},
     "output_type": "display_data"
    },
    {
     "data": {
      "text/html": [
       "<pre>| regularization               | L2 Regularization on Factors                     | 1e-06    |</pre>"
      ],
      "text/plain": [
       "| regularization               | L2 Regularization on Factors                     | 1e-06    |"
      ]
     },
     "metadata": {},
     "output_type": "display_data"
    },
    {
     "data": {
      "text/html": [
       "<pre>| max_iterations               | Maximum Number of Iterations                     | 50       |</pre>"
      ],
      "text/plain": [
       "| max_iterations               | Maximum Number of Iterations                     | 50       |"
      ]
     },
     "metadata": {},
     "output_type": "display_data"
    },
    {
     "data": {
      "text/html": [
       "<pre>| solver                       | Solver used for training                         | als      |</pre>"
      ],
      "text/plain": [
       "| solver                       | Solver used for training                         | als      |"
      ]
     },
     "metadata": {},
     "output_type": "display_data"
    },
    {
     "data": {
      "text/html": [
       "<pre>+------------------------------+--------------------------------------------------+----------+</pre>"
      ],
      "text/plain": [
       "+------------------------------+--------------------------------------------------+----------+"
      ]
     },
     "metadata": {},
     "output_type": "display_data"
    },
    {
     "data": {
      "text/html": [
       "<pre>+---------+--------------+------------------------+</pre>"
      ],
      "text/plain": [
       "+---------+--------------+------------------------+"
      ]
     },
     "metadata": {},
     "output_type": "display_data"
    },
    {
     "data": {
      "text/html": [
       "<pre>| Iter.   | Elapsed time | RMSE                   |</pre>"
      ],
      "text/plain": [
       "| Iter.   | Elapsed time | RMSE                   |"
      ]
     },
     "metadata": {},
     "output_type": "display_data"
    },
    {
     "data": {
      "text/html": [
       "<pre>+---------+--------------+------------------------+</pre>"
      ],
      "text/plain": [
       "+---------+--------------+------------------------+"
      ]
     },
     "metadata": {},
     "output_type": "display_data"
    },
    {
     "data": {
      "text/html": [
       "<pre>| Initial | 125us        | NA                     |</pre>"
      ],
      "text/plain": [
       "| Initial | 125us        | NA                     |"
      ]
     },
     "metadata": {},
     "output_type": "display_data"
    },
    {
     "data": {
      "text/html": [
       "<pre>+---------+--------------+------------------------+</pre>"
      ],
      "text/plain": [
       "+---------+--------------+------------------------+"
      ]
     },
     "metadata": {},
     "output_type": "display_data"
    },
    {
     "data": {
      "text/html": [
       "<pre>| 0       | 205.808ms    | 1.09521                |</pre>"
      ],
      "text/plain": [
       "| 0       | 205.808ms    | 1.09521                |"
      ]
     },
     "metadata": {},
     "output_type": "display_data"
    },
    {
     "data": {
      "text/html": [
       "<pre>| 1       | 303.939ms    | 0.748012               |</pre>"
      ],
      "text/plain": [
       "| 1       | 303.939ms    | 0.748012               |"
      ]
     },
     "metadata": {},
     "output_type": "display_data"
    },
    {
     "data": {
      "text/html": [
       "<pre>| 2       | 398.014ms    | 0.685419               |</pre>"
      ],
      "text/plain": [
       "| 2       | 398.014ms    | 0.685419               |"
      ]
     },
     "metadata": {},
     "output_type": "display_data"
    },
    {
     "data": {
      "text/html": [
       "<pre>| 3       | 492.255ms    | 0.653557               |</pre>"
      ],
      "text/plain": [
       "| 3       | 492.255ms    | 0.653557               |"
      ]
     },
     "metadata": {},
     "output_type": "display_data"
    },
    {
     "data": {
      "text/html": [
       "<pre>| 4       | 591.031ms    | 0.632104               |</pre>"
      ],
      "text/plain": [
       "| 4       | 591.031ms    | 0.632104               |"
      ]
     },
     "metadata": {},
     "output_type": "display_data"
    },
    {
     "data": {
      "text/html": [
       "<pre>| 5       | 692.913ms    | 0.616138               |</pre>"
      ],
      "text/plain": [
       "| 5       | 692.913ms    | 0.616138               |"
      ]
     },
     "metadata": {},
     "output_type": "display_data"
    },
    {
     "data": {
      "text/html": [
       "<pre>| 6       | 838.183ms    | 0.603544               |</pre>"
      ],
      "text/plain": [
       "| 6       | 838.183ms    | 0.603544               |"
      ]
     },
     "metadata": {},
     "output_type": "display_data"
    },
    {
     "data": {
      "text/html": [
       "<pre>| 7       | 1.00s        | 0.593232               |</pre>"
      ],
      "text/plain": [
       "| 7       | 1.00s        | 0.593232               |"
      ]
     },
     "metadata": {},
     "output_type": "display_data"
    },
    {
     "data": {
      "text/html": [
       "<pre>| 8       | 1.11s        | 0.584618               |</pre>"
      ],
      "text/plain": [
       "| 8       | 1.11s        | 0.584618               |"
      ]
     },
     "metadata": {},
     "output_type": "display_data"
    },
    {
     "data": {
      "text/html": [
       "<pre>| 9       | 1.24s        | 0.577329               |</pre>"
      ],
      "text/plain": [
       "| 9       | 1.24s        | 0.577329               |"
      ]
     },
     "metadata": {},
     "output_type": "display_data"
    },
    {
     "data": {
      "text/html": [
       "<pre>| 10      | 1.36s        | 0.571107               |</pre>"
      ],
      "text/plain": [
       "| 10      | 1.36s        | 0.571107               |"
      ]
     },
     "metadata": {},
     "output_type": "display_data"
    },
    {
     "data": {
      "text/html": [
       "<pre>| 11      | 1.49s        | 0.56571                |</pre>"
      ],
      "text/plain": [
       "| 11      | 1.49s        | 0.56571                |"
      ]
     },
     "metadata": {},
     "output_type": "display_data"
    },
    {
     "data": {
      "text/html": [
       "<pre>| 12      | 1.59s        | 0.56096                |</pre>"
      ],
      "text/plain": [
       "| 12      | 1.59s        | 0.56096                |"
      ]
     },
     "metadata": {},
     "output_type": "display_data"
    },
    {
     "data": {
      "text/html": [
       "<pre>| 13      | 1.75s        | 0.556729               |</pre>"
      ],
      "text/plain": [
       "| 13      | 1.75s        | 0.556729               |"
      ]
     },
     "metadata": {},
     "output_type": "display_data"
    },
    {
     "data": {
      "text/html": [
       "<pre>| 14      | 1.88s        | 0.552914               |</pre>"
      ],
      "text/plain": [
       "| 14      | 1.88s        | 0.552914               |"
      ]
     },
     "metadata": {},
     "output_type": "display_data"
    },
    {
     "data": {
      "text/html": [
       "<pre>| 15      | 1.99s        | 0.549456               |</pre>"
      ],
      "text/plain": [
       "| 15      | 1.99s        | 0.549456               |"
      ]
     },
     "metadata": {},
     "output_type": "display_data"
    },
    {
     "data": {
      "text/html": [
       "<pre>| 16      | 2.14s        | 0.546319               |</pre>"
      ],
      "text/plain": [
       "| 16      | 2.14s        | 0.546319               |"
      ]
     },
     "metadata": {},
     "output_type": "display_data"
    },
    {
     "data": {
      "text/html": [
       "<pre>| 17      | 2.26s        | 0.543475               |</pre>"
      ],
      "text/plain": [
       "| 17      | 2.26s        | 0.543475               |"
      ]
     },
     "metadata": {},
     "output_type": "display_data"
    },
    {
     "data": {
      "text/html": [
       "<pre>| 18      | 2.37s        | 0.540912               |</pre>"
      ],
      "text/plain": [
       "| 18      | 2.37s        | 0.540912               |"
      ]
     },
     "metadata": {},
     "output_type": "display_data"
    },
    {
     "data": {
      "text/html": [
       "<pre>| 19      | 2.50s        | 0.538594               |</pre>"
      ],
      "text/plain": [
       "| 19      | 2.50s        | 0.538594               |"
      ]
     },
     "metadata": {},
     "output_type": "display_data"
    },
    {
     "data": {
      "text/html": [
       "<pre>| 20      | 2.58s        | 0.536481               |</pre>"
      ],
      "text/plain": [
       "| 20      | 2.58s        | 0.536481               |"
      ]
     },
     "metadata": {},
     "output_type": "display_data"
    },
    {
     "data": {
      "text/html": [
       "<pre>| 21      | 2.68s        | 0.534545               |</pre>"
      ],
      "text/plain": [
       "| 21      | 2.68s        | 0.534545               |"
      ]
     },
     "metadata": {},
     "output_type": "display_data"
    },
    {
     "data": {
      "text/html": [
       "<pre>| 22      | 2.76s        | 0.532752               |</pre>"
      ],
      "text/plain": [
       "| 22      | 2.76s        | 0.532752               |"
      ]
     },
     "metadata": {},
     "output_type": "display_data"
    },
    {
     "data": {
      "text/html": [
       "<pre>| 23      | 2.86s        | 0.531089               |</pre>"
      ],
      "text/plain": [
       "| 23      | 2.86s        | 0.531089               |"
      ]
     },
     "metadata": {},
     "output_type": "display_data"
    },
    {
     "data": {
      "text/html": [
       "<pre>| 24      | 3.01s        | 0.529536               |</pre>"
      ],
      "text/plain": [
       "| 24      | 3.01s        | 0.529536               |"
      ]
     },
     "metadata": {},
     "output_type": "display_data"
    },
    {
     "data": {
      "text/html": [
       "<pre>| 25      | 3.14s        | 0.528073               |</pre>"
      ],
      "text/plain": [
       "| 25      | 3.14s        | 0.528073               |"
      ]
     },
     "metadata": {},
     "output_type": "display_data"
    },
    {
     "data": {
      "text/html": [
       "<pre>| 26      | 3.23s        | 0.526694               |</pre>"
      ],
      "text/plain": [
       "| 26      | 3.23s        | 0.526694               |"
      ]
     },
     "metadata": {},
     "output_type": "display_data"
    },
    {
     "data": {
      "text/html": [
       "<pre>| 27      | 3.34s        | 0.525394               |</pre>"
      ],
      "text/plain": [
       "| 27      | 3.34s        | 0.525394               |"
      ]
     },
     "metadata": {},
     "output_type": "display_data"
    },
    {
     "data": {
      "text/html": [
       "<pre>| 28      | 3.42s        | 0.52417                |</pre>"
      ],
      "text/plain": [
       "| 28      | 3.42s        | 0.52417                |"
      ]
     },
     "metadata": {},
     "output_type": "display_data"
    },
    {
     "data": {
      "text/html": [
       "<pre>| 29      | 3.51s        | 0.523017               |</pre>"
      ],
      "text/plain": [
       "| 29      | 3.51s        | 0.523017               |"
      ]
     },
     "metadata": {},
     "output_type": "display_data"
    },
    {
     "data": {
      "text/html": [
       "<pre>| 30      | 3.60s        | 0.521925               |</pre>"
      ],
      "text/plain": [
       "| 30      | 3.60s        | 0.521925               |"
      ]
     },
     "metadata": {},
     "output_type": "display_data"
    },
    {
     "data": {
      "text/html": [
       "<pre>| 31      | 3.69s        | 0.520883               |</pre>"
      ],
      "text/plain": [
       "| 31      | 3.69s        | 0.520883               |"
      ]
     },
     "metadata": {},
     "output_type": "display_data"
    },
    {
     "data": {
      "text/html": [
       "<pre>| 32      | 3.79s        | 0.519896               |</pre>"
      ],
      "text/plain": [
       "| 32      | 3.79s        | 0.519896               |"
      ]
     },
     "metadata": {},
     "output_type": "display_data"
    },
    {
     "data": {
      "text/html": [
       "<pre>| 33      | 3.88s        | 0.518966               |</pre>"
      ],
      "text/plain": [
       "| 33      | 3.88s        | 0.518966               |"
      ]
     },
     "metadata": {},
     "output_type": "display_data"
    },
    {
     "data": {
      "text/html": [
       "<pre>| 34      | 3.98s        | 0.518077               |</pre>"
      ],
      "text/plain": [
       "| 34      | 3.98s        | 0.518077               |"
      ]
     },
     "metadata": {},
     "output_type": "display_data"
    },
    {
     "data": {
      "text/html": [
       "<pre>| 35      | 4.07s        | 0.51722                |</pre>"
      ],
      "text/plain": [
       "| 35      | 4.07s        | 0.51722                |"
      ]
     },
     "metadata": {},
     "output_type": "display_data"
    },
    {
     "data": {
      "text/html": [
       "<pre>| 36      | 4.17s        | 0.516401               |</pre>"
      ],
      "text/plain": [
       "| 36      | 4.17s        | 0.516401               |"
      ]
     },
     "metadata": {},
     "output_type": "display_data"
    },
    {
     "data": {
      "text/html": [
       "<pre>| 37      | 4.27s        | 0.515618               |</pre>"
      ],
      "text/plain": [
       "| 37      | 4.27s        | 0.515618               |"
      ]
     },
     "metadata": {},
     "output_type": "display_data"
    },
    {
     "data": {
      "text/html": [
       "<pre>| 38      | 4.36s        | 0.514869               |</pre>"
      ],
      "text/plain": [
       "| 38      | 4.36s        | 0.514869               |"
      ]
     },
     "metadata": {},
     "output_type": "display_data"
    },
    {
     "data": {
      "text/html": [
       "<pre>| 39      | 4.49s        | 0.51415                |</pre>"
      ],
      "text/plain": [
       "| 39      | 4.49s        | 0.51415                |"
      ]
     },
     "metadata": {},
     "output_type": "display_data"
    },
    {
     "data": {
      "text/html": [
       "<pre>| 40      | 4.60s        | 0.513461               |</pre>"
      ],
      "text/plain": [
       "| 40      | 4.60s        | 0.513461               |"
      ]
     },
     "metadata": {},
     "output_type": "display_data"
    },
    {
     "data": {
      "text/html": [
       "<pre>| 41      | 4.70s        | 0.512791               |</pre>"
      ],
      "text/plain": [
       "| 41      | 4.70s        | 0.512791               |"
      ]
     },
     "metadata": {},
     "output_type": "display_data"
    },
    {
     "data": {
      "text/html": [
       "<pre>| 42      | 4.79s        | 0.512144               |</pre>"
      ],
      "text/plain": [
       "| 42      | 4.79s        | 0.512144               |"
      ]
     },
     "metadata": {},
     "output_type": "display_data"
    },
    {
     "data": {
      "text/html": [
       "<pre>| 43      | 4.92s        | 0.511521               |</pre>"
      ],
      "text/plain": [
       "| 43      | 4.92s        | 0.511521               |"
      ]
     },
     "metadata": {},
     "output_type": "display_data"
    },
    {
     "data": {
      "text/html": [
       "<pre>| 44      | 5.03s        | 0.510919               |</pre>"
      ],
      "text/plain": [
       "| 44      | 5.03s        | 0.510919               |"
      ]
     },
     "metadata": {},
     "output_type": "display_data"
    },
    {
     "data": {
      "text/html": [
       "<pre>| 45      | 5.14s        | 0.510336               |</pre>"
      ],
      "text/plain": [
       "| 45      | 5.14s        | 0.510336               |"
      ]
     },
     "metadata": {},
     "output_type": "display_data"
    },
    {
     "data": {
      "text/html": [
       "<pre>| 46      | 5.26s        | 0.509772               |</pre>"
      ],
      "text/plain": [
       "| 46      | 5.26s        | 0.509772               |"
      ]
     },
     "metadata": {},
     "output_type": "display_data"
    },
    {
     "data": {
      "text/html": [
       "<pre>| 47      | 5.35s        | 0.509226               |</pre>"
      ],
      "text/plain": [
       "| 47      | 5.35s        | 0.509226               |"
      ]
     },
     "metadata": {},
     "output_type": "display_data"
    },
    {
     "data": {
      "text/html": [
       "<pre>| 48      | 5.47s        | 0.508692               |</pre>"
      ],
      "text/plain": [
       "| 48      | 5.47s        | 0.508692               |"
      ]
     },
     "metadata": {},
     "output_type": "display_data"
    },
    {
     "data": {
      "text/html": [
       "<pre>| 49      | 5.55s        | 0.508171               |</pre>"
      ],
      "text/plain": [
       "| 49      | 5.55s        | 0.508171               |"
      ]
     },
     "metadata": {},
     "output_type": "display_data"
    },
    {
     "data": {
      "text/html": [
       "<pre>| FINAL   | 5.55s        | 0.508171               |</pre>"
      ],
      "text/plain": [
       "| FINAL   | 5.55s        | 0.508171               |"
      ]
     },
     "metadata": {},
     "output_type": "display_data"
    },
    {
     "data": {
      "text/html": [
       "<pre>+---------+--------------+------------------------+</pre>"
      ],
      "text/plain": [
       "+---------+--------------+------------------------+"
      ]
     },
     "metadata": {},
     "output_type": "display_data"
    },
    {
     "data": {
      "text/html": [
       "<pre>Optimization Complete: Iteration limit reached.</pre>"
      ],
      "text/plain": [
       "Optimization Complete: Iteration limit reached."
      ]
     },
     "metadata": {},
     "output_type": "display_data"
    },
    {
     "name": "stdout",
     "output_type": "stream",
     "text": [
      "('training rmse with regularization 1e-06:', 0.5081707245885436)\n"
     ]
    }
   ],
   "source": [
    "random_seed = 0\n",
    "regularization_param = 1e-6\n",
    "rec2 = graphlab.recommender.factorization_recommender.create(\n",
    "            sf,\n",
    "            user_id='user_id',\n",
    "            item_id='business_id',\n",
    "            target='stars',\n",
    "            solver='als',\n",
    "            side_data_factorization=False,\n",
    "            regularization=regularization_param,\n",
    "            random_seed=random_seed);"
   ]
  },
  {
   "cell_type": "code",
   "execution_count": 67,
   "metadata": {},
   "outputs": [
    {
     "name": "stdout",
     "output_type": "stream",
     "text": [
      "('training rmse with regularization 1e-06:', 0.5081707245885436)\n"
     ]
    }
   ],
   "source": [
    "print(\"training rmse with regularization %s:\"%regularization_param, rec2['training_rmse'])"
   ]
  },
  {
   "cell_type": "code",
   "execution_count": null,
   "metadata": {
    "collapsed": true
   },
   "outputs": [],
   "source": []
  },
  {
   "cell_type": "code",
   "execution_count": null,
   "metadata": {
    "collapsed": true
   },
   "outputs": [],
   "source": []
  },
  {
   "cell_type": "code",
   "execution_count": null,
   "metadata": {
    "collapsed": true
   },
   "outputs": [],
   "source": []
  }
 ],
 "metadata": {
  "kernelspec": {
   "display_name": "Python 3",
   "language": "python",
   "name": "python3"
  },
  "language_info": {
   "codemirror_mode": {
    "name": "ipython",
    "version": 3
   },
   "file_extension": ".py",
   "mimetype": "text/x-python",
   "name": "python",
   "nbconvert_exporter": "python",
   "pygments_lexer": "ipython3",
   "version": "3.5.5"
  }
 },
 "nbformat": 4,
 "nbformat_minor": 1
}
