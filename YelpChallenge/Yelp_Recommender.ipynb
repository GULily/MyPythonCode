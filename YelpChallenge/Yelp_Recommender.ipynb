{
 "cells": [
  {
   "cell_type": "markdown",
   "metadata": {},
   "source": [
    "## Yelp Data Challenge - Restaurant Recommender\n",
    "\n",
    "Yi Li"
   ]
  },
  {
   "cell_type": "code",
   "execution_count": 1,
   "metadata": {
    "collapsed": true
   },
   "outputs": [],
   "source": [
    "import pandas as pd\n",
    "import numpy as np\n",
    "import matplotlib.pyplot as plt\n",
    "% matplotlib inline\n",
    "plt.style.use(\"ggplot\")"
   ]
  },
  {
   "cell_type": "code",
   "execution_count": 2,
   "metadata": {
    "collapsed": true
   },
   "outputs": [],
   "source": [
    "df = pd.read_csv('../dataset/last_2_years_restaurant_reviews.csv')"
   ]
  },
  {
   "cell_type": "code",
   "execution_count": 3,
   "metadata": {},
   "outputs": [
    {
     "data": {
      "text/html": [
       "<div>\n",
       "<style>\n",
       "    .dataframe thead tr:only-child th {\n",
       "        text-align: right;\n",
       "    }\n",
       "\n",
       "    .dataframe thead th {\n",
       "        text-align: left;\n",
       "    }\n",
       "\n",
       "    .dataframe tbody tr th {\n",
       "        vertical-align: top;\n",
       "    }\n",
       "</style>\n",
       "<table border=\"1\" class=\"dataframe\">\n",
       "  <thead>\n",
       "    <tr style=\"text-align: right;\">\n",
       "      <th></th>\n",
       "      <th>Unnamed: 0</th>\n",
       "      <th>business_id</th>\n",
       "      <th>name</th>\n",
       "      <th>categories</th>\n",
       "      <th>avg_stars</th>\n",
       "      <th>cool</th>\n",
       "      <th>date</th>\n",
       "      <th>funny</th>\n",
       "      <th>review_id</th>\n",
       "      <th>stars</th>\n",
       "      <th>text</th>\n",
       "      <th>useful</th>\n",
       "      <th>user_id</th>\n",
       "    </tr>\n",
       "  </thead>\n",
       "  <tbody>\n",
       "    <tr>\n",
       "      <th>0</th>\n",
       "      <td>1</td>\n",
       "      <td>--9e1ONYQuAa-CB_Rrw7Tw</td>\n",
       "      <td>Delmonico Steakhouse</td>\n",
       "      <td>['Cajun/Creole', 'Steakhouses', 'Restaurants']</td>\n",
       "      <td>4.0</td>\n",
       "      <td>0</td>\n",
       "      <td>2016-03-31</td>\n",
       "      <td>0</td>\n",
       "      <td>6SgvNWJltnZhW7duJgZ42w</td>\n",
       "      <td>5</td>\n",
       "      <td>This is mine and my fiancé's favorite steakhou...</td>\n",
       "      <td>0</td>\n",
       "      <td>oFyOUOeGTRZhFPF9uTqrTQ</td>\n",
       "    </tr>\n",
       "    <tr>\n",
       "      <th>1</th>\n",
       "      <td>2</td>\n",
       "      <td>--9e1ONYQuAa-CB_Rrw7Tw</td>\n",
       "      <td>Delmonico Steakhouse</td>\n",
       "      <td>['Cajun/Creole', 'Steakhouses', 'Restaurants']</td>\n",
       "      <td>4.0</td>\n",
       "      <td>0</td>\n",
       "      <td>2015-06-29</td>\n",
       "      <td>0</td>\n",
       "      <td>iwx6s6yQxc7yjS7NFANZig</td>\n",
       "      <td>4</td>\n",
       "      <td>Nice atmosphere and wonderful service. I had t...</td>\n",
       "      <td>0</td>\n",
       "      <td>2aeNFntqY2QDZLADNo8iQQ</td>\n",
       "    </tr>\n",
       "  </tbody>\n",
       "</table>\n",
       "</div>"
      ],
      "text/plain": [
       "   Unnamed: 0             business_id                  name  \\\n",
       "0           1  --9e1ONYQuAa-CB_Rrw7Tw  Delmonico Steakhouse   \n",
       "1           2  --9e1ONYQuAa-CB_Rrw7Tw  Delmonico Steakhouse   \n",
       "\n",
       "                                       categories  avg_stars  cool  \\\n",
       "0  ['Cajun/Creole', 'Steakhouses', 'Restaurants']        4.0     0   \n",
       "1  ['Cajun/Creole', 'Steakhouses', 'Restaurants']        4.0     0   \n",
       "\n",
       "         date  funny               review_id  stars  \\\n",
       "0  2016-03-31      0  6SgvNWJltnZhW7duJgZ42w      5   \n",
       "1  2015-06-29      0  iwx6s6yQxc7yjS7NFANZig      4   \n",
       "\n",
       "                                                text  useful  \\\n",
       "0  This is mine and my fiancé's favorite steakhou...       0   \n",
       "1  Nice atmosphere and wonderful service. I had t...       0   \n",
       "\n",
       "                  user_id  \n",
       "0  oFyOUOeGTRZhFPF9uTqrTQ  \n",
       "1  2aeNFntqY2QDZLADNo8iQQ  "
      ]
     },
     "execution_count": 3,
     "metadata": {},
     "output_type": "execute_result"
    }
   ],
   "source": [
    "df.head(2)"
   ]
  },
  {
   "cell_type": "markdown",
   "metadata": {},
   "source": [
    "## 1. Clean data and get rating data "
   ]
  },
  {
   "cell_type": "markdown",
   "metadata": {},
   "source": [
    "#### Select relevant columns in the original dataframe"
   ]
  },
  {
   "cell_type": "code",
   "execution_count": 58,
   "metadata": {
    "collapsed": true
   },
   "outputs": [],
   "source": [
    "# Get business_id, user_id, stars for recommender\n",
    "names = ['business_id', 'name', 'user_id', 'stars']\n",
    "df_new = df[names]"
   ]
  },
  {
   "cell_type": "code",
   "execution_count": 59,
   "metadata": {},
   "outputs": [
    {
     "data": {
      "text/html": [
       "<div>\n",
       "<style>\n",
       "    .dataframe thead tr:only-child th {\n",
       "        text-align: right;\n",
       "    }\n",
       "\n",
       "    .dataframe thead th {\n",
       "        text-align: left;\n",
       "    }\n",
       "\n",
       "    .dataframe tbody tr th {\n",
       "        vertical-align: top;\n",
       "    }\n",
       "</style>\n",
       "<table border=\"1\" class=\"dataframe\">\n",
       "  <thead>\n",
       "    <tr style=\"text-align: right;\">\n",
       "      <th></th>\n",
       "      <th>business_id</th>\n",
       "      <th>name</th>\n",
       "      <th>user_id</th>\n",
       "      <th>stars</th>\n",
       "    </tr>\n",
       "  </thead>\n",
       "  <tbody>\n",
       "    <tr>\n",
       "      <th>0</th>\n",
       "      <td>--9e1ONYQuAa-CB_Rrw7Tw</td>\n",
       "      <td>Delmonico Steakhouse</td>\n",
       "      <td>oFyOUOeGTRZhFPF9uTqrTQ</td>\n",
       "      <td>5</td>\n",
       "    </tr>\n",
       "    <tr>\n",
       "      <th>1</th>\n",
       "      <td>--9e1ONYQuAa-CB_Rrw7Tw</td>\n",
       "      <td>Delmonico Steakhouse</td>\n",
       "      <td>2aeNFntqY2QDZLADNo8iQQ</td>\n",
       "      <td>4</td>\n",
       "    </tr>\n",
       "    <tr>\n",
       "      <th>2</th>\n",
       "      <td>--9e1ONYQuAa-CB_Rrw7Tw</td>\n",
       "      <td>Delmonico Steakhouse</td>\n",
       "      <td>gmPP4YFrgYsYQqPYokMgFA</td>\n",
       "      <td>5</td>\n",
       "    </tr>\n",
       "    <tr>\n",
       "      <th>3</th>\n",
       "      <td>--9e1ONYQuAa-CB_Rrw7Tw</td>\n",
       "      <td>Delmonico Steakhouse</td>\n",
       "      <td>aVOGlN9fZ-BXcbtj6dbf0g</td>\n",
       "      <td>5</td>\n",
       "    </tr>\n",
       "    <tr>\n",
       "      <th>4</th>\n",
       "      <td>--9e1ONYQuAa-CB_Rrw7Tw</td>\n",
       "      <td>Delmonico Steakhouse</td>\n",
       "      <td>KC8H7qTZVPIEnanw9fG43g</td>\n",
       "      <td>5</td>\n",
       "    </tr>\n",
       "  </tbody>\n",
       "</table>\n",
       "</div>"
      ],
      "text/plain": [
       "              business_id                  name                 user_id  stars\n",
       "0  --9e1ONYQuAa-CB_Rrw7Tw  Delmonico Steakhouse  oFyOUOeGTRZhFPF9uTqrTQ      5\n",
       "1  --9e1ONYQuAa-CB_Rrw7Tw  Delmonico Steakhouse  2aeNFntqY2QDZLADNo8iQQ      4\n",
       "2  --9e1ONYQuAa-CB_Rrw7Tw  Delmonico Steakhouse  gmPP4YFrgYsYQqPYokMgFA      5\n",
       "3  --9e1ONYQuAa-CB_Rrw7Tw  Delmonico Steakhouse  aVOGlN9fZ-BXcbtj6dbf0g      5\n",
       "4  --9e1ONYQuAa-CB_Rrw7Tw  Delmonico Steakhouse  KC8H7qTZVPIEnanw9fG43g      5"
      ]
     },
     "execution_count": 59,
     "metadata": {},
     "output_type": "execute_result"
    }
   ],
   "source": [
    "df_new.head()"
   ]
  },
  {
   "cell_type": "markdown",
   "metadata": {},
   "source": [
    "#### There are many users that haven't given many reviews, exclude these users from the item-item similarity recommender\n",
    "\n",
    "**Q**: How do we recommend to these users anyways?"
   ]
  },
  {
   "cell_type": "markdown",
   "metadata": {
    "collapsed": true
   },
   "source": [
    "A: We can recommend the most popular restaurants to these users. "
   ]
  },
  {
   "cell_type": "code",
   "execution_count": 60,
   "metadata": {},
   "outputs": [
    {
     "data": {
      "text/plain": [
       "(227241, 4832)"
      ]
     },
     "execution_count": 60,
     "metadata": {},
     "output_type": "execute_result"
    }
   ],
   "source": [
    "len(df_new['user_id'].unique()), len(df_new['business_id'].unique())"
   ]
  },
  {
   "cell_type": "code",
   "execution_count": 61,
   "metadata": {},
   "outputs": [
    {
     "data": {
      "text/plain": [
       "0.00046970729299240636"
      ]
     },
     "execution_count": 61,
     "metadata": {},
     "output_type": "execute_result"
    }
   ],
   "source": [
    "515752/(227241*4832) # the matrix is very sparse"
   ]
  },
  {
   "cell_type": "code",
   "execution_count": 62,
   "metadata": {},
   "outputs": [
    {
     "name": "stdout",
     "output_type": "stream",
     "text": [
      "count    227241.000000\n",
      "mean          2.269626\n",
      "std           4.724827\n",
      "min           1.000000\n",
      "25%           1.000000\n",
      "50%           1.000000\n",
      "75%           2.000000\n",
      "max         748.000000\n",
      "Name: user_id, dtype: float64\n",
      "\n",
      "\n",
      "count     227241\n",
      "unique         2\n",
      "top        False\n",
      "freq      212566\n",
      "Name: user_id, dtype: object\n",
      "\n",
      "\n",
      "count     227241\n",
      "unique         2\n",
      "top        False\n",
      "freq      222081\n",
      "Name: user_id, dtype: object\n"
     ]
    }
   ],
   "source": [
    "print(df_new['user_id'].value_counts().describe())\n",
    "print('\\n')\n",
    "print((df_new['user_id'].value_counts()>5).describe())\n",
    "print('\\n')\n",
    "print((df_new['user_id'].value_counts()>10).describe())"
   ]
  },
  {
   "cell_type": "code",
   "execution_count": 63,
   "metadata": {},
   "outputs": [
    {
     "data": {
      "text/plain": [
       "(117389, 4)"
      ]
     },
     "execution_count": 63,
     "metadata": {},
     "output_type": "execute_result"
    }
   ],
   "source": [
    "# only keep the users who have more than 10 reviews\n",
    "df_filter = df_new.groupby('user_id').filter(lambda x: len(x) > 10)\n",
    "df_filter.shape"
   ]
  },
  {
   "cell_type": "code",
   "execution_count": 64,
   "metadata": {},
   "outputs": [
    {
     "data": {
      "text/plain": [
       "(5160, 4394)"
      ]
     },
     "execution_count": 64,
     "metadata": {},
     "output_type": "execute_result"
    }
   ],
   "source": [
    "len(df_filter['user_id'].unique()), len(df_filter['business_id'].unique())"
   ]
  },
  {
   "cell_type": "code",
   "execution_count": 65,
   "metadata": {},
   "outputs": [
    {
     "data": {
      "text/plain": [
       "0.0051774706876537065"
      ]
     },
     "execution_count": 65,
     "metadata": {},
     "output_type": "execute_result"
    }
   ],
   "source": [
    "117389/(5160* 4394) # still a very sparse matrix"
   ]
  },
  {
   "cell_type": "markdown",
   "metadata": {},
   "source": [
    "#### Create utility matrix from records"
   ]
  },
  {
   "cell_type": "code",
   "execution_count": 66,
   "metadata": {
    "collapsed": true
   },
   "outputs": [],
   "source": [
    "df_utility = pd.pivot_table(data=df_filter, \n",
    "                            values='stars', \n",
    "                            index='user_id', \n",
    "                            columns='business_id',\n",
    "                            fill_value=0)"
   ]
  },
  {
   "cell_type": "code",
   "execution_count": 67,
   "metadata": {},
   "outputs": [
    {
     "data": {
      "text/plain": [
       "(5160, 4394)"
      ]
     },
     "execution_count": 67,
     "metadata": {},
     "output_type": "execute_result"
    }
   ],
   "source": [
    "df_utility.shape"
   ]
  },
  {
   "cell_type": "code",
   "execution_count": 68,
   "metadata": {},
   "outputs": [
    {
     "data": {
      "text/html": [
       "<div>\n",
       "<style>\n",
       "    .dataframe thead tr:only-child th {\n",
       "        text-align: right;\n",
       "    }\n",
       "\n",
       "    .dataframe thead th {\n",
       "        text-align: left;\n",
       "    }\n",
       "\n",
       "    .dataframe tbody tr th {\n",
       "        vertical-align: top;\n",
       "    }\n",
       "</style>\n",
       "<table border=\"1\" class=\"dataframe\">\n",
       "  <thead>\n",
       "    <tr style=\"text-align: right;\">\n",
       "      <th>business_id</th>\n",
       "      <th>--9e1ONYQuAa-CB_Rrw7Tw</th>\n",
       "      <th>-1m9o3vGRA8IBPNvNqKLmA</th>\n",
       "      <th>-1vfRrlnNnNJ5boOVghMPA</th>\n",
       "      <th>-3zffZUHoY8bQjGfPSoBKQ</th>\n",
       "      <th>-8R_-EkGpUhBk55K9Dd4mg</th>\n",
       "      <th>-9YyInW1wapzdNZrhQJ9dg</th>\n",
       "      <th>-AD5PiuJHgdUcAK-Vxao2A</th>\n",
       "      <th>-ADtl9bLp8wNqYX1k3KuxA</th>\n",
       "      <th>-BS4aZAQm9u41YnB9MUASA</th>\n",
       "      <th>-Bf8BQ3yMk8U2f45r2DRKw</th>\n",
       "      <th>...</th>\n",
       "      <th>zmltWmTpoBt5sCU-5Kzj-Q</th>\n",
       "      <th>znWHLW1pt19HzW1VY6KfCA</th>\n",
       "      <th>zp-K5s3pGTWuuaVBWo6WZA</th>\n",
       "      <th>zpoZ6WyQUYff18-z4ZU1mA</th>\n",
       "      <th>zrQ1zKWC-W2PCvwjBururQ</th>\n",
       "      <th>zsQk990PubOHjr1YcLkQFw</th>\n",
       "      <th>zt9RLUIU32fZYOBh2L0NNQ</th>\n",
       "      <th>zttcrQP4MxNS5X5itzStXg</th>\n",
       "      <th>zuwba6QEBIDZT0tJZmNhdQ</th>\n",
       "      <th>zwNC-Ow4eIMan2__bS9-rg</th>\n",
       "    </tr>\n",
       "    <tr>\n",
       "      <th>user_id</th>\n",
       "      <th></th>\n",
       "      <th></th>\n",
       "      <th></th>\n",
       "      <th></th>\n",
       "      <th></th>\n",
       "      <th></th>\n",
       "      <th></th>\n",
       "      <th></th>\n",
       "      <th></th>\n",
       "      <th></th>\n",
       "      <th></th>\n",
       "      <th></th>\n",
       "      <th></th>\n",
       "      <th></th>\n",
       "      <th></th>\n",
       "      <th></th>\n",
       "      <th></th>\n",
       "      <th></th>\n",
       "      <th></th>\n",
       "      <th></th>\n",
       "      <th></th>\n",
       "    </tr>\n",
       "  </thead>\n",
       "  <tbody>\n",
       "    <tr>\n",
       "      <th>--ZNfWKj1VyVElRx6-g1fg</th>\n",
       "      <td>0</td>\n",
       "      <td>0</td>\n",
       "      <td>0</td>\n",
       "      <td>0</td>\n",
       "      <td>0</td>\n",
       "      <td>0</td>\n",
       "      <td>0</td>\n",
       "      <td>0</td>\n",
       "      <td>0</td>\n",
       "      <td>0</td>\n",
       "      <td>...</td>\n",
       "      <td>0</td>\n",
       "      <td>0</td>\n",
       "      <td>0</td>\n",
       "      <td>0</td>\n",
       "      <td>0</td>\n",
       "      <td>3</td>\n",
       "      <td>0</td>\n",
       "      <td>0</td>\n",
       "      <td>0</td>\n",
       "      <td>0</td>\n",
       "    </tr>\n",
       "    <tr>\n",
       "      <th>-05XqtNjcBq19vh2CVJN8g</th>\n",
       "      <td>0</td>\n",
       "      <td>0</td>\n",
       "      <td>0</td>\n",
       "      <td>0</td>\n",
       "      <td>0</td>\n",
       "      <td>0</td>\n",
       "      <td>0</td>\n",
       "      <td>0</td>\n",
       "      <td>0</td>\n",
       "      <td>0</td>\n",
       "      <td>...</td>\n",
       "      <td>0</td>\n",
       "      <td>0</td>\n",
       "      <td>0</td>\n",
       "      <td>0</td>\n",
       "      <td>0</td>\n",
       "      <td>0</td>\n",
       "      <td>0</td>\n",
       "      <td>0</td>\n",
       "      <td>0</td>\n",
       "      <td>0</td>\n",
       "    </tr>\n",
       "    <tr>\n",
       "      <th>-2gOxVWcnBr5DclrrsWXCA</th>\n",
       "      <td>0</td>\n",
       "      <td>0</td>\n",
       "      <td>0</td>\n",
       "      <td>0</td>\n",
       "      <td>0</td>\n",
       "      <td>0</td>\n",
       "      <td>0</td>\n",
       "      <td>0</td>\n",
       "      <td>0</td>\n",
       "      <td>0</td>\n",
       "      <td>...</td>\n",
       "      <td>0</td>\n",
       "      <td>0</td>\n",
       "      <td>0</td>\n",
       "      <td>0</td>\n",
       "      <td>0</td>\n",
       "      <td>0</td>\n",
       "      <td>0</td>\n",
       "      <td>0</td>\n",
       "      <td>0</td>\n",
       "      <td>0</td>\n",
       "    </tr>\n",
       "    <tr>\n",
       "      <th>-4JDJeFS0YAYSiSvIshGLQ</th>\n",
       "      <td>0</td>\n",
       "      <td>0</td>\n",
       "      <td>0</td>\n",
       "      <td>0</td>\n",
       "      <td>0</td>\n",
       "      <td>0</td>\n",
       "      <td>0</td>\n",
       "      <td>0</td>\n",
       "      <td>0</td>\n",
       "      <td>0</td>\n",
       "      <td>...</td>\n",
       "      <td>0</td>\n",
       "      <td>0</td>\n",
       "      <td>0</td>\n",
       "      <td>0</td>\n",
       "      <td>0</td>\n",
       "      <td>0</td>\n",
       "      <td>0</td>\n",
       "      <td>0</td>\n",
       "      <td>0</td>\n",
       "      <td>0</td>\n",
       "    </tr>\n",
       "    <tr>\n",
       "      <th>-50XWnmQGqBgEI-9ANvLlg</th>\n",
       "      <td>0</td>\n",
       "      <td>0</td>\n",
       "      <td>0</td>\n",
       "      <td>0</td>\n",
       "      <td>0</td>\n",
       "      <td>0</td>\n",
       "      <td>0</td>\n",
       "      <td>0</td>\n",
       "      <td>0</td>\n",
       "      <td>0</td>\n",
       "      <td>...</td>\n",
       "      <td>0</td>\n",
       "      <td>0</td>\n",
       "      <td>0</td>\n",
       "      <td>0</td>\n",
       "      <td>0</td>\n",
       "      <td>0</td>\n",
       "      <td>0</td>\n",
       "      <td>0</td>\n",
       "      <td>0</td>\n",
       "      <td>0</td>\n",
       "    </tr>\n",
       "  </tbody>\n",
       "</table>\n",
       "<p>5 rows × 4394 columns</p>\n",
       "</div>"
      ],
      "text/plain": [
       "business_id             --9e1ONYQuAa-CB_Rrw7Tw  -1m9o3vGRA8IBPNvNqKLmA  \\\n",
       "user_id                                                                  \n",
       "--ZNfWKj1VyVElRx6-g1fg                       0                       0   \n",
       "-05XqtNjcBq19vh2CVJN8g                       0                       0   \n",
       "-2gOxVWcnBr5DclrrsWXCA                       0                       0   \n",
       "-4JDJeFS0YAYSiSvIshGLQ                       0                       0   \n",
       "-50XWnmQGqBgEI-9ANvLlg                       0                       0   \n",
       "\n",
       "business_id             -1vfRrlnNnNJ5boOVghMPA  -3zffZUHoY8bQjGfPSoBKQ  \\\n",
       "user_id                                                                  \n",
       "--ZNfWKj1VyVElRx6-g1fg                       0                       0   \n",
       "-05XqtNjcBq19vh2CVJN8g                       0                       0   \n",
       "-2gOxVWcnBr5DclrrsWXCA                       0                       0   \n",
       "-4JDJeFS0YAYSiSvIshGLQ                       0                       0   \n",
       "-50XWnmQGqBgEI-9ANvLlg                       0                       0   \n",
       "\n",
       "business_id             -8R_-EkGpUhBk55K9Dd4mg  -9YyInW1wapzdNZrhQJ9dg  \\\n",
       "user_id                                                                  \n",
       "--ZNfWKj1VyVElRx6-g1fg                       0                       0   \n",
       "-05XqtNjcBq19vh2CVJN8g                       0                       0   \n",
       "-2gOxVWcnBr5DclrrsWXCA                       0                       0   \n",
       "-4JDJeFS0YAYSiSvIshGLQ                       0                       0   \n",
       "-50XWnmQGqBgEI-9ANvLlg                       0                       0   \n",
       "\n",
       "business_id             -AD5PiuJHgdUcAK-Vxao2A  -ADtl9bLp8wNqYX1k3KuxA  \\\n",
       "user_id                                                                  \n",
       "--ZNfWKj1VyVElRx6-g1fg                       0                       0   \n",
       "-05XqtNjcBq19vh2CVJN8g                       0                       0   \n",
       "-2gOxVWcnBr5DclrrsWXCA                       0                       0   \n",
       "-4JDJeFS0YAYSiSvIshGLQ                       0                       0   \n",
       "-50XWnmQGqBgEI-9ANvLlg                       0                       0   \n",
       "\n",
       "business_id             -BS4aZAQm9u41YnB9MUASA  -Bf8BQ3yMk8U2f45r2DRKw  \\\n",
       "user_id                                                                  \n",
       "--ZNfWKj1VyVElRx6-g1fg                       0                       0   \n",
       "-05XqtNjcBq19vh2CVJN8g                       0                       0   \n",
       "-2gOxVWcnBr5DclrrsWXCA                       0                       0   \n",
       "-4JDJeFS0YAYSiSvIshGLQ                       0                       0   \n",
       "-50XWnmQGqBgEI-9ANvLlg                       0                       0   \n",
       "\n",
       "business_id                      ...            zmltWmTpoBt5sCU-5Kzj-Q  \\\n",
       "user_id                          ...                                     \n",
       "--ZNfWKj1VyVElRx6-g1fg           ...                                 0   \n",
       "-05XqtNjcBq19vh2CVJN8g           ...                                 0   \n",
       "-2gOxVWcnBr5DclrrsWXCA           ...                                 0   \n",
       "-4JDJeFS0YAYSiSvIshGLQ           ...                                 0   \n",
       "-50XWnmQGqBgEI-9ANvLlg           ...                                 0   \n",
       "\n",
       "business_id             znWHLW1pt19HzW1VY6KfCA  zp-K5s3pGTWuuaVBWo6WZA  \\\n",
       "user_id                                                                  \n",
       "--ZNfWKj1VyVElRx6-g1fg                       0                       0   \n",
       "-05XqtNjcBq19vh2CVJN8g                       0                       0   \n",
       "-2gOxVWcnBr5DclrrsWXCA                       0                       0   \n",
       "-4JDJeFS0YAYSiSvIshGLQ                       0                       0   \n",
       "-50XWnmQGqBgEI-9ANvLlg                       0                       0   \n",
       "\n",
       "business_id             zpoZ6WyQUYff18-z4ZU1mA  zrQ1zKWC-W2PCvwjBururQ  \\\n",
       "user_id                                                                  \n",
       "--ZNfWKj1VyVElRx6-g1fg                       0                       0   \n",
       "-05XqtNjcBq19vh2CVJN8g                       0                       0   \n",
       "-2gOxVWcnBr5DclrrsWXCA                       0                       0   \n",
       "-4JDJeFS0YAYSiSvIshGLQ                       0                       0   \n",
       "-50XWnmQGqBgEI-9ANvLlg                       0                       0   \n",
       "\n",
       "business_id             zsQk990PubOHjr1YcLkQFw  zt9RLUIU32fZYOBh2L0NNQ  \\\n",
       "user_id                                                                  \n",
       "--ZNfWKj1VyVElRx6-g1fg                       3                       0   \n",
       "-05XqtNjcBq19vh2CVJN8g                       0                       0   \n",
       "-2gOxVWcnBr5DclrrsWXCA                       0                       0   \n",
       "-4JDJeFS0YAYSiSvIshGLQ                       0                       0   \n",
       "-50XWnmQGqBgEI-9ANvLlg                       0                       0   \n",
       "\n",
       "business_id             zttcrQP4MxNS5X5itzStXg  zuwba6QEBIDZT0tJZmNhdQ  \\\n",
       "user_id                                                                  \n",
       "--ZNfWKj1VyVElRx6-g1fg                       0                       0   \n",
       "-05XqtNjcBq19vh2CVJN8g                       0                       0   \n",
       "-2gOxVWcnBr5DclrrsWXCA                       0                       0   \n",
       "-4JDJeFS0YAYSiSvIshGLQ                       0                       0   \n",
       "-50XWnmQGqBgEI-9ANvLlg                       0                       0   \n",
       "\n",
       "business_id             zwNC-Ow4eIMan2__bS9-rg  \n",
       "user_id                                         \n",
       "--ZNfWKj1VyVElRx6-g1fg                       0  \n",
       "-05XqtNjcBq19vh2CVJN8g                       0  \n",
       "-2gOxVWcnBr5DclrrsWXCA                       0  \n",
       "-4JDJeFS0YAYSiSvIshGLQ                       0  \n",
       "-50XWnmQGqBgEI-9ANvLlg                       0  \n",
       "\n",
       "[5 rows x 4394 columns]"
      ]
     },
     "execution_count": 68,
     "metadata": {},
     "output_type": "execute_result"
    }
   ],
   "source": [
    "df_utility.head()"
   ]
  },
  {
   "cell_type": "markdown",
   "metadata": {},
   "source": [
    "## 2. Item-Item similarity recommender"
   ]
  },
  {
   "cell_type": "markdown",
   "metadata": {},
   "source": [
    "### Let's reuse the ItemItemRecommender class derived from previous exercise\n",
    "\n",
    "Hint: we need to make modification to accommodate the dense numpy array"
   ]
  },
  {
   "cell_type": "code",
   "execution_count": 69,
   "metadata": {
    "collapsed": true
   },
   "outputs": [],
   "source": [
    "from sklearn.metrics.pairwise import cosine_similarity\n",
    "\n",
    "# Item-Item Similarity Matrix\n",
    "item_sim_mat = cosine_similarity(df_utility.T)"
   ]
  },
  {
   "cell_type": "code",
   "execution_count": 70,
   "metadata": {},
   "outputs": [
    {
     "data": {
      "text/plain": [
       "(4394, 4394)"
      ]
     },
     "execution_count": 70,
     "metadata": {},
     "output_type": "execute_result"
    }
   ],
   "source": [
    "item_sim_mat.shape"
   ]
  },
  {
   "cell_type": "code",
   "execution_count": 71,
   "metadata": {
    "collapsed": true
   },
   "outputs": [],
   "source": [
    "least_to_most_sim_indexes = np.argsort(item_sim_mat, axis=1)\n",
    "\n",
    "# Neighborhoods\n",
    "neighborhood_size = 50\n",
    "neighborhoods = least_to_most_sim_indexes[:, -neighborhood_size:]"
   ]
  },
  {
   "cell_type": "code",
   "execution_count": 72,
   "metadata": {},
   "outputs": [
    {
     "data": {
      "text/plain": [
       "(4394, 50)"
      ]
     },
     "execution_count": 72,
     "metadata": {},
     "output_type": "execute_result"
    }
   ],
   "source": [
    "neighborhoods.shape"
   ]
  },
  {
   "cell_type": "code",
   "execution_count": 73,
   "metadata": {},
   "outputs": [
    {
     "data": {
      "text/plain": [
       "array([[ 494, 3636, 3713,    3, 1784, 1291,  797, 1760, 1450, 4236,  386,\n",
       "         585, 1321, 2495, 1796, 1623, 3813, 1561, 3009,  399, 2870, 1542,\n",
       "         794, 3514, 2530, 4032,  942, 2214, 2037,  519, 3857, 3173, 2302,\n",
       "        1967, 1852, 3014, 2981, 1808, 2677, 3021,  217, 3072, 2732, 3796,\n",
       "        1214,  870, 3865, 1498,  199,    0],\n",
       "       [3511,  534, 1196, 4281, 2557, 1923, 1205, 4259, 4264, 1551, 3021,\n",
       "        4207,  431, 1030, 2811, 2507, 2415, 1436, 3298, 1319,  152, 2923,\n",
       "         922, 3530, 2981,  600,  585,  788, 2419, 2195, 1659, 1841, 2015,\n",
       "        3881, 4203, 3581, 3841, 2718, 3574, 1991, 2399, 2037, 2302, 3455,\n",
       "        3909, 3746, 2187, 2439, 3011,    1]])"
      ]
     },
     "execution_count": 73,
     "metadata": {},
     "output_type": "execute_result"
    }
   ],
   "source": [
    "neighborhoods[:2]"
   ]
  },
  {
   "cell_type": "code",
   "execution_count": 84,
   "metadata": {
    "collapsed": true
   },
   "outputs": [],
   "source": [
    "# Let's pick a lucky user\n",
    "user_id = 100"
   ]
  },
  {
   "cell_type": "code",
   "execution_count": 85,
   "metadata": {},
   "outputs": [
    {
     "name": "stdout",
     "output_type": "stream",
     "text": [
      "[ 5.  0.  0. ...,  0.  0.  0.]\n",
      "Execution time: 0.180905 seconds\n"
     ]
    },
    {
     "name": "stderr",
     "output_type": "stream",
     "text": [
      "/anaconda/lib/python3.6/site-packages/ipykernel_launcher.py:14: RuntimeWarning: invalid value encountered in double_scalars\n",
      "  \n"
     ]
    }
   ],
   "source": [
    "n_users = df_utility.shape[0]\n",
    "n_items = df_utility.shape[1]\n",
    "\n",
    "from time import time\n",
    "start_time = time()\n",
    "items_rated_by_this_user = df_utility.values[user_id].nonzero()[0]\n",
    "\n",
    "# Just initializing so we have somewhere to put rating preds\n",
    "out = np.zeros(n_items)\n",
    "for item_to_rate in range(n_items):\n",
    "    relevant_items = np.intersect1d(neighborhoods[item_to_rate],\n",
    "                                    items_rated_by_this_user,\n",
    "                                    assume_unique=True)  # assume_unique speeds up intersection operation \n",
    "    out[item_to_rate] = sum(df_utility.values[user_id, relevant_items] * \\\n",
    "        item_sim_mat[item_to_rate, relevant_items]) / \\\n",
    "        item_sim_mat[item_to_rate, relevant_items].sum()\n",
    "\n",
    "\n",
    "pred_ratings = np.nan_to_num(out)\n",
    "print(pred_ratings)\n",
    "print(\"Execution time: %f seconds\" % (time()-start_time))"
   ]
  },
  {
   "cell_type": "code",
   "execution_count": 86,
   "metadata": {},
   "outputs": [
    {
     "data": {
      "text/plain": [
       "(4394,)"
      ]
     },
     "execution_count": 86,
     "metadata": {},
     "output_type": "execute_result"
    }
   ],
   "source": [
    "pred_ratings.shape"
   ]
  },
  {
   "cell_type": "code",
   "execution_count": 87,
   "metadata": {},
   "outputs": [
    {
     "data": {
      "text/plain": [
       "[1948, 1208, 3857, 3594, 3106, 271, 2999, 3444, 1108, 2646]"
      ]
     },
     "execution_count": 87,
     "metadata": {},
     "output_type": "execute_result"
    }
   ],
   "source": [
    "# Recommend n movies\n",
    "n = 10\n",
    "\n",
    "# Get item indexes sorted by predicted rating\n",
    "item_index_sorted_by_pred_rating = list(np.argsort(pred_ratings))\n",
    "\n",
    "# Find items that have been rated by user\n",
    "items_rated_by_this_user = ratings_mat[user_id].nonzero()[1]\n",
    "\n",
    "# We want to exclude the items that have been rated by user\n",
    "unrated_items_by_pred_rating = [item for item in item_index_sorted_by_pred_rating\n",
    "                                if item not in items_rated_by_this_user]\n",
    "\n",
    "unrated_items_by_pred_rating[-n:]"
   ]
  },
  {
   "cell_type": "code",
   "execution_count": 88,
   "metadata": {},
   "outputs": [
    {
     "data": {
      "text/plain": [
       "['RSOinkOUpxm0mGw1IWr4Xw',\n",
       " 'GU7ww3eoGTcXAze8VJtC7g',\n",
       " 'rcaPajgKOJC2vo_l3xa42A',\n",
       " 'nu1GQ_Q43JqzrWMZE_dE1Q',\n",
       " 'gqELGWcpWepjV33yzc4Diw',\n",
       " '2sx52lDoiEtef7xgPCaoBw',\n",
       " 'f9sU31meK0bqAD7922sCog',\n",
       " 'l_GV0hgEoTUf70uJVT0_hg',\n",
       " 'EwUM6gGMBhrjOef0wmqKJQ',\n",
       " 'aC4acQbkuD7_JizCiFBuDQ']"
      ]
     },
     "execution_count": 88,
     "metadata": {},
     "output_type": "execute_result"
    }
   ],
   "source": [
    "[df_utility.columns[i] for i in unrated_items_by_pred_rating[-n:]]"
   ]
  },
  {
   "cell_type": "code",
   "execution_count": 89,
   "metadata": {},
   "outputs": [
    {
     "data": {
      "text/plain": [
       "[array(['Katsuya'], dtype=object),\n",
       " array(['Fin'], dtype=object),\n",
       " array(['Bouchon at the Venezia Tower'], dtype=object),\n",
       " array(['Searsucker'], dtype=object),\n",
       " array(['Santa Ana Cafe'], dtype=object),\n",
       " array(['VegeNation'], dtype=object),\n",
       " array(['Sage'], dtype=object),\n",
       " array(['Eat.'], dtype=object),\n",
       " array([\"Jared's Old Fashioned\"], dtype=object),\n",
       " array(['The Paiza Club'], dtype=object)]"
      ]
     },
     "execution_count": 89,
     "metadata": {},
     "output_type": "execute_result"
    }
   ],
   "source": [
    "[df_filter.name[df_filter.business_id == df_utility.columns[i]].unique() \n",
    " for i in unrated_items_by_pred_rating[-n:]]"
   ]
  },
  {
   "cell_type": "code",
   "execution_count": null,
   "metadata": {
    "collapsed": true
   },
   "outputs": [],
   "source": []
  },
  {
   "cell_type": "markdown",
   "metadata": {},
   "source": [
    "## 3. Use non-negative matrix factorization (NMF)"
   ]
  },
  {
   "cell_type": "code",
   "execution_count": 97,
   "metadata": {
    "collapsed": true
   },
   "outputs": [],
   "source": [
    "from sklearn.decomposition import NMF\n",
    "\n",
    "nmf = NMF(n_components=10)\n",
    "nmf.fit(df_utility)\n",
    "W = nmf.transform(df_utility)\n",
    "H = nmf.components_"
   ]
  },
  {
   "cell_type": "code",
   "execution_count": 125,
   "metadata": {},
   "outputs": [
    {
     "data": {
      "text/plain": [
       "1322.5368422289296"
      ]
     },
     "execution_count": 125,
     "metadata": {},
     "output_type": "execute_result"
    }
   ],
   "source": [
    "nmf.reconstruction_err_"
   ]
  },
  {
   "cell_type": "code",
   "execution_count": 124,
   "metadata": {},
   "outputs": [
    {
     "data": {
      "text/plain": [
       "((5160, 10), (10, 4394))"
      ]
     },
     "execution_count": 124,
     "metadata": {},
     "output_type": "execute_result"
    }
   ],
   "source": [
    "# Make interpretable\n",
    "W, H = (np.around(x,2) for x in (W,H))\n",
    "W = pd.DataFrame(W, index=df_utility.index)\n",
    "H = pd.DataFrame(H, columns=df_utility.columns)\n",
    "W.shape, H.shape"
   ]
  },
  {
   "cell_type": "code",
   "execution_count": 119,
   "metadata": {},
   "outputs": [
    {
     "data": {
      "text/html": [
       "<div>\n",
       "<style>\n",
       "    .dataframe thead tr:only-child th {\n",
       "        text-align: right;\n",
       "    }\n",
       "\n",
       "    .dataframe thead th {\n",
       "        text-align: left;\n",
       "    }\n",
       "\n",
       "    .dataframe tbody tr th {\n",
       "        vertical-align: top;\n",
       "    }\n",
       "</style>\n",
       "<table border=\"1\" class=\"dataframe\">\n",
       "  <thead>\n",
       "    <tr style=\"text-align: right;\">\n",
       "      <th>business_id</th>\n",
       "      <th>--9e1ONYQuAa-CB_Rrw7Tw</th>\n",
       "      <th>-1m9o3vGRA8IBPNvNqKLmA</th>\n",
       "      <th>-1vfRrlnNnNJ5boOVghMPA</th>\n",
       "      <th>-3zffZUHoY8bQjGfPSoBKQ</th>\n",
       "      <th>-8R_-EkGpUhBk55K9Dd4mg</th>\n",
       "      <th>-9YyInW1wapzdNZrhQJ9dg</th>\n",
       "      <th>-AD5PiuJHgdUcAK-Vxao2A</th>\n",
       "      <th>-ADtl9bLp8wNqYX1k3KuxA</th>\n",
       "      <th>-BS4aZAQm9u41YnB9MUASA</th>\n",
       "      <th>-Bf8BQ3yMk8U2f45r2DRKw</th>\n",
       "      <th>...</th>\n",
       "      <th>zmltWmTpoBt5sCU-5Kzj-Q</th>\n",
       "      <th>znWHLW1pt19HzW1VY6KfCA</th>\n",
       "      <th>zp-K5s3pGTWuuaVBWo6WZA</th>\n",
       "      <th>zpoZ6WyQUYff18-z4ZU1mA</th>\n",
       "      <th>zrQ1zKWC-W2PCvwjBururQ</th>\n",
       "      <th>zsQk990PubOHjr1YcLkQFw</th>\n",
       "      <th>zt9RLUIU32fZYOBh2L0NNQ</th>\n",
       "      <th>zttcrQP4MxNS5X5itzStXg</th>\n",
       "      <th>zuwba6QEBIDZT0tJZmNhdQ</th>\n",
       "      <th>zwNC-Ow4eIMan2__bS9-rg</th>\n",
       "    </tr>\n",
       "    <tr>\n",
       "      <th>user_id</th>\n",
       "      <th></th>\n",
       "      <th></th>\n",
       "      <th></th>\n",
       "      <th></th>\n",
       "      <th></th>\n",
       "      <th></th>\n",
       "      <th></th>\n",
       "      <th></th>\n",
       "      <th></th>\n",
       "      <th></th>\n",
       "      <th></th>\n",
       "      <th></th>\n",
       "      <th></th>\n",
       "      <th></th>\n",
       "      <th></th>\n",
       "      <th></th>\n",
       "      <th></th>\n",
       "      <th></th>\n",
       "      <th></th>\n",
       "      <th></th>\n",
       "      <th></th>\n",
       "    </tr>\n",
       "  </thead>\n",
       "  <tbody>\n",
       "    <tr>\n",
       "      <th>--ZNfWKj1VyVElRx6-g1fg</th>\n",
       "      <td>0.06</td>\n",
       "      <td>0.02</td>\n",
       "      <td>0.00</td>\n",
       "      <td>0.06</td>\n",
       "      <td>0.01</td>\n",
       "      <td>0.00</td>\n",
       "      <td>0.02</td>\n",
       "      <td>0.00</td>\n",
       "      <td>0.00</td>\n",
       "      <td>0.02</td>\n",
       "      <td>...</td>\n",
       "      <td>0.04</td>\n",
       "      <td>0.00</td>\n",
       "      <td>0.00</td>\n",
       "      <td>0.32</td>\n",
       "      <td>0.0</td>\n",
       "      <td>0.05</td>\n",
       "      <td>0.01</td>\n",
       "      <td>0.00</td>\n",
       "      <td>0.00</td>\n",
       "      <td>0.07</td>\n",
       "    </tr>\n",
       "    <tr>\n",
       "      <th>-05XqtNjcBq19vh2CVJN8g</th>\n",
       "      <td>0.00</td>\n",
       "      <td>0.00</td>\n",
       "      <td>0.00</td>\n",
       "      <td>0.00</td>\n",
       "      <td>0.00</td>\n",
       "      <td>0.00</td>\n",
       "      <td>0.00</td>\n",
       "      <td>0.01</td>\n",
       "      <td>0.01</td>\n",
       "      <td>0.02</td>\n",
       "      <td>...</td>\n",
       "      <td>0.02</td>\n",
       "      <td>0.00</td>\n",
       "      <td>0.01</td>\n",
       "      <td>0.04</td>\n",
       "      <td>0.0</td>\n",
       "      <td>0.01</td>\n",
       "      <td>0.00</td>\n",
       "      <td>0.00</td>\n",
       "      <td>0.02</td>\n",
       "      <td>0.02</td>\n",
       "    </tr>\n",
       "    <tr>\n",
       "      <th>-2gOxVWcnBr5DclrrsWXCA</th>\n",
       "      <td>0.02</td>\n",
       "      <td>0.00</td>\n",
       "      <td>0.01</td>\n",
       "      <td>0.00</td>\n",
       "      <td>0.04</td>\n",
       "      <td>0.00</td>\n",
       "      <td>0.05</td>\n",
       "      <td>0.09</td>\n",
       "      <td>0.01</td>\n",
       "      <td>0.07</td>\n",
       "      <td>...</td>\n",
       "      <td>0.03</td>\n",
       "      <td>0.05</td>\n",
       "      <td>0.01</td>\n",
       "      <td>0.17</td>\n",
       "      <td>0.0</td>\n",
       "      <td>0.02</td>\n",
       "      <td>0.01</td>\n",
       "      <td>0.01</td>\n",
       "      <td>0.01</td>\n",
       "      <td>0.12</td>\n",
       "    </tr>\n",
       "    <tr>\n",
       "      <th>-4JDJeFS0YAYSiSvIshGLQ</th>\n",
       "      <td>0.01</td>\n",
       "      <td>0.00</td>\n",
       "      <td>0.00</td>\n",
       "      <td>0.01</td>\n",
       "      <td>0.01</td>\n",
       "      <td>0.00</td>\n",
       "      <td>0.01</td>\n",
       "      <td>0.02</td>\n",
       "      <td>0.05</td>\n",
       "      <td>0.02</td>\n",
       "      <td>...</td>\n",
       "      <td>0.00</td>\n",
       "      <td>0.01</td>\n",
       "      <td>0.04</td>\n",
       "      <td>0.08</td>\n",
       "      <td>0.0</td>\n",
       "      <td>0.01</td>\n",
       "      <td>0.00</td>\n",
       "      <td>0.00</td>\n",
       "      <td>0.04</td>\n",
       "      <td>0.04</td>\n",
       "    </tr>\n",
       "    <tr>\n",
       "      <th>-50XWnmQGqBgEI-9ANvLlg</th>\n",
       "      <td>0.11</td>\n",
       "      <td>0.02</td>\n",
       "      <td>0.01</td>\n",
       "      <td>0.09</td>\n",
       "      <td>0.07</td>\n",
       "      <td>0.01</td>\n",
       "      <td>0.10</td>\n",
       "      <td>0.13</td>\n",
       "      <td>0.06</td>\n",
       "      <td>0.12</td>\n",
       "      <td>...</td>\n",
       "      <td>0.10</td>\n",
       "      <td>0.06</td>\n",
       "      <td>0.06</td>\n",
       "      <td>0.84</td>\n",
       "      <td>0.0</td>\n",
       "      <td>0.06</td>\n",
       "      <td>0.03</td>\n",
       "      <td>0.01</td>\n",
       "      <td>0.06</td>\n",
       "      <td>0.24</td>\n",
       "    </tr>\n",
       "  </tbody>\n",
       "</table>\n",
       "<p>5 rows × 4394 columns</p>\n",
       "</div>"
      ],
      "text/plain": [
       "business_id             --9e1ONYQuAa-CB_Rrw7Tw  -1m9o3vGRA8IBPNvNqKLmA  \\\n",
       "user_id                                                                  \n",
       "--ZNfWKj1VyVElRx6-g1fg                    0.06                    0.02   \n",
       "-05XqtNjcBq19vh2CVJN8g                    0.00                    0.00   \n",
       "-2gOxVWcnBr5DclrrsWXCA                    0.02                    0.00   \n",
       "-4JDJeFS0YAYSiSvIshGLQ                    0.01                    0.00   \n",
       "-50XWnmQGqBgEI-9ANvLlg                    0.11                    0.02   \n",
       "\n",
       "business_id             -1vfRrlnNnNJ5boOVghMPA  -3zffZUHoY8bQjGfPSoBKQ  \\\n",
       "user_id                                                                  \n",
       "--ZNfWKj1VyVElRx6-g1fg                    0.00                    0.06   \n",
       "-05XqtNjcBq19vh2CVJN8g                    0.00                    0.00   \n",
       "-2gOxVWcnBr5DclrrsWXCA                    0.01                    0.00   \n",
       "-4JDJeFS0YAYSiSvIshGLQ                    0.00                    0.01   \n",
       "-50XWnmQGqBgEI-9ANvLlg                    0.01                    0.09   \n",
       "\n",
       "business_id             -8R_-EkGpUhBk55K9Dd4mg  -9YyInW1wapzdNZrhQJ9dg  \\\n",
       "user_id                                                                  \n",
       "--ZNfWKj1VyVElRx6-g1fg                    0.01                    0.00   \n",
       "-05XqtNjcBq19vh2CVJN8g                    0.00                    0.00   \n",
       "-2gOxVWcnBr5DclrrsWXCA                    0.04                    0.00   \n",
       "-4JDJeFS0YAYSiSvIshGLQ                    0.01                    0.00   \n",
       "-50XWnmQGqBgEI-9ANvLlg                    0.07                    0.01   \n",
       "\n",
       "business_id             -AD5PiuJHgdUcAK-Vxao2A  -ADtl9bLp8wNqYX1k3KuxA  \\\n",
       "user_id                                                                  \n",
       "--ZNfWKj1VyVElRx6-g1fg                    0.02                    0.00   \n",
       "-05XqtNjcBq19vh2CVJN8g                    0.00                    0.01   \n",
       "-2gOxVWcnBr5DclrrsWXCA                    0.05                    0.09   \n",
       "-4JDJeFS0YAYSiSvIshGLQ                    0.01                    0.02   \n",
       "-50XWnmQGqBgEI-9ANvLlg                    0.10                    0.13   \n",
       "\n",
       "business_id             -BS4aZAQm9u41YnB9MUASA  -Bf8BQ3yMk8U2f45r2DRKw  \\\n",
       "user_id                                                                  \n",
       "--ZNfWKj1VyVElRx6-g1fg                    0.00                    0.02   \n",
       "-05XqtNjcBq19vh2CVJN8g                    0.01                    0.02   \n",
       "-2gOxVWcnBr5DclrrsWXCA                    0.01                    0.07   \n",
       "-4JDJeFS0YAYSiSvIshGLQ                    0.05                    0.02   \n",
       "-50XWnmQGqBgEI-9ANvLlg                    0.06                    0.12   \n",
       "\n",
       "business_id                      ...            zmltWmTpoBt5sCU-5Kzj-Q  \\\n",
       "user_id                          ...                                     \n",
       "--ZNfWKj1VyVElRx6-g1fg           ...                              0.04   \n",
       "-05XqtNjcBq19vh2CVJN8g           ...                              0.02   \n",
       "-2gOxVWcnBr5DclrrsWXCA           ...                              0.03   \n",
       "-4JDJeFS0YAYSiSvIshGLQ           ...                              0.00   \n",
       "-50XWnmQGqBgEI-9ANvLlg           ...                              0.10   \n",
       "\n",
       "business_id             znWHLW1pt19HzW1VY6KfCA  zp-K5s3pGTWuuaVBWo6WZA  \\\n",
       "user_id                                                                  \n",
       "--ZNfWKj1VyVElRx6-g1fg                    0.00                    0.00   \n",
       "-05XqtNjcBq19vh2CVJN8g                    0.00                    0.01   \n",
       "-2gOxVWcnBr5DclrrsWXCA                    0.05                    0.01   \n",
       "-4JDJeFS0YAYSiSvIshGLQ                    0.01                    0.04   \n",
       "-50XWnmQGqBgEI-9ANvLlg                    0.06                    0.06   \n",
       "\n",
       "business_id             zpoZ6WyQUYff18-z4ZU1mA  zrQ1zKWC-W2PCvwjBururQ  \\\n",
       "user_id                                                                  \n",
       "--ZNfWKj1VyVElRx6-g1fg                    0.32                     0.0   \n",
       "-05XqtNjcBq19vh2CVJN8g                    0.04                     0.0   \n",
       "-2gOxVWcnBr5DclrrsWXCA                    0.17                     0.0   \n",
       "-4JDJeFS0YAYSiSvIshGLQ                    0.08                     0.0   \n",
       "-50XWnmQGqBgEI-9ANvLlg                    0.84                     0.0   \n",
       "\n",
       "business_id             zsQk990PubOHjr1YcLkQFw  zt9RLUIU32fZYOBh2L0NNQ  \\\n",
       "user_id                                                                  \n",
       "--ZNfWKj1VyVElRx6-g1fg                    0.05                    0.01   \n",
       "-05XqtNjcBq19vh2CVJN8g                    0.01                    0.00   \n",
       "-2gOxVWcnBr5DclrrsWXCA                    0.02                    0.01   \n",
       "-4JDJeFS0YAYSiSvIshGLQ                    0.01                    0.00   \n",
       "-50XWnmQGqBgEI-9ANvLlg                    0.06                    0.03   \n",
       "\n",
       "business_id             zttcrQP4MxNS5X5itzStXg  zuwba6QEBIDZT0tJZmNhdQ  \\\n",
       "user_id                                                                  \n",
       "--ZNfWKj1VyVElRx6-g1fg                    0.00                    0.00   \n",
       "-05XqtNjcBq19vh2CVJN8g                    0.00                    0.02   \n",
       "-2gOxVWcnBr5DclrrsWXCA                    0.01                    0.01   \n",
       "-4JDJeFS0YAYSiSvIshGLQ                    0.00                    0.04   \n",
       "-50XWnmQGqBgEI-9ANvLlg                    0.01                    0.06   \n",
       "\n",
       "business_id             zwNC-Ow4eIMan2__bS9-rg  \n",
       "user_id                                         \n",
       "--ZNfWKj1VyVElRx6-g1fg                    0.07  \n",
       "-05XqtNjcBq19vh2CVJN8g                    0.02  \n",
       "-2gOxVWcnBr5DclrrsWXCA                    0.12  \n",
       "-4JDJeFS0YAYSiSvIshGLQ                    0.04  \n",
       "-50XWnmQGqBgEI-9ANvLlg                    0.24  \n",
       "\n",
       "[5 rows x 4394 columns]"
      ]
     },
     "execution_count": 119,
     "metadata": {},
     "output_type": "execute_result"
    }
   ],
   "source": [
    "# Verify reconstruction\n",
    "np.around(W.dot(H),2).head()"
   ]
  },
  {
   "cell_type": "code",
   "execution_count": 117,
   "metadata": {},
   "outputs": [
    {
     "data": {
      "text/html": [
       "<div>\n",
       "<style>\n",
       "    .dataframe thead tr:only-child th {\n",
       "        text-align: right;\n",
       "    }\n",
       "\n",
       "    .dataframe thead th {\n",
       "        text-align: left;\n",
       "    }\n",
       "\n",
       "    .dataframe tbody tr th {\n",
       "        vertical-align: top;\n",
       "    }\n",
       "</style>\n",
       "<table border=\"1\" class=\"dataframe\">\n",
       "  <thead>\n",
       "    <tr style=\"text-align: right;\">\n",
       "      <th>business_id</th>\n",
       "      <th>--9e1ONYQuAa-CB_Rrw7Tw</th>\n",
       "      <th>-1m9o3vGRA8IBPNvNqKLmA</th>\n",
       "      <th>-1vfRrlnNnNJ5boOVghMPA</th>\n",
       "      <th>-3zffZUHoY8bQjGfPSoBKQ</th>\n",
       "      <th>-8R_-EkGpUhBk55K9Dd4mg</th>\n",
       "      <th>-9YyInW1wapzdNZrhQJ9dg</th>\n",
       "      <th>-AD5PiuJHgdUcAK-Vxao2A</th>\n",
       "      <th>-ADtl9bLp8wNqYX1k3KuxA</th>\n",
       "      <th>-BS4aZAQm9u41YnB9MUASA</th>\n",
       "      <th>-Bf8BQ3yMk8U2f45r2DRKw</th>\n",
       "      <th>...</th>\n",
       "      <th>zmltWmTpoBt5sCU-5Kzj-Q</th>\n",
       "      <th>znWHLW1pt19HzW1VY6KfCA</th>\n",
       "      <th>zp-K5s3pGTWuuaVBWo6WZA</th>\n",
       "      <th>zpoZ6WyQUYff18-z4ZU1mA</th>\n",
       "      <th>zrQ1zKWC-W2PCvwjBururQ</th>\n",
       "      <th>zsQk990PubOHjr1YcLkQFw</th>\n",
       "      <th>zt9RLUIU32fZYOBh2L0NNQ</th>\n",
       "      <th>zttcrQP4MxNS5X5itzStXg</th>\n",
       "      <th>zuwba6QEBIDZT0tJZmNhdQ</th>\n",
       "      <th>zwNC-Ow4eIMan2__bS9-rg</th>\n",
       "    </tr>\n",
       "    <tr>\n",
       "      <th>user_id</th>\n",
       "      <th></th>\n",
       "      <th></th>\n",
       "      <th></th>\n",
       "      <th></th>\n",
       "      <th></th>\n",
       "      <th></th>\n",
       "      <th></th>\n",
       "      <th></th>\n",
       "      <th></th>\n",
       "      <th></th>\n",
       "      <th></th>\n",
       "      <th></th>\n",
       "      <th></th>\n",
       "      <th></th>\n",
       "      <th></th>\n",
       "      <th></th>\n",
       "      <th></th>\n",
       "      <th></th>\n",
       "      <th></th>\n",
       "      <th></th>\n",
       "      <th></th>\n",
       "    </tr>\n",
       "  </thead>\n",
       "  <tbody>\n",
       "    <tr>\n",
       "      <th>--ZNfWKj1VyVElRx6-g1fg</th>\n",
       "      <td>0</td>\n",
       "      <td>0</td>\n",
       "      <td>0</td>\n",
       "      <td>0</td>\n",
       "      <td>0</td>\n",
       "      <td>0</td>\n",
       "      <td>0</td>\n",
       "      <td>0</td>\n",
       "      <td>0</td>\n",
       "      <td>0</td>\n",
       "      <td>...</td>\n",
       "      <td>0</td>\n",
       "      <td>0</td>\n",
       "      <td>0</td>\n",
       "      <td>0</td>\n",
       "      <td>0</td>\n",
       "      <td>3</td>\n",
       "      <td>0</td>\n",
       "      <td>0</td>\n",
       "      <td>0</td>\n",
       "      <td>0</td>\n",
       "    </tr>\n",
       "    <tr>\n",
       "      <th>-05XqtNjcBq19vh2CVJN8g</th>\n",
       "      <td>0</td>\n",
       "      <td>0</td>\n",
       "      <td>0</td>\n",
       "      <td>0</td>\n",
       "      <td>0</td>\n",
       "      <td>0</td>\n",
       "      <td>0</td>\n",
       "      <td>0</td>\n",
       "      <td>0</td>\n",
       "      <td>0</td>\n",
       "      <td>...</td>\n",
       "      <td>0</td>\n",
       "      <td>0</td>\n",
       "      <td>0</td>\n",
       "      <td>0</td>\n",
       "      <td>0</td>\n",
       "      <td>0</td>\n",
       "      <td>0</td>\n",
       "      <td>0</td>\n",
       "      <td>0</td>\n",
       "      <td>0</td>\n",
       "    </tr>\n",
       "    <tr>\n",
       "      <th>-2gOxVWcnBr5DclrrsWXCA</th>\n",
       "      <td>0</td>\n",
       "      <td>0</td>\n",
       "      <td>0</td>\n",
       "      <td>0</td>\n",
       "      <td>0</td>\n",
       "      <td>0</td>\n",
       "      <td>0</td>\n",
       "      <td>0</td>\n",
       "      <td>0</td>\n",
       "      <td>0</td>\n",
       "      <td>...</td>\n",
       "      <td>0</td>\n",
       "      <td>0</td>\n",
       "      <td>0</td>\n",
       "      <td>0</td>\n",
       "      <td>0</td>\n",
       "      <td>0</td>\n",
       "      <td>0</td>\n",
       "      <td>0</td>\n",
       "      <td>0</td>\n",
       "      <td>0</td>\n",
       "    </tr>\n",
       "    <tr>\n",
       "      <th>-4JDJeFS0YAYSiSvIshGLQ</th>\n",
       "      <td>0</td>\n",
       "      <td>0</td>\n",
       "      <td>0</td>\n",
       "      <td>0</td>\n",
       "      <td>0</td>\n",
       "      <td>0</td>\n",
       "      <td>0</td>\n",
       "      <td>0</td>\n",
       "      <td>0</td>\n",
       "      <td>0</td>\n",
       "      <td>...</td>\n",
       "      <td>0</td>\n",
       "      <td>0</td>\n",
       "      <td>0</td>\n",
       "      <td>0</td>\n",
       "      <td>0</td>\n",
       "      <td>0</td>\n",
       "      <td>0</td>\n",
       "      <td>0</td>\n",
       "      <td>0</td>\n",
       "      <td>0</td>\n",
       "    </tr>\n",
       "    <tr>\n",
       "      <th>-50XWnmQGqBgEI-9ANvLlg</th>\n",
       "      <td>0</td>\n",
       "      <td>0</td>\n",
       "      <td>0</td>\n",
       "      <td>0</td>\n",
       "      <td>0</td>\n",
       "      <td>0</td>\n",
       "      <td>0</td>\n",
       "      <td>0</td>\n",
       "      <td>0</td>\n",
       "      <td>0</td>\n",
       "      <td>...</td>\n",
       "      <td>0</td>\n",
       "      <td>0</td>\n",
       "      <td>0</td>\n",
       "      <td>0</td>\n",
       "      <td>0</td>\n",
       "      <td>0</td>\n",
       "      <td>0</td>\n",
       "      <td>0</td>\n",
       "      <td>0</td>\n",
       "      <td>0</td>\n",
       "    </tr>\n",
       "  </tbody>\n",
       "</table>\n",
       "<p>5 rows × 4394 columns</p>\n",
       "</div>"
      ],
      "text/plain": [
       "business_id             --9e1ONYQuAa-CB_Rrw7Tw  -1m9o3vGRA8IBPNvNqKLmA  \\\n",
       "user_id                                                                  \n",
       "--ZNfWKj1VyVElRx6-g1fg                       0                       0   \n",
       "-05XqtNjcBq19vh2CVJN8g                       0                       0   \n",
       "-2gOxVWcnBr5DclrrsWXCA                       0                       0   \n",
       "-4JDJeFS0YAYSiSvIshGLQ                       0                       0   \n",
       "-50XWnmQGqBgEI-9ANvLlg                       0                       0   \n",
       "\n",
       "business_id             -1vfRrlnNnNJ5boOVghMPA  -3zffZUHoY8bQjGfPSoBKQ  \\\n",
       "user_id                                                                  \n",
       "--ZNfWKj1VyVElRx6-g1fg                       0                       0   \n",
       "-05XqtNjcBq19vh2CVJN8g                       0                       0   \n",
       "-2gOxVWcnBr5DclrrsWXCA                       0                       0   \n",
       "-4JDJeFS0YAYSiSvIshGLQ                       0                       0   \n",
       "-50XWnmQGqBgEI-9ANvLlg                       0                       0   \n",
       "\n",
       "business_id             -8R_-EkGpUhBk55K9Dd4mg  -9YyInW1wapzdNZrhQJ9dg  \\\n",
       "user_id                                                                  \n",
       "--ZNfWKj1VyVElRx6-g1fg                       0                       0   \n",
       "-05XqtNjcBq19vh2CVJN8g                       0                       0   \n",
       "-2gOxVWcnBr5DclrrsWXCA                       0                       0   \n",
       "-4JDJeFS0YAYSiSvIshGLQ                       0                       0   \n",
       "-50XWnmQGqBgEI-9ANvLlg                       0                       0   \n",
       "\n",
       "business_id             -AD5PiuJHgdUcAK-Vxao2A  -ADtl9bLp8wNqYX1k3KuxA  \\\n",
       "user_id                                                                  \n",
       "--ZNfWKj1VyVElRx6-g1fg                       0                       0   \n",
       "-05XqtNjcBq19vh2CVJN8g                       0                       0   \n",
       "-2gOxVWcnBr5DclrrsWXCA                       0                       0   \n",
       "-4JDJeFS0YAYSiSvIshGLQ                       0                       0   \n",
       "-50XWnmQGqBgEI-9ANvLlg                       0                       0   \n",
       "\n",
       "business_id             -BS4aZAQm9u41YnB9MUASA  -Bf8BQ3yMk8U2f45r2DRKw  \\\n",
       "user_id                                                                  \n",
       "--ZNfWKj1VyVElRx6-g1fg                       0                       0   \n",
       "-05XqtNjcBq19vh2CVJN8g                       0                       0   \n",
       "-2gOxVWcnBr5DclrrsWXCA                       0                       0   \n",
       "-4JDJeFS0YAYSiSvIshGLQ                       0                       0   \n",
       "-50XWnmQGqBgEI-9ANvLlg                       0                       0   \n",
       "\n",
       "business_id                      ...            zmltWmTpoBt5sCU-5Kzj-Q  \\\n",
       "user_id                          ...                                     \n",
       "--ZNfWKj1VyVElRx6-g1fg           ...                                 0   \n",
       "-05XqtNjcBq19vh2CVJN8g           ...                                 0   \n",
       "-2gOxVWcnBr5DclrrsWXCA           ...                                 0   \n",
       "-4JDJeFS0YAYSiSvIshGLQ           ...                                 0   \n",
       "-50XWnmQGqBgEI-9ANvLlg           ...                                 0   \n",
       "\n",
       "business_id             znWHLW1pt19HzW1VY6KfCA  zp-K5s3pGTWuuaVBWo6WZA  \\\n",
       "user_id                                                                  \n",
       "--ZNfWKj1VyVElRx6-g1fg                       0                       0   \n",
       "-05XqtNjcBq19vh2CVJN8g                       0                       0   \n",
       "-2gOxVWcnBr5DclrrsWXCA                       0                       0   \n",
       "-4JDJeFS0YAYSiSvIshGLQ                       0                       0   \n",
       "-50XWnmQGqBgEI-9ANvLlg                       0                       0   \n",
       "\n",
       "business_id             zpoZ6WyQUYff18-z4ZU1mA  zrQ1zKWC-W2PCvwjBururQ  \\\n",
       "user_id                                                                  \n",
       "--ZNfWKj1VyVElRx6-g1fg                       0                       0   \n",
       "-05XqtNjcBq19vh2CVJN8g                       0                       0   \n",
       "-2gOxVWcnBr5DclrrsWXCA                       0                       0   \n",
       "-4JDJeFS0YAYSiSvIshGLQ                       0                       0   \n",
       "-50XWnmQGqBgEI-9ANvLlg                       0                       0   \n",
       "\n",
       "business_id             zsQk990PubOHjr1YcLkQFw  zt9RLUIU32fZYOBh2L0NNQ  \\\n",
       "user_id                                                                  \n",
       "--ZNfWKj1VyVElRx6-g1fg                       3                       0   \n",
       "-05XqtNjcBq19vh2CVJN8g                       0                       0   \n",
       "-2gOxVWcnBr5DclrrsWXCA                       0                       0   \n",
       "-4JDJeFS0YAYSiSvIshGLQ                       0                       0   \n",
       "-50XWnmQGqBgEI-9ANvLlg                       0                       0   \n",
       "\n",
       "business_id             zttcrQP4MxNS5X5itzStXg  zuwba6QEBIDZT0tJZmNhdQ  \\\n",
       "user_id                                                                  \n",
       "--ZNfWKj1VyVElRx6-g1fg                       0                       0   \n",
       "-05XqtNjcBq19vh2CVJN8g                       0                       0   \n",
       "-2gOxVWcnBr5DclrrsWXCA                       0                       0   \n",
       "-4JDJeFS0YAYSiSvIshGLQ                       0                       0   \n",
       "-50XWnmQGqBgEI-9ANvLlg                       0                       0   \n",
       "\n",
       "business_id             zwNC-Ow4eIMan2__bS9-rg  \n",
       "user_id                                         \n",
       "--ZNfWKj1VyVElRx6-g1fg                       0  \n",
       "-05XqtNjcBq19vh2CVJN8g                       0  \n",
       "-2gOxVWcnBr5DclrrsWXCA                       0  \n",
       "-4JDJeFS0YAYSiSvIshGLQ                       0  \n",
       "-50XWnmQGqBgEI-9ANvLlg                       0  \n",
       "\n",
       "[5 rows x 4394 columns]"
      ]
     },
     "execution_count": 117,
     "metadata": {},
     "output_type": "execute_result"
    }
   ],
   "source": [
    "df_utility.head()"
   ]
  },
  {
   "cell_type": "code",
   "execution_count": 120,
   "metadata": {},
   "outputs": [
    {
     "data": {
      "text/plain": [
       "Index(['zRqi6L1u-YmmVAHjeUbGMQ', 'uW6UHfONAmm8QttPkbMewQ',\n",
       "       'q3oJ6bNRV3OoJrwc95GOwg', 'hIUKufhwR6Ifn7bi0-phLA',\n",
       "       '4mb32UmQULqg7IMck28vog', 'V-0qRzBHKixmQgon_fW_AA',\n",
       "       'SVGApDPNdpFlEjwRQThCxA', 'BhueLLvA0k9G1Lr0WeZX9w',\n",
       "       'mDR12Hafvr84ctpsV6YLag', 'NIOwzgujIXKVBEVNTQBXpg'],\n",
       "      dtype='object', name='business_id')"
      ]
     },
     "execution_count": 120,
     "metadata": {},
     "output_type": "execute_result"
    }
   ],
   "source": [
    "# Top 10 restaurants in genre 0\n",
    "top_10 = H.iloc[0].sort_values(ascending=False).index[:10]\n",
    "top_10"
   ]
  },
  {
   "cell_type": "code",
   "execution_count": 123,
   "metadata": {},
   "outputs": [
    {
     "data": {
      "text/plain": [
       "[array(['SkinnyFATS'], dtype=object),\n",
       " array(['Island Flavor'], dtype=object),\n",
       " array(['Dirt Dog'], dtype=object),\n",
       " array(['Baguette Cafe'], dtype=object),\n",
       " array(['Pinches Tacos'], dtype=object),\n",
       " array(['Makai Pacific Island Grill'], dtype=object),\n",
       " array([\"Juan's Flaming Fajitas & Cantina\"], dtype=object),\n",
       " array(['Cafe Zupas'], dtype=object),\n",
       " array(['Mr Mamas'], dtype=object),\n",
       " array(['Jjanga Steak & Sushi'], dtype=object)]"
      ]
     },
     "execution_count": 123,
     "metadata": {},
     "output_type": "execute_result"
    }
   ],
   "source": [
    "[df_filter.name[df_filter.business_id == i].unique()\n",
    " for i in top_10]"
   ]
  },
  {
   "cell_type": "code",
   "execution_count": null,
   "metadata": {
    "collapsed": true
   },
   "outputs": [],
   "source": []
  }
 ],
 "metadata": {
  "anaconda-cloud": {},
  "kernelspec": {
   "display_name": "Python 3",
   "language": "python",
   "name": "python3"
  },
  "language_info": {
   "codemirror_mode": {
    "name": "ipython",
    "version": 3
   },
   "file_extension": ".py",
   "mimetype": "text/x-python",
   "name": "python",
   "nbconvert_exporter": "python",
   "pygments_lexer": "ipython3",
   "version": "3.5.5"
  }
 },
 "nbformat": 4,
 "nbformat_minor": 1
}
