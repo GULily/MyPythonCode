{
 "cells": [
  {
   "cell_type": "code",
   "execution_count": 1,
   "metadata": {},
   "outputs": [
    {
     "name": "stdout",
     "output_type": "stream",
     "text": [
      "dfI: (6492, 19)\n",
      "recall number unique rate: 0.9935304990757856\n",
      "event id unique rate: 0.24491682070240295\n",
      "postal code missing rate: 0.00616142945163\n",
      "United States    6452\n",
      "Canada             31\n",
      "France              3\n",
      "Italy               2\n",
      "Taiwan              2\n",
      "Guatemala           1\n",
      "Australia           1\n",
      "Name: country, dtype: int64\n",
      "Terminated    3763\n",
      "Ongoing       2457\n",
      "Completed      272\n",
      "Name: status, dtype: int64\n",
      "\n",
      "\n",
      "dfT: (7935, 20)\n",
      "recall number unique rate: 0.9984877126654065\n",
      "event id unique rate: 0.23994959042218023\n",
      "postal code missing rate: 0.00529300567108\n",
      "United States    7892\n",
      "Canada             32\n",
      "Chile               5\n",
      "France              4\n",
      "Guatemala           1\n",
      "Thailand            1\n",
      "Name: country, dtype: int64\n",
      "Class II     3859\n",
      "Class I      3763\n",
      "Class III     313\n",
      "Name: classification, dtype: int64\n"
     ]
    }
   ],
   "source": [
    "import pandas as pd\n",
    "\n",
    "dfI=pd.read_csv(\"ScrapeClassI.csv\")\n",
    "dfT=pd.read_csv(\"ScrapeTerminated.csv\")\n",
    "\n",
    "#print(dfI.head())\n",
    "print('dfI:', dfI.shape)\n",
    "print('recall number unique rate:', dfI['recall_number'].nunique()/dfI.shape[0])\n",
    "print('event id unique rate:', dfI['event_id'].nunique()/dfI.shape[0])\n",
    "print('postal code missing rate:', dfI['postal_code'].isnull().sum()/dfI.shape[0])\n",
    "print(dfI['country'].value_counts())\n",
    "print(dfI['status'].value_counts())\n",
    "\n",
    "print('\\n')\n",
    "print('dfT:', dfT.shape)\n",
    "print('recall number unique rate:', dfT['recall_number'].nunique()/dfT.shape[0])\n",
    "print('event id unique rate:', dfT['event_id'].nunique()/dfT.shape[0])\n",
    "print('postal code missing rate:', dfT['postal_code'].isnull().sum()/dfT.shape[0])\n",
    "print(dfT['country'].value_counts())\n",
    "print(dfT['classification'].value_counts())"
   ]
  },
  {
   "cell_type": "markdown",
   "metadata": {},
   "source": [
    "### Clean Data"
   ]
  },
  {
   "cell_type": "code",
   "execution_count": 2,
   "metadata": {},
   "outputs": [
    {
     "name": "stdout",
     "output_type": "stream",
     "text": [
      "dfI: (2439, 19)\n",
      "dfT (3741, 20)\n",
      "Combined df: (6180, 20)\n"
     ]
    }
   ],
   "source": [
    "# Need a subset of ScarpeClassI with and \"ongoing\"\n",
    "dfI = dfI[dfI.country == 'United States']\n",
    "dfI = dfI[dfI.status == 'Ongoing']\n",
    "print('dfI:', dfI.shape)\n",
    "\n",
    "# Need a subset of ScrapeTerminated with \"Class I\"\n",
    "dfT = dfT[dfT.country == 'United States']\n",
    "dfT = dfT[dfT.classification == 'Class I']\n",
    "print('dfT', dfT.shape)\n",
    "\n",
    "# Combine two subsets, get a new set of \"Class I\" with both \"terminated\" and \"ongoing\"\n",
    "df = pd.concat([dfI, dfT])\n",
    "print('Combined df:', df.shape)"
   ]
  },
  {
   "cell_type": "code",
   "execution_count": 3,
   "metadata": {},
   "outputs": [
    {
     "name": "stdout",
     "output_type": "stream",
     "text": [
      "(6180, 18)\n"
     ]
    },
    {
     "data": {
      "text/html": [
       "<div>\n",
       "<style>\n",
       "    .dataframe thead tr:only-child th {\n",
       "        text-align: right;\n",
       "    }\n",
       "\n",
       "    .dataframe thead th {\n",
       "        text-align: left;\n",
       "    }\n",
       "\n",
       "    .dataframe tbody tr th {\n",
       "        vertical-align: top;\n",
       "    }\n",
       "</style>\n",
       "<table border=\"1\" class=\"dataframe\">\n",
       "  <thead>\n",
       "    <tr style=\"text-align: right;\">\n",
       "      <th></th>\n",
       "      <th>city</th>\n",
       "      <th>classification</th>\n",
       "      <th>code_info</th>\n",
       "      <th>country</th>\n",
       "      <th>distribution_pattern</th>\n",
       "      <th>event_id</th>\n",
       "      <th>initial_firm_notification</th>\n",
       "      <th>postal_code</th>\n",
       "      <th>product_description</th>\n",
       "      <th>product_type</th>\n",
       "      <th>reason_for_recall</th>\n",
       "      <th>recall_initiation_date</th>\n",
       "      <th>recall_number</th>\n",
       "      <th>recalling_firm</th>\n",
       "      <th>state</th>\n",
       "      <th>status</th>\n",
       "      <th>termination_date</th>\n",
       "      <th>duration</th>\n",
       "    </tr>\n",
       "  </thead>\n",
       "  <tbody>\n",
       "    <tr>\n",
       "      <th>0</th>\n",
       "      <td>Silver Bay</td>\n",
       "      <td>Class I</td>\n",
       "      <td>wilderness family naturals coconut chia puddin...</td>\n",
       "      <td>United States</td>\n",
       "      <td>usa: nationwide    ous: canada</td>\n",
       "      <td>73276</td>\n",
       "      <td>press release</td>\n",
       "      <td>55614-1211</td>\n",
       "      <td>lot numbers:    1000011556  1000011723  10000...</td>\n",
       "      <td>Food</td>\n",
       "      <td>wilderness family naturals organic coconut mil...</td>\n",
       "      <td>2016-02-12</td>\n",
       "      <td>F-0760-2016</td>\n",
       "      <td>wilderness family naturals llc</td>\n",
       "      <td>MN</td>\n",
       "      <td>Ongoing</td>\n",
       "      <td>NaT</td>\n",
       "      <td>NaT</td>\n",
       "    </tr>\n",
       "    <tr>\n",
       "      <th>5</th>\n",
       "      <td>Mamaroneck</td>\n",
       "      <td>Class I</td>\n",
       "      <td>refrigerated ready-to-eat sliced cold smoked p...</td>\n",
       "      <td>United States</td>\n",
       "      <td>ny nj ct il al mn mt</td>\n",
       "      <td>76952</td>\n",
       "      <td>press release</td>\n",
       "      <td>10543-2232</td>\n",
       "      <td>lots 82 through 96 (listed on back of packagin...</td>\n",
       "      <td>Food</td>\n",
       "      <td>the products have the potential to be contamin...</td>\n",
       "      <td>2017-04-07</td>\n",
       "      <td>F-2257-2017</td>\n",
       "      <td>the smokehouse of new york llc</td>\n",
       "      <td>NY</td>\n",
       "      <td>Ongoing</td>\n",
       "      <td>NaT</td>\n",
       "      <td>NaT</td>\n",
       "    </tr>\n",
       "    <tr>\n",
       "      <th>6</th>\n",
       "      <td>Camden</td>\n",
       "      <td>Class I</td>\n",
       "      <td>nor-tech dairy  mozz/muenster/prov feather shr...</td>\n",
       "      <td>United States</td>\n",
       "      <td>domestic: michigan indiana illinois ohiopennsy...</td>\n",
       "      <td>75426</td>\n",
       "      <td>telephone</td>\n",
       "      <td>49232-9010</td>\n",
       "      <td>best used by: 12-05-2016</td>\n",
       "      <td>Food</td>\n",
       "      <td>kuster's inc is voluntarily recalling its shre...</td>\n",
       "      <td>2016-10-10</td>\n",
       "      <td>F-0439-2017</td>\n",
       "      <td>kuster's inc</td>\n",
       "      <td>MI</td>\n",
       "      <td>Ongoing</td>\n",
       "      <td>NaT</td>\n",
       "      <td>NaT</td>\n",
       "    </tr>\n",
       "    <tr>\n",
       "      <th>7</th>\n",
       "      <td>Edison</td>\n",
       "      <td>Class I</td>\n",
       "      <td>deer cumin powder packed for best foods inc ed...</td>\n",
       "      <td>United States</td>\n",
       "      <td>de ct ma pa nj ny &amp; va</td>\n",
       "      <td>70929</td>\n",
       "      <td>press release</td>\n",
       "      <td>08817-6003</td>\n",
       "      <td>no codes</td>\n",
       "      <td>Food</td>\n",
       "      <td>cumin powder 7 oz and 14 oz may contain undecl...</td>\n",
       "      <td>2015-04-06</td>\n",
       "      <td>F-2303-2015</td>\n",
       "      <td>best foods nj inc</td>\n",
       "      <td>NJ</td>\n",
       "      <td>Ongoing</td>\n",
       "      <td>NaT</td>\n",
       "      <td>NaT</td>\n",
       "    </tr>\n",
       "    <tr>\n",
       "      <th>11</th>\n",
       "      <td>Austin</td>\n",
       "      <td>Class I</td>\n",
       "      <td>grassfields polkton corners cheese cut and wra...</td>\n",
       "      <td>United States</td>\n",
       "      <td>nationwide</td>\n",
       "      <td>74864</td>\n",
       "      <td>e-mail</td>\n",
       "      <td>78703-4648</td>\n",
       "      <td>plu codes that range from 0206151 to 0206159 ...</td>\n",
       "      <td>Food</td>\n",
       "      <td>possible contamination with shiga toxin-produc...</td>\n",
       "      <td>2016-08-03</td>\n",
       "      <td>F-2150-2016</td>\n",
       "      <td>whole foods market</td>\n",
       "      <td>TX</td>\n",
       "      <td>Ongoing</td>\n",
       "      <td>NaT</td>\n",
       "      <td>NaT</td>\n",
       "    </tr>\n",
       "  </tbody>\n",
       "</table>\n",
       "</div>"
      ],
      "text/plain": [
       "          city classification  \\\n",
       "0   Silver Bay        Class I   \n",
       "5   Mamaroneck        Class I   \n",
       "6       Camden        Class I   \n",
       "7       Edison        Class I   \n",
       "11      Austin        Class I   \n",
       "\n",
       "                                            code_info        country  \\\n",
       "0   wilderness family naturals coconut chia puddin...  United States   \n",
       "5   refrigerated ready-to-eat sliced cold smoked p...  United States   \n",
       "6   nor-tech dairy  mozz/muenster/prov feather shr...  United States   \n",
       "7   deer cumin powder packed for best foods inc ed...  United States   \n",
       "11  grassfields polkton corners cheese cut and wra...  United States   \n",
       "\n",
       "                                 distribution_pattern  event_id  \\\n",
       "0                      usa: nationwide    ous: canada     73276   \n",
       "5                                ny nj ct il al mn mt     76952   \n",
       "6   domestic: michigan indiana illinois ohiopennsy...     75426   \n",
       "7                              de ct ma pa nj ny & va     70929   \n",
       "11                                         nationwide     74864   \n",
       "\n",
       "   initial_firm_notification postal_code  \\\n",
       "0              press release  55614-1211   \n",
       "5              press release  10543-2232   \n",
       "6                  telephone  49232-9010   \n",
       "7              press release  08817-6003   \n",
       "11                    e-mail  78703-4648   \n",
       "\n",
       "                                  product_description product_type  \\\n",
       "0    lot numbers:    1000011556  1000011723  10000...         Food   \n",
       "5   lots 82 through 96 (listed on back of packagin...         Food   \n",
       "6                            best used by: 12-05-2016         Food   \n",
       "7                                            no codes         Food   \n",
       "11   plu codes that range from 0206151 to 0206159 ...         Food   \n",
       "\n",
       "                                    reason_for_recall recall_initiation_date  \\\n",
       "0   wilderness family naturals organic coconut mil...             2016-02-12   \n",
       "5   the products have the potential to be contamin...             2017-04-07   \n",
       "6   kuster's inc is voluntarily recalling its shre...             2016-10-10   \n",
       "7   cumin powder 7 oz and 14 oz may contain undecl...             2015-04-06   \n",
       "11  possible contamination with shiga toxin-produc...             2016-08-03   \n",
       "\n",
       "   recall_number                  recalling_firm state   status  \\\n",
       "0    F-0760-2016  wilderness family naturals llc    MN  Ongoing   \n",
       "5    F-2257-2017  the smokehouse of new york llc    NY  Ongoing   \n",
       "6    F-0439-2017                    kuster's inc    MI  Ongoing   \n",
       "7    F-2303-2015               best foods nj inc    NJ  Ongoing   \n",
       "11   F-2150-2016              whole foods market    TX  Ongoing   \n",
       "\n",
       "   termination_date duration  \n",
       "0               NaT      NaT  \n",
       "5               NaT      NaT  \n",
       "6               NaT      NaT  \n",
       "7               NaT      NaT  \n",
       "11              NaT      NaT  "
      ]
     },
     "execution_count": 3,
     "metadata": {},
     "output_type": "execute_result"
    }
   ],
   "source": [
    "# recall init date < center classif date < report date\n",
    "# we only keep \"recall init date\" and \"termination date (if possible)\"\n",
    "df = df.drop('center_classification_date', axis=1)\n",
    "df = df.drop('report_date', axis=1) \n",
    "df = df.drop('voluntary_mandated', axis=1)\n",
    "\n",
    "# convert string to datetime\n",
    "df['recall_initiation_date'] = pd.to_datetime(df['recall_initiation_date'], format=\"%Y%m%d\")\n",
    "df['termination_date'] = pd.to_datetime(df['termination_date'], format=\"%Y%m%d\")\n",
    "# calculate the duration\n",
    "df['duration'] = df['termination_date'] - df['recall_initiation_date']\n",
    "\n",
    "print(df.shape)\n",
    "df.head()"
   ]
  },
  {
   "cell_type": "markdown",
   "metadata": {},
   "source": [
    "### Create New Features"
   ]
  },
  {
   "cell_type": "code",
   "execution_count": 4,
   "metadata": {},
   "outputs": [
    {
     "data": {
      "text/plain": [
       "(6180, 26)"
      ]
     },
     "execution_count": 4,
     "metadata": {},
     "output_type": "execute_result"
    }
   ],
   "source": [
    "# decrease the reasons for recall into 3 types\n",
    "df['listeria'] = df['reason_for_recall'].str.contains(\"listeria\").astype(int) \n",
    "df['salmonella'] = df['reason_for_recall'].str.contains(\"salmonella\").astype(int) \n",
    "df['allergen/undeclared'] = df['reason_for_recall'].str.contains(\"allergen|undeclared\").astype(int) \n",
    "\n",
    "# choose some food as features\n",
    "df['salad/slaw'] = df['reason_for_recall'].str.contains(\"salad|slaw\").astype(int) \n",
    "df['peanut'] = df['reason_for_recall'].str.contains(\"peanut\").astype(int) \n",
    "df['butter'] = df['reason_for_recall'].str.contains(\"butter\").astype(int) \n",
    "df['milk'] = df['reason_for_recall'].str.contains(\"milk\").astype(int) \n",
    "df['ice-cream'] = df['reason_for_recall'].str.contains(\"ice cream\").astype(int) \n",
    "df.shape"
   ]
  },
  {
   "cell_type": "markdown",
   "metadata": {},
   "source": [
    "### Visualization and Analysis"
   ]
  },
  {
   "cell_type": "code",
   "execution_count": 27,
   "metadata": {},
   "outputs": [
    {
     "data": {
      "text/plain": [
       "<matplotlib.text.Text at 0x11c71d940>"
      ]
     },
     "execution_count": 27,
     "metadata": {},
     "output_type": "execute_result"
    },
    {
     "data": {
      "image/png": "[encoded data removed]",
      "text/plain": [
       "<matplotlib.figure.Figure at 0x11bff9588>"
      ]
     },
     "metadata": {},
     "output_type": "display_data"
    }
   ],
   "source": [
    "import matplotlib.pyplot as plt\n",
    "%matplotlib inline\n",
    "fig = plt.figure()\n",
    "\n",
    "fig.add_subplot(131)     \n",
    "df.recall_initiation_date[df.listeria==1].hist(bins=20, figsize=(15,8),grid=True)\n",
    "plt.title(\"Listeria Monocytogenes\")\n",
    "plt.ylabel('counts')\n",
    "\n",
    "fig.add_subplot(132)\n",
    "df.recall_initiation_date[df.salmonella==1].hist(bins=20)\n",
    "plt.title(\"Salmonella\")\n",
    "\n",
    "fig.add_subplot(133)\n",
    "df.recall_initiation_date[df['allergen/undeclared']==1].hist(bins=20)\n",
    "plt.title(\"Allergen/Undeclared\")"
   ]
  },
  {
   "cell_type": "code",
   "execution_count": 32,
   "metadata": {},
   "outputs": [
    {
     "data": {
      "text/plain": [
       "<matplotlib.text.Text at 0x11caec710>"
      ]
     },
     "execution_count": 32,
     "metadata": {},
     "output_type": "execute_result"
    },
    {
     "data": {
      "image/png": "[encoded data removed]",
      "text/plain": [
       "<matplotlib.figure.Figure at 0x11bf5c198>"
      ]
     },
     "metadata": {},
     "output_type": "display_data"
    }
   ],
   "source": [
    "# drop records before 2012\n",
    "df = df[df.recall_initiation_date > '2012-01-01']\n",
    "\n",
    "# plot again\n",
    "fig = plt.figure()\n",
    "\n",
    "fig.add_subplot(131)     \n",
    "df.recall_initiation_date[df.listeria==1].hist(bins=20, figsize=(15,8),grid=True)\n",
    "plt.title(\"Listeria Monocytogenes\")\n",
    "plt.ylabel('counts')\n",
    "\n",
    "fig.add_subplot(132)\n",
    "df.recall_initiation_date[df.salmonella==1].hist(bins=20)\n",
    "plt.title(\"Salmonella\")\n",
    "\n",
    "fig.add_subplot(133)\n",
    "df.recall_initiation_date[df['allergen/undeclared']==1].hist(bins=20)\n",
    "plt.title(\"Allergen/Undeclared\")"
   ]
  },
  {
   "cell_type": "markdown",
   "metadata": {},
   "source": [
    "Listeria monocytogenes is the most serious one of the three types, and it seems that an apparent time cycle exits. \n",
    "Salmonella is serious in 2012 and the end of 2016. Allergen or undeclared is serious in 2015."
   ]
  },
  {
   "cell_type": "code",
   "execution_count": 72,
   "metadata": {},
   "outputs": [
    {
     "name": "stdout",
     "output_type": "stream",
     "text": [
      "Correlation Matrix:\n",
      "                      listeria  salmonella  allergen/undeclared\n",
      "listeria             1.000000   -0.530056            -0.513032\n",
      "salmonella          -0.530056    1.000000            -0.230030\n",
      "allergen/undeclared -0.513032   -0.230030             1.000000\n"
     ]
    }
   ],
   "source": [
    "from pandas.plotting import scatter_matrix\n",
    "myData=pd.concat([df['listeria'], df['salmonella'],df['allergen/undeclared']], axis=1) \n",
    "print('Correlation Matrix:\\n', myData.corr())"
   ]
  },
  {
   "cell_type": "code",
   "execution_count": 74,
   "metadata": {},
   "outputs": [
    {
     "name": "stdout",
     "output_type": "stream",
     "text": [
      "(5628, 26)\n",
      "Correlation Matrix:\n",
      "                      listeria  salmonella  allergen/undeclared\n",
      "listeria             1.000000   -0.619792            -0.599463\n",
      "salmonella          -0.619792    1.000000            -0.256586\n",
      "allergen/undeclared -0.599463   -0.256586             1.000000\n"
     ]
    }
   ],
   "source": [
    "# drop records not included in the three types of reasons for recall\n",
    "df = pd.concat([df[df.listeria==1], df[df.salmonella==1], df[df['allergen/undeclared']==1]])\n",
    "print(df.shape)\n",
    "\n",
    "# do again\n",
    "myData=pd.concat([df['listeria'], df['salmonella'],df['allergen/undeclared']], axis=1) \n",
    "print('Correlation Matrix:\\n', myData.corr())"
   ]
  },
  {
   "cell_type": "markdown",
   "metadata": {},
   "source": [
    "* The types of \"listeria\" and \"salmonella\" are kind of negative related (correlation value: -0.62), which means that if one product has the problem \"listeria\", then it has little chance to also have \"salmonella\", and vice versa. \n",
    "\n",
    "* The same holds to \"listeria\" and \"allergen/undeclared\" (correlation value: -0.60).\n",
    "\n",
    "* The type of \"allergen/undeclared\" is almost unrelated to \"salmonella\" (correlation value: -0.25), which means that if one product has the problem \"allergen/undeclared\", we cannot not tell whether it also has \"salmonella\"."
   ]
  },
  {
   "cell_type": "code",
   "execution_count": 76,
   "metadata": {
    "collapsed": true
   },
   "outputs": [],
   "source": [
    "myfile=\"CleanedData_Features.csv\"\n",
    "df.to_csv(myfile,sep=',')"
   ]
  },
  {
   "cell_type": "markdown",
   "metadata": {},
   "source": [
    "### Association Rule"
   ]
  },
  {
   "cell_type": "code",
   "execution_count": 112,
   "metadata": {},
   "outputs": [
    {
     "name": "stdout",
     "output_type": "stream",
     "text": [
      "support({'listeria'}) = 3329\n",
      "support({'salmonella'}) = 1180\n",
      "support({'allergen/undeclared'}) = 1119\n",
      "\n",
      "\n",
      "support({'salad/slaw'}) = 661\n",
      "support({'peanut'}) = 625\n",
      "support({'butter'}) = 443\n",
      "support({'milk'}) = 574\n",
      "support({'ice-cream'}) = 306\n"
     ]
    }
   ],
   "source": [
    "df_l, df_s, df_a = df[df.listeria==1], df[df.salmonella==1], df[df['allergen/undeclared']==1]\n",
    "df_sd, df_pnt, df_bt, df_mk, df_ice = df[df['salad/slaw']==1], df[df.peanut==1], df[df.butter==1], df[df.milk==1], df[df['ice-cream']==1]\n",
    "\n",
    "print(\"support({'listeria'}) =\", df_l.shape[0])\n",
    "print(\"support({'salmonella'}) =\", df_s.shape[0])\n",
    "print(\"support({'allergen/undeclared'}) =\", df_a.shape[0])\n",
    "print('\\n')\n",
    "\n",
    "print(\"support({'salad/slaw'}) =\", df_sd.shape[0])\n",
    "print(\"support({'peanut'}) =\", df_pnt.shape[0])\n",
    "print(\"support({'butter'}) =\", df_bt.shape[0])\n",
    "print(\"support({'milk'}) =\", df_mk.shape[0])\n",
    "print(\"support({'ice-cream'}) =\", df_ice.shape[0])"
   ]
  },
  {
   "cell_type": "code",
   "execution_count": 122,
   "metadata": {},
   "outputs": [
    {
     "name": "stdout",
     "output_type": "stream",
     "text": [
      "support({'listeria', 'salad/slaw'}) = 634\n",
      "support({'listeria', 'peanut'}) = 38\n",
      "support({'listeria', 'butter'}) = 72\n",
      "support({'listeria', 'milk'}) = 2\n",
      "support({'listeria', 'ice-cream'}) = 287\n",
      "\n",
      "\n",
      "support({'salmonella', 'salad/slaw'}) = 5\n",
      "support({'salmonella', 'peanut'}) = 337\n",
      "support({'salmonella', 'butter'}) = 328\n",
      "support({'salmonella', 'milk'}) = 46\n",
      "support({'salmonella', 'ice-cream'}) = 3\n",
      "\n",
      "\n",
      "support({'allergen/undeclared', 'salad/slaw'}) = 22\n",
      "support({'allergen/undeclared', 'peanut'}) = 250\n",
      "support({'allergen/undeclared', 'butter'}) = 43\n",
      "support({'allergen/undeclared', 'milk'}) = 526\n",
      "support({'allergen/undeclared', 'ice-cream'}) = 16\n",
      "\n",
      "\n",
      "support({'peanut', 'butter'}) = 373\n"
     ]
    }
   ],
   "source": [
    "print(\"support({'listeria', 'salad/slaw'}) =\", df_l[df_l['salad/slaw']==1].shape[0])\n",
    "print(\"support({'listeria', 'peanut'}) =\", df_l[df_l.peanut==1].shape[0])\n",
    "print(\"support({'listeria', 'butter'}) =\", df_l[df_l.butter==1].shape[0])\n",
    "print(\"support({'listeria', 'milk'}) =\", df_l[df_l.milk==1].shape[0])\n",
    "print(\"support({'listeria', 'ice-cream'}) =\", df_l[df_l['ice-cream']==1].shape[0])\n",
    "print('\\n')\n",
    "\n",
    "print(\"support({'salmonella', 'salad/slaw'}) =\", df_s[df_s['salad/slaw']==1].shape[0])\n",
    "print(\"support({'salmonella', 'peanut'}) =\", df_s[df_s.peanut==1].shape[0])\n",
    "print(\"support({'salmonella', 'butter'}) =\", df_s[df_s.butter==1].shape[0])\n",
    "print(\"support({'salmonella', 'milk'}) =\", df_s[df_s.milk==1].shape[0])\n",
    "print(\"support({'salmonella', 'ice-cream'}) =\", df_s[df_s['ice-cream']==1].shape[0])\n",
    "print('\\n')\n",
    "\n",
    "print(\"support({'allergen/undeclared', 'salad/slaw'}) =\", df_a[df_a['salad/slaw']==1].shape[0])\n",
    "print(\"support({'allergen/undeclared', 'peanut'}) =\", df_a[df_a.peanut==1].shape[0])\n",
    "print(\"support({'allergen/undeclared', 'butter'}) =\", df_a[df_a.butter==1].shape[0])\n",
    "print(\"support({'allergen/undeclared', 'milk'}) =\", df_a[df_a.milk==1].shape[0])\n",
    "print(\"support({'allergen/undeclared', 'ice-cream'}) =\", df_a[df_a['ice-cream']==1].shape[0])\n",
    "print('\\n')\n",
    "\n",
    "print(\"support({'peanut', 'butter'}) =\", df_pnt[df_pnt.butter==1].shape[0])"
   ]
  },
  {
   "cell_type": "markdown",
   "metadata": {},
   "source": [
    "##### Set the support level = 100. Calculate the confidence values."
   ]
  },
  {
   "cell_type": "code",
   "execution_count": 124,
   "metadata": {},
   "outputs": [
    {
     "name": "stdout",
     "output_type": "stream",
     "text": [
      "conf({'listeria'}->{'salad/slaw'}) = 0.19\n",
      "conf({'listeria'}->{'ice-cream'}) = 0.09\n",
      "\n",
      "\n",
      "conf({'salmonella'}->{'peanut'}) = 0.29\n",
      "conf({'salmonella'}->{'butter'}) = 0.28\n",
      "\n",
      "\n",
      "conf({'allergen/undeclared'}->{'peanut'}) = 0.22\n",
      "conf({'allergen/undeclared'}->{'milk'}) = 0.47\n",
      "\n",
      "\n",
      "conf({'peanut'}->{'butter'}) = 0.60\n",
      "conf({'butter'}->{'peanut'}) = 0.84\n"
     ]
    }
   ],
   "source": [
    "print(\"conf({'listeria'}->{'salad/slaw'}) = %.2f\" % (df_l[df_l['salad/slaw']==1].shape[0]/df_l.shape[0]))\n",
    "print(\"conf({'listeria'}->{'ice-cream'}) = %.2f\" % (df_l[df_l['ice-cream']==1].shape[0]/df_l.shape[0]))\n",
    "print('\\n')\n",
    "\n",
    "print(\"conf({'salmonella'}->{'peanut'}) = %.2f\" % (df_s[df_s.peanut==1].shape[0]/df_s.shape[0]))\n",
    "print(\"conf({'salmonella'}->{'butter'}) = %.2f\" % (df_s[df_s.butter==1].shape[0]/df_s.shape[0]))\n",
    "print('\\n')\n",
    "\n",
    "print(\"conf({'allergen/undeclared'}->{'peanut'}) = %.2f\" % (df_a[df_a.peanut==1].shape[0]/df_a.shape[0]))\n",
    "print(\"conf({'allergen/undeclared'}->{'milk'}) = %.2f\" % (df_a[df_a.milk==1].shape[0]/df_a.shape[0]))\n",
    "print('\\n')\n",
    "\n",
    "print(\"conf({'peanut'}->{'butter'}) = %.2f\" % (df_pnt[df_pnt.butter==1].shape[0]/df_pnt.shape[0]))\n",
    "print(\"conf({'butter'}->{'peanut'}) = %.2f\" % (df_pnt[df_pnt.butter==1].shape[0]/df_bt.shape[0]))"
   ]
  },
  {
   "cell_type": "markdown",
   "metadata": {},
   "source": [
    "* For the type of \"listeria\", 19% of the products contain salad or slaw, and 9% of the products contain ice-cream.\n",
    "\n",
    "* For the type of \"salmonella\", 29% of the products contain peanut, and 28% of the products contain butter.\n",
    "\n",
    "* For the type of \"allergen/undeclared\", 22% of the products contain peanut, and 47% of the products contain milk.\n",
    "* For all the products containing peanut, 60% of them also contain butter; for all the products containing butter, 84% of them contain peanut. This reminds me that peanut butter is quite popular in the U.S."
   ]
  },
  {
   "cell_type": "markdown",
   "metadata": {},
   "source": [
    "### Anything about Duration (from the start date to the termination date)"
   ]
  },
  {
   "cell_type": "code",
   "execution_count": 56,
   "metadata": {},
   "outputs": [],
   "source": []
  },
  {
   "cell_type": "code",
   "execution_count": null,
   "metadata": {},
   "outputs": [],
   "source": []
  },
  {
   "cell_type": "code",
   "execution_count": null,
   "metadata": {},
   "outputs": [],
   "source": []
  },
  {
   "cell_type": "code",
   "execution_count": null,
   "metadata": {
    "collapsed": true
   },
   "outputs": [],
   "source": []
  },
  {
   "cell_type": "code",
   "execution_count": null,
   "metadata": {
    "collapsed": true
   },
   "outputs": [],
   "source": []
  },
  {
   "cell_type": "code",
   "execution_count": null,
   "metadata": {
    "collapsed": true
   },
   "outputs": [],
   "source": [
    "\n",
    "#The distributions of listeria's duration and salmonella's duration (<= 13 months) are the same.\n",
    "#Method: T test\n",
    "def Hypothesis1():   \n",
    "    print(\"\\n\\n Hypothesis 1:\")\n",
    "    df.month = df[\"duration_groups(month)\"]\n",
    "    \n",
    "    # Hypothesis 1: the distributions of listeria's duration and salmonella's duration (<= 13 months) are the same. \n",
    "    \n",
    "    # get the duration (month) of listeria and salmonella\n",
    "    month_listeria = df.month[df.listeria==1]\n",
    "    month_salmonella = df.month[df.salmonella==1]\n",
    "    # look at the histgrams\n",
    "    fig = plt.figure()\n",
    "    fig.add_subplot(111)  \n",
    "    month_listeria.hist(bins=30)\n",
    "    month_salmonella.hist(bins=30)\n",
    "    plt.title(\"Duration Histograms of listeria (blue) and salmonella (green)\")\n",
    "    plt.show()\n",
    "    # According to the histgrams, we choose the part month <= 13\n",
    "    # to make the data like normal distributed (although they are still not!)\n",
    "    month_listeria = month_listeria[df.month <= 13]\n",
    "    month_salmonella = month_salmonella[df.month <= 13]\n",
    "    # look at the new histgrams again\n",
    "    fig = plt.figure()\n",
    "    fig.add_subplot(111)  \n",
    "    month_listeria.hist(bins=30)\n",
    "    month_salmonella.hist(bins=30)\n",
    "    plt.title(\"New Duration Histograms of listeria (blue) and salmonella (green)\")\n",
    "    plt.show()\n",
    "    \n",
    "    print(\"mean of listeria: %.2f\" % month_listeria.mean())\n",
    "    print(\"var of listeria: %.2f\" % month_listeria.var())\n",
    "    print(\"mean of salmonella: %.2f\" % month_salmonella.mean())\n",
    "    print(\"var of salmonella: %.2f\" % month_salmonella.var())\n",
    "    print(\"T test Results: \")\n",
    "    print(stats.ttest_ind(month_listeria,month_salmonella,equal_var = False))\n",
    "Hypothesis1()\n",
    "\n",
    "\n",
    "#The variables of duration (days) and duration (months) have linear relationship.\n",
    "#Method: linear regression, naive bayes, decision trees, knn, random forests, svm.\n",
    "def Hypothesis2():\n",
    "    print(\"\\n\\n Hypothesis 2:\")\n",
    "    df = pd.read_csv(\"TerminatedAnalysis.csv\",encoding='latin1')\n",
    "    #print(df.columns)\n",
    "    # Rename\n",
    "    df.month = df[\"duration_groups(month)\"]\n",
    "    x = pd.concat([df.term_init_duration, df.month],\n",
    "                  axis=1, keys=['duration','month'])    \n",
    "    X = x.iloc[:,0:1]\n",
    "    y = x.iloc[:,1]\n",
    "    # make the validation set 20% of the entire\n",
    "    test_size = 0.20\n",
    "    seed = 7\n",
    "    # set of labeled data (X_test, Y_test)\n",
    "    X_train, X_test, y_train, y_test = cross_validation.train_test_split(X, y, test_size=test_size, random_state=seed)\n",
    "    # Create linear regression object\n",
    "    regr = linear_model.LinearRegression()\n",
    "    # Train the model using the training sets\n",
    "    regr.fit(X_train, y_train)\n",
    "    print(\"Linear Regression: \")\n",
    "    print('Coefficients: ', regr.coef_)\n",
    "    print(\"Mean squared error: %.2f\" % np.mean((regr.predict(X_test) - y_test) ** 2))\n",
    "    # Explained variance score: 1 is perfect prediction\n",
    "    print('Variance score: %.2f' % regr.score(X_test, y_test))\n",
    "    \n",
    "    # Plot Linear Regression of duration (days) and duration (month)\n",
    "    fig = plt.figure()\n",
    "    fig.add_subplot(111)  \n",
    "    plt.scatter(X_test.iloc[:,0], y_test,  color='black')\n",
    "    plt.plot(X_test.iloc[:,0], regr.predict(X_test), color='blue', linewidth=3)\n",
    "    plt.xlabel('days')\n",
    "    plt.ylabel('months')\n",
    "    plt.title(\"Linear Regression of duration (days) and duration (month)\")\n",
    "    plt.show()\n",
    "    \n",
    "    num_folds = 10\n",
    "    num_instances = len(X_train)\n",
    "    scoring = 'accuracy'\n",
    "    \n",
    "    # Use different algorithms to build models\n",
    "    # Add each algorithm and its name to the model array\n",
    "    models = []\n",
    "    models.append(('NB', GaussianNB()))\n",
    "    models.append(('DT', DecisionTreeClassifier()))\n",
    "    models.append(('KNN', KNeighborsClassifier()))\n",
    "    models.append(('RF', RandomForestClassifier()))\n",
    "    models.append(('SVM', SVC()))\n",
    "    #models.append(('Linear Regression', linear_model.LinearRegression()))\n",
    "    \n",
    "    # Evaluate each model, add results to a results array,\n",
    "    # Print the accuracy results (remember these are averages and std\n",
    "    results = []\n",
    "    names = []\n",
    "    for name, model in models:\n",
    "        \tkfold = cross_validation.KFold(n=num_instances, n_folds=num_folds, random_state=seed)\n",
    "        \tcv_results = cross_validation.cross_val_score(model, X_train, y_train, cv=kfold, scoring=scoring)\n",
    "        \tresults.append(cv_results)\n",
    "        \tnames.append(name)\n",
    "        \tmsg = \"%s: Mean: %f Std: %f \" % (name, cv_results.mean(), cv_results.std())\n",
    "        \tprint(msg)  \n",
    "    \n",
    "    print(\"Accuracy Score on validation dataset:\")    \n",
    "    nb = GaussianNB()\n",
    "    nb.fit(X_train, y_train)\n",
    "    predictions = nb.predict(X_test)\n",
    "    print(\"Naive Bayes: %.2f\" % accuracy_score(y_test, predictions))\n",
    "    \n",
    "    dt = DecisionTreeClassifier()\n",
    "    dt.fit(X_train, y_train)\n",
    "    predictions = dt.predict(X_test)\n",
    "    print(\"Decision Tree: %.2f\" % accuracy_score(y_test, predictions))\n",
    "    \n",
    "    knn = KNeighborsClassifier()\n",
    "    knn.fit(X_train, y_train)\n",
    "    predictions = knn.predict(X_test)\n",
    "    print(\"KNN: %.2f\" % accuracy_score(y_test, predictions))\n",
    "    \n",
    "    rf = RandomForestClassifier()\n",
    "    rf.fit(X_train, y_train)\n",
    "    predictions = rf.predict(X_test)\n",
    "    print(\"Random Forest: %.2f\" % accuracy_score(y_test, predictions))\n",
    "    \n",
    "    svm = SVC()\n",
    "    svm.fit(X_train, y_train)\n",
    "    predictions = svm.predict(X_test)\n",
    "    print(\"SVM: %.2f\" % accuracy_score(y_test, predictions))\n",
    "    \n",
    "Hypothesis2()\n",
    "\n",
    "\n",
    "\n",
    "#Given that one recalled food is salad/slaw, according to if it has the problem with listeria, we can predict its recall duration. \n",
    "#Method: naive bayes, decision trees, knn, random forests, svm.\n",
    "def Hypothesis3():\n",
    "    print(\"\\n\\n Hypothesis 3:\")\n",
    "    df = pd.read_csv(\"TerminatedAnalysis.csv\",encoding='latin1')\n",
    "    #print(df.columns)\n",
    "    # Rename\n",
    "    df.month = df[\"duration_groups(month)\"]\n",
    "    df.salad = df[\"salad/slaw\"]\n",
    "    x = pd.concat([df.listeria[df.salad==1],df.month[df.salad==1]],\n",
    "                  axis=1, keys=['listeria','month'])  \n",
    "    X = x.iloc[:,0:1]\n",
    "    y = x.iloc[:,1]    \n",
    "    # make the validation set 20% of the entire\n",
    "    test_size = 0.20\n",
    "    seed = 7\n",
    "    # set of labeled data (X_validate, Y_validate)\n",
    "    X_train, X_validate, y_train, y_validate = cross_validation.train_test_split(X, y, test_size=test_size, random_state=seed)\n",
    "    # Setup 10-fold cross validation to estimate the accuracy of different models\n",
    "    num_folds = 10\n",
    "    num_instances = len(X_train)\n",
    "    scoring = 'accuracy'\n",
    "    \n",
    "    # Use different algorithms to build models\n",
    "    # Add each algorithm and its name to the model array\n",
    "    models = []\n",
    "    models.append(('NB', GaussianNB()))\n",
    "    models.append(('DT', DecisionTreeClassifier()))\n",
    "    models.append(('KNN', KNeighborsClassifier()))\n",
    "    models.append(('RF', RandomForestClassifier()))\n",
    "    models.append(('SVM', SVC()))\n",
    "    #models.append(('Linear Regression', linear_model.LinearRegression()))\n",
    "    \n",
    "    # Evaluate each model, add results to a results array,\n",
    "    # Print the accuracy results (remember these are averages and std\n",
    "    results = []\n",
    "    names = []\n",
    "    for name, model in models:\n",
    "        \tkfold = cross_validation.KFold(n=num_instances, n_folds=num_folds, random_state=seed)\n",
    "        \tcv_results = cross_validation.cross_val_score(model, X_train, y_train, cv=kfold, scoring=scoring)\n",
    "        \tresults.append(cv_results)\n",
    "        \tnames.append(name)\n",
    "        \tmsg = \"%s: Mean: %f Std: %f \" % (name, cv_results.mean(), cv_results.std())\n",
    "        \tprint(msg)\n",
    "    \n",
    "    print(\"Accuracy Score on validation dataset:\")\n",
    "    # Make predictions on validation dataset\n",
    "    nb = GaussianNB()\n",
    "    nb.fit(X_train, y_train)\n",
    "    predictions = nb.predict(X_validate)\n",
    "    print(\"Naive Bayes: %.2f\" % accuracy_score(y_validate, predictions))\n",
    "        \n",
    "    dt = DecisionTreeClassifier()\n",
    "    dt.fit(X_train, y_train)\n",
    "    predictions = dt.predict(X_validate)\n",
    "    print(\"Decision Tree: %.2f\" % accuracy_score(y_validate, predictions))\n",
    "            \n",
    "    knn = KNeighborsClassifier()\n",
    "    knn.fit(X_train, y_train)\n",
    "    predictions = knn.predict(X_validate)\n",
    "    print(\"KNN: %.2f\" % accuracy_score(y_validate, predictions))\n",
    "   \n",
    "    rf = RandomForestClassifier()\n",
    "    rf.fit(X_train, y_train)\n",
    "    predictions = rf.predict(X_validate)\n",
    "    print(\"Random Forest: %.2f\" % accuracy_score(y_validate, predictions))\n",
    "         \n",
    "    svm = SVC()\n",
    "    svm.fit(X_train, y_train)\n",
    "    predictions = svm.predict(X_validate)\n",
    "    print(\"SVM: %.2f\" % accuracy_score(y_validate, predictions))\n",
    "       \n",
    "Hypothesis3()"
   ]
  }
 ],
 "metadata": {
  "kernelspec": {
   "display_name": "Python 3",
   "language": "python",
   "name": "python3"
  },
  "language_info": {
   "codemirror_mode": {
    "name": "ipython",
    "version": 3
   },
   "file_extension": ".py",
   "mimetype": "text/x-python",
   "name": "python",
   "nbconvert_exporter": "python",
   "pygments_lexer": "ipython3",
   "version": "3.6.1"
  }
 },
 "nbformat": 4,
 "nbformat_minor": 2
}
