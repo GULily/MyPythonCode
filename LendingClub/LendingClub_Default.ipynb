{
 "cells": [
  {
   "cell_type": "markdown",
   "metadata": {},
   "source": [
    "## Summary\n",
    "\n",
    "Author: Yi Li\n",
    "\n",
    "__Data Source:__ The raw lending club loan data is downloaded from the website [Lending Club Statistics](https://www.lendingclub.com/info/download-data.action).\n",
    "\n",
    "__Project Purpose:__ This project trys to predict whether a user is going to default on his or her loan. This is meaningful, because if we can predict and target these people, we can take actions earlier and reduce the default rate of a company.\n",
    "\n",
    "__Method & Results:__ After lots of data exploration, data cleaning and feature enginerring, I extracted 60+ features (110+ features after one-hot encoding for categorical features) from the original 150+ features. I defined the target \"default\" as any user whose loan status is past due (not \"Current\" and not \"Fully Paid\"). I split the cleaned dataset as a training dataset (70%) and a test dataset (30%).\n",
    "\n",
    "I used two models: \n",
    "\n",
    "    (a) a logistic classifier with regularization (Lasso) to control multilinear problem \n",
    "    Training auc-score:99.4%, test auc-score: 99.4%,\n",
    "    Training accuracy: 98.2%, test accuracy: 98.3% (threshold = 0.5). \n",
    "    \n",
    "    Top features: 'pymnt_plan','last_credit_pull_d_since_issue','log_loan_amnt','disbursement_method','term','new_zip'(collapsed from the orginal feature 'zip_code'),'purpose','pub_rec_bankruptcies'\n",
    "    \n",
    " \n",
    "    (b) a random forest classifier\n",
    "    Training auc-score:99.9%, test auc-score: 99.6%,\n",
    "    Training accuracy: 98.8%, test accuracy: 98.4% (threshold = 0.5).\n",
    "\n",
    "    Top features: \n",
    "    'next_pymnt_d_since_issue','last_pymnt_d_since_issue','out_prncp','last_pymnt_amnt','last_credit_pull_d_since_issue','total_rec_prncp','last_fico_range_low','total_rec_int','total_pymnt','collection_recovery_fee'\n",
    "    \n",
    "\n",
    "    \n",
    "__Conclusion__: Generally speaking, the results of model (b) is better than model (a).\n",
    "\n",
    "The top features achieved from two models are very different. They only share one common feature 'last_credit_pull_d_since_issue' (the number of days from last time pull credit since issue). Other important features including 'pymnt_plan' (which is \"yes\" or \"no\"), 'log_loan_amnt' (the log of loan amount), 'disbursement_method' (cash or directed pay), 'term'(36 or 60 months), 'next_pymnt_d_since_issue', 'last_pymnt_d_since_issue', 'out_prncp'(remaining outstanding principal for total amount funded), 'last_pymnt_amnt'.\n",
    "    "
   ]
  },
  {
   "cell_type": "code",
   "execution_count": 1,
   "metadata": {},
   "outputs": [],
   "source": [
    "import pandas as pd\n",
    "import numpy as np\n",
    "import matplotlib.pyplot as plt\n",
    "%matplotlib inline\n",
    "plt.style.use('ggplot')"
   ]
  },
  {
   "cell_type": "code",
   "execution_count": 2,
   "metadata": {},
   "outputs": [
    {
     "name": "stderr",
     "output_type": "stream",
     "text": [
      "/anaconda/lib/python3.5/site-packages/ipykernel_launcher.py:2: ParserWarning: Falling back to the 'python' engine because the 'c' engine does not support skipfooter; you can avoid this warning by specifying engine='python'.\n",
      "  \n"
     ]
    },
    {
     "data": {
      "text/plain": [
       "(133887, 151)"
      ]
     },
     "execution_count": 2,
     "metadata": {},
     "output_type": "execute_result"
    }
   ],
   "source": [
    "# load the data from https://www.lendingclub.com/info/download-data.action\n",
    "loan =  pd.read_csv('LoanStats_securev1_2016Q1.csv', skiprows=1, skipfooter=2)\n",
    "loan.shape"
   ]
  },
  {
   "cell_type": "code",
   "execution_count": 3,
   "metadata": {},
   "outputs": [
    {
     "data": {
      "text/html": [
       "<div>\n",
       "<style scoped>\n",
       "    .dataframe tbody tr th:only-of-type {\n",
       "        vertical-align: middle;\n",
       "    }\n",
       "\n",
       "    .dataframe tbody tr th {\n",
       "        vertical-align: top;\n",
       "    }\n",
       "\n",
       "    .dataframe thead th {\n",
       "        text-align: right;\n",
       "    }\n",
       "</style>\n",
       "<table border=\"1\" class=\"dataframe\">\n",
       "  <thead>\n",
       "    <tr style=\"text-align: right;\">\n",
       "      <th></th>\n",
       "      <th>id</th>\n",
       "      <th>member_id</th>\n",
       "      <th>loan_amnt</th>\n",
       "      <th>funded_amnt</th>\n",
       "      <th>funded_amnt_inv</th>\n",
       "      <th>term</th>\n",
       "      <th>int_rate</th>\n",
       "      <th>installment</th>\n",
       "      <th>grade</th>\n",
       "      <th>sub_grade</th>\n",
       "      <th>...</th>\n",
       "      <th>hardship_payoff_balance_amount</th>\n",
       "      <th>hardship_last_payment_amount</th>\n",
       "      <th>disbursement_method</th>\n",
       "      <th>debt_settlement_flag</th>\n",
       "      <th>debt_settlement_flag_date</th>\n",
       "      <th>settlement_status</th>\n",
       "      <th>settlement_date</th>\n",
       "      <th>settlement_amount</th>\n",
       "      <th>settlement_percentage</th>\n",
       "      <th>settlement_term</th>\n",
       "    </tr>\n",
       "  </thead>\n",
       "  <tbody>\n",
       "    <tr>\n",
       "      <th>0</th>\n",
       "      <td>76003542</td>\n",
       "      <td>NaN</td>\n",
       "      <td>16000</td>\n",
       "      <td>16000</td>\n",
       "      <td>16000.0</td>\n",
       "      <td>36 months</td>\n",
       "      <td>5.32%</td>\n",
       "      <td>481.84</td>\n",
       "      <td>A</td>\n",
       "      <td>A1</td>\n",
       "      <td>...</td>\n",
       "      <td>NaN</td>\n",
       "      <td>NaN</td>\n",
       "      <td>Cash</td>\n",
       "      <td>N</td>\n",
       "      <td>NaN</td>\n",
       "      <td>NaN</td>\n",
       "      <td>NaN</td>\n",
       "      <td>NaN</td>\n",
       "      <td>NaN</td>\n",
       "      <td>NaN</td>\n",
       "    </tr>\n",
       "    <tr>\n",
       "      <th>1</th>\n",
       "      <td>76023477</td>\n",
       "      <td>NaN</td>\n",
       "      <td>17000</td>\n",
       "      <td>17000</td>\n",
       "      <td>17000.0</td>\n",
       "      <td>36 months</td>\n",
       "      <td>9.75%</td>\n",
       "      <td>546.55</td>\n",
       "      <td>B</td>\n",
       "      <td>B3</td>\n",
       "      <td>...</td>\n",
       "      <td>NaN</td>\n",
       "      <td>NaN</td>\n",
       "      <td>Cash</td>\n",
       "      <td>N</td>\n",
       "      <td>NaN</td>\n",
       "      <td>NaN</td>\n",
       "      <td>NaN</td>\n",
       "      <td>NaN</td>\n",
       "      <td>NaN</td>\n",
       "      <td>NaN</td>\n",
       "    </tr>\n",
       "  </tbody>\n",
       "</table>\n",
       "<p>2 rows × 151 columns</p>\n",
       "</div>"
      ],
      "text/plain": [
       "         id  member_id  loan_amnt  funded_amnt  funded_amnt_inv        term  \\\n",
       "0  76003542        NaN      16000        16000          16000.0   36 months   \n",
       "1  76023477        NaN      17000        17000          17000.0   36 months   \n",
       "\n",
       "  int_rate  installment grade sub_grade       ...        \\\n",
       "0    5.32%       481.84     A        A1       ...         \n",
       "1    9.75%       546.55     B        B3       ...         \n",
       "\n",
       "  hardship_payoff_balance_amount hardship_last_payment_amount  \\\n",
       "0                            NaN                          NaN   \n",
       "1                            NaN                          NaN   \n",
       "\n",
       "  disbursement_method  debt_settlement_flag debt_settlement_flag_date  \\\n",
       "0                Cash                     N                       NaN   \n",
       "1                Cash                     N                       NaN   \n",
       "\n",
       "  settlement_status settlement_date settlement_amount settlement_percentage  \\\n",
       "0               NaN             NaN               NaN                   NaN   \n",
       "1               NaN             NaN               NaN                   NaN   \n",
       "\n",
       "  settlement_term  \n",
       "0             NaN  \n",
       "1             NaN  \n",
       "\n",
       "[2 rows x 151 columns]"
      ]
     },
     "execution_count": 3,
     "metadata": {},
     "output_type": "execute_result"
    }
   ],
   "source": [
    "loan.head(2)"
   ]
  },
  {
   "cell_type": "code",
   "execution_count": 4,
   "metadata": {},
   "outputs": [
    {
     "data": {
      "text/plain": [
       "(Current               79931\n",
       " Fully Paid            35650\n",
       " Charged Off           13043\n",
       " Late (31-120 days)     3157\n",
       " In Grace Period        1637\n",
       " Late (16-30 days)       458\n",
       " Default                  11\n",
       " Name: loan_status, dtype: int64, 0)"
      ]
     },
     "execution_count": 4,
     "metadata": {},
     "output_type": "execute_result"
    }
   ],
   "source": [
    "## Meaning of loan status\n",
    "# Completed or fully paid: All paid off\n",
    "# Current: All past payments on time and as agreed, not fully paid off yet.\n",
    "# In grace period: Loan is past due but within the 15-day grace period.\n",
    "# Default: 121+ days past due.\n",
    "# Charged off: 150 days past due\n",
    "loan['loan_status'].value_counts(), loan['loan_status'].isnull().sum()"
   ]
  },
  {
   "cell_type": "markdown",
   "metadata": {},
   "source": [
    "### Exploration some dates related variables"
   ]
  },
  {
   "cell_type": "code",
   "execution_count": 5,
   "metadata": {},
   "outputs": [
    {
     "data": {
      "text/plain": [
       "<matplotlib.axes._subplots.AxesSubplot at 0x115cb0400>"
      ]
     },
     "execution_count": 5,
     "metadata": {},
     "output_type": "execute_result"
    },
    {
     "data": {
      "image/png": "[encoded data removed]",
      "text/plain": [
       "<Figure size 432x288 with 1 Axes>"
      ]
     },
     "metadata": {},
     "output_type": "display_data"
    }
   ],
   "source": [
    "loan['issue_d'].value_counts().plot.barh()"
   ]
  },
  {
   "cell_type": "code",
   "execution_count": 6,
   "metadata": {},
   "outputs": [
    {
     "data": {
      "text/plain": [
       "<matplotlib.axes._subplots.AxesSubplot at 0x115cbfbe0>"
      ]
     },
     "execution_count": 6,
     "metadata": {},
     "output_type": "execute_result"
    },
    {
     "data": {
      "image/png": "[encoded data removed]",
      "text/plain": [
       "<Figure size 432x288 with 1 Axes>"
      ]
     },
     "metadata": {},
     "output_type": "display_data"
    }
   ],
   "source": [
    "loan['last_pymnt_d'].value_counts().plot.barh()"
   ]
  },
  {
   "cell_type": "code",
   "execution_count": 7,
   "metadata": {},
   "outputs": [
    {
     "data": {
      "text/plain": [
       "<matplotlib.axes._subplots.AxesSubplot at 0x115cdfc18>"
      ]
     },
     "execution_count": 7,
     "metadata": {},
     "output_type": "execute_result"
    },
    {
     "data": {
      "image/png": "[encoded data removed]",
      "text/plain": [
       "<Figure size 432x288 with 1 Axes>"
      ]
     },
     "metadata": {},
     "output_type": "display_data"
    }
   ],
   "source": [
    "loan['next_pymnt_d'].value_counts().plot.barh()"
   ]
  },
  {
   "cell_type": "code",
   "execution_count": 8,
   "metadata": {},
   "outputs": [
    {
     "data": {
      "text/plain": [
       "loan_status         next_pymnt_d  last_pymnt_d\n",
       "Charged Off         True          False           12895\n",
       "                                  True              148\n",
       "Current             False         False           79931\n",
       "Default             False         False              11\n",
       "Fully Paid          True          False           35650\n",
       "In Grace Period     False         False            1637\n",
       "Late (16-30 days)   False         False             458\n",
       "Late (31-120 days)  False         False            3157\n",
       "dtype: int64"
      ]
     },
     "execution_count": 8,
     "metadata": {},
     "output_type": "execute_result"
    }
   ],
   "source": [
    "loan.groupby(['loan_status', loan['next_pymnt_d'].isnull(), \n",
    "              loan['last_pymnt_d'].isnull()]).size()"
   ]
  },
  {
   "cell_type": "markdown",
   "metadata": {},
   "source": [
    "If it is fully paid, the \"next payment day\" is nan.\n",
    "\n",
    "If it is charged off, the \"next payment day\" is nan, the \"last payment day\" is nan or not nan."
   ]
  },
  {
   "cell_type": "markdown",
   "metadata": {},
   "source": [
    "## Data Cleaning & Feature Engineering"
   ]
  },
  {
   "cell_type": "markdown",
   "metadata": {},
   "source": [
    "### Update features to reflect loan is jointly applied"
   ]
  },
  {
   "cell_type": "code",
   "execution_count": 9,
   "metadata": {},
   "outputs": [
    {
     "name": "stdout",
     "output_type": "stream",
     "text": [
      "['Individual' 'Joint App']\n"
     ]
    },
    {
     "data": {
      "text/plain": [
       "(133887, 147)"
      ]
     },
     "execution_count": 9,
     "metadata": {},
     "output_type": "execute_result"
    }
   ],
   "source": [
    "loan['dti'] = np.where(loan['dti_joint'] > 0, loan['dti_joint'], loan['dti'])\n",
    "\n",
    "loan['annual_inc'] = np.where(loan['annual_inc_joint'] > 0, \n",
    "                              loan['annual_inc_joint'], \n",
    "                              loan['annual_inc'])\n",
    "\n",
    "loan['verification_status'] = np.where(loan['verification_status_joint'].notnull(), \n",
    "                                       loan['verification_status_joint'], \n",
    "                                       loan['verification_status'])\n",
    "\n",
    "loan.drop(['dti_joint', 'annual_inc_joint', 'verification_status_joint'], axis=1, inplace=True)\n",
    "\n",
    "print(loan['application_type'].unique())\n",
    "loan.drop(['application_type'], axis=1,inplace=True)\n",
    "loan.shape"
   ]
  },
  {
   "cell_type": "markdown",
   "metadata": {},
   "source": [
    "### Clean data - remove unnessary features"
   ]
  },
  {
   "cell_type": "code",
   "execution_count": 10,
   "metadata": {},
   "outputs": [
    {
     "data": {
      "text/plain": [
       "[(133887, 'sec_app_revol_util'),\n",
       " (133887, 'sec_app_open_act_il'),\n",
       " (133887, 'sec_app_open_acc'),\n",
       " (133887, 'sec_app_num_rev_accts'),\n",
       " (133887, 'sec_app_mths_since_last_major_derog'),\n",
       " (133887, 'sec_app_mort_acc'),\n",
       " (133887, 'sec_app_inq_last_6mths'),\n",
       " (133887, 'sec_app_fico_range_low'),\n",
       " (133887, 'sec_app_fico_range_high'),\n",
       " (133887, 'sec_app_earliest_cr_line'),\n",
       " (133887, 'sec_app_collections_12_mths_ex_med'),\n",
       " (133887, 'sec_app_chargeoff_within_12_mths'),\n",
       " (133887, 'revol_bal_joint'),\n",
       " (133887, 'member_id'),\n",
       " (133877, 'desc'),\n",
       " (133252, 'orig_projected_additional_accrued_interest'),\n",
       " (133113, 'payment_plan_start_date')]"
      ]
     },
     "execution_count": 10,
     "metadata": {},
     "output_type": "execute_result"
    }
   ],
   "source": [
    "# Remove features with all NaN value\n",
    "#loan.isnull().sum(axis=0)\n",
    "sorted([(loan[loan.columns[i]].isnull().sum(), loan.columns[i]) for i in \n",
    "        range(len(loan.columns))], reverse=True)[:17]"
   ]
  },
  {
   "cell_type": "code",
   "execution_count": 11,
   "metadata": {},
   "outputs": [
    {
     "data": {
      "text/plain": [
       "(133887, 132)"
      ]
     },
     "execution_count": 11,
     "metadata": {},
     "output_type": "execute_result"
    }
   ],
   "source": [
    "loan = loan.drop(['sec_app_revol_util', 'sec_app_open_act_il', 'sec_app_open_acc',\n",
    "                  'sec_app_num_rev_accts','sec_app_mths_since_last_major_derog',\n",
    "                  'sec_app_mort_acc', 'sec_app_inq_last_6mths', 'sec_app_fico_range_low',\n",
    "                  'sec_app_fico_range_high','sec_app_earliest_cr_line',\n",
    "                  'sec_app_chargeoff_within_12_mths','sec_app_collections_12_mths_ex_med', \n",
    "                  'revol_bal_joint','member_id','desc'],axis=1)\n",
    "loan.shape"
   ]
  },
  {
   "cell_type": "code",
   "execution_count": 12,
   "metadata": {},
   "outputs": [
    {
     "name": "stdout",
     "output_type": "stream",
     "text": [
      "['policy_code']\n"
     ]
    },
    {
     "data": {
      "text/plain": [
       "(133887, 131)"
      ]
     },
     "execution_count": 12,
     "metadata": {},
     "output_type": "execute_result"
    }
   ],
   "source": [
    "# Remove features with same values, that is, len(feature.unique()==1).\n",
    "colnames_uni_is_one = [(loan.columns[i]) for i in range(len(loan.columns)) \n",
    " if len(loan[loan.columns[i]].unique())==1]\n",
    "\n",
    "print(colnames_uni_is_one)\n",
    "loan.drop(colnames_uni_is_one, axis=1, inplace=True)\n",
    "loan.shape"
   ]
  },
  {
   "cell_type": "code",
   "execution_count": 13,
   "metadata": {},
   "outputs": [
    {
     "data": {
      "text/plain": [
       "[]"
      ]
     },
     "execution_count": 13,
     "metadata": {},
     "output_type": "execute_result"
    }
   ],
   "source": [
    "# Remove features with all different values, that is, len(feature.unique()==shape[1]).\n",
    "[(loan.columns[i]) for i in range(len(loan.columns)) if \n",
    " len(loan[loan.columns[i]].unique())==loan.shape[1]]"
   ]
  },
  {
   "cell_type": "markdown",
   "metadata": {},
   "source": [
    "### Process all dates related columns"
   ]
  },
  {
   "cell_type": "code",
   "execution_count": 14,
   "metadata": {},
   "outputs": [
    {
     "data": {
      "text/html": [
       "<div>\n",
       "<style scoped>\n",
       "    .dataframe tbody tr th:only-of-type {\n",
       "        vertical-align: middle;\n",
       "    }\n",
       "\n",
       "    .dataframe tbody tr th {\n",
       "        vertical-align: top;\n",
       "    }\n",
       "\n",
       "    .dataframe thead th {\n",
       "        text-align: right;\n",
       "    }\n",
       "</style>\n",
       "<table border=\"1\" class=\"dataframe\">\n",
       "  <thead>\n",
       "    <tr style=\"text-align: right;\">\n",
       "      <th></th>\n",
       "      <th>issue_d</th>\n",
       "      <th>next_pymnt_d</th>\n",
       "      <th>last_pymnt_d</th>\n",
       "      <th>last_credit_pull_d</th>\n",
       "      <th>hardship_start_date</th>\n",
       "      <th>hardship_end_date</th>\n",
       "      <th>payment_plan_start_date</th>\n",
       "      <th>debt_settlement_flag_date</th>\n",
       "      <th>settlement_date</th>\n",
       "      <th>earliest_cr_line</th>\n",
       "    </tr>\n",
       "  </thead>\n",
       "  <tbody>\n",
       "    <tr>\n",
       "      <th>0</th>\n",
       "      <td>2016-03-01</td>\n",
       "      <td>NaT</td>\n",
       "      <td>2016-05-01</td>\n",
       "      <td>2016-11-01</td>\n",
       "      <td>NaT</td>\n",
       "      <td>NaT</td>\n",
       "      <td>NaT</td>\n",
       "      <td>NaT</td>\n",
       "      <td>NaT</td>\n",
       "      <td>2000-11-01</td>\n",
       "    </tr>\n",
       "    <tr>\n",
       "      <th>1</th>\n",
       "      <td>2016-03-01</td>\n",
       "      <td>2017-12-01</td>\n",
       "      <td>2017-11-01</td>\n",
       "      <td>2017-11-01</td>\n",
       "      <td>NaT</td>\n",
       "      <td>NaT</td>\n",
       "      <td>NaT</td>\n",
       "      <td>NaT</td>\n",
       "      <td>NaT</td>\n",
       "      <td>2006-08-01</td>\n",
       "    </tr>\n",
       "  </tbody>\n",
       "</table>\n",
       "</div>"
      ],
      "text/plain": [
       "     issue_d next_pymnt_d last_pymnt_d last_credit_pull_d hardship_start_date  \\\n",
       "0 2016-03-01          NaT   2016-05-01         2016-11-01                 NaT   \n",
       "1 2016-03-01   2017-12-01   2017-11-01         2017-11-01                 NaT   \n",
       "\n",
       "  hardship_end_date payment_plan_start_date debt_settlement_flag_date  \\\n",
       "0               NaT                     NaT                       NaT   \n",
       "1               NaT                     NaT                       NaT   \n",
       "\n",
       "  settlement_date earliest_cr_line  \n",
       "0             NaT       2000-11-01  \n",
       "1             NaT       2006-08-01  "
      ]
     },
     "execution_count": 14,
     "metadata": {},
     "output_type": "execute_result"
    }
   ],
   "source": [
    "colnames_date = ['issue_d','next_pymnt_d', 'last_pymnt_d', 'last_credit_pull_d',\n",
    "                 'hardship_start_date', 'hardship_end_date', 'payment_plan_start_date',\n",
    "                 'debt_settlement_flag_date', 'settlement_date', 'earliest_cr_line']\n",
    "\n",
    "for col in colnames_date:\n",
    "    loan[col] = pd.to_datetime(loan[col])\n",
    "\n",
    "loan[colnames_date].head(2)"
   ]
  },
  {
   "cell_type": "markdown",
   "metadata": {},
   "source": [
    "#### change dates related features to months since the issue month"
   ]
  },
  {
   "cell_type": "code",
   "execution_count": 15,
   "metadata": {},
   "outputs": [],
   "source": [
    "for col in colnames_date[1:]:\n",
    "    loan[col + '_since_issue'] = loan[col].dt.to_period('M') - loan['issue_d'].dt.to_period('M')"
   ]
  },
  {
   "cell_type": "code",
   "execution_count": 16,
   "metadata": {},
   "outputs": [],
   "source": [
    "loan = loan.drop(['next_pymnt_d', 'last_pymnt_d', 'last_credit_pull_d',\n",
    "                 'hardship_start_date', 'hardship_end_date', 'payment_plan_start_date',\n",
    "                 'debt_settlement_flag_date', 'settlement_date', 'earliest_cr_line'], axis=1)"
   ]
  },
  {
   "cell_type": "code",
   "execution_count": 17,
   "metadata": {},
   "outputs": [
    {
     "data": {
      "text/plain": [
       "pymnt_plan  loan_status       \n",
       "n           Charged Off           13043\n",
       "            Current               79929\n",
       "            Default                  11\n",
       "            Fully Paid            35650\n",
       "            In Grace Period        1635\n",
       "            Late (16-30 days)       453\n",
       "            Late (31-120 days)     2914\n",
       "y           Current                   2\n",
       "            In Grace Period           2\n",
       "            Late (16-30 days)         5\n",
       "            Late (31-120 days)      243\n",
       "dtype: int64"
      ]
     },
     "execution_count": 17,
     "metadata": {},
     "output_type": "execute_result"
    }
   ],
   "source": [
    "loan.groupby([loan['pymnt_plan'], 'loan_status']).size()"
   ]
  },
  {
   "cell_type": "code",
   "execution_count": null,
   "metadata": {},
   "outputs": [],
   "source": []
  },
  {
   "cell_type": "markdown",
   "metadata": {},
   "source": [
    "### Dealing with missing value"
   ]
  },
  {
   "cell_type": "code",
   "execution_count": null,
   "metadata": {},
   "outputs": [],
   "source": [
    "# sorted([(loan[loan.columns[i]].isnull().sum(), loan.columns[i]) \n",
    "#         for i in range(len(loan.columns))], reverse=True)"
   ]
  },
  {
   "cell_type": "markdown",
   "metadata": {},
   "source": [
    "#### Results\n",
    "Features related to the hardship progam:\n",
    " * (133252, 'orig_projected_additional_accrued_interest'),\n",
    " * (133113, 'payment_plan_start_date'),\n",
    " * (133113, 'hardship_type'),\n",
    " * (133113, 'hardship_status'),\n",
    " * (133113, 'hardship_start_date'),\n",
    " * (133113, 'hardship_reason'),\n",
    " * (133113, 'hardship_payoff_balance_amount'),\n",
    " * (133113, 'hardship_loan_status'),\n",
    " * (133113, 'hardship_length'),\n",
    " * (133113, 'hardship_last_payment_amount'),\n",
    " * (133113, 'hardship_end_date'),\n",
    " * (133113, 'hardship_dpd'),\n",
    " * (133113, 'hardship_amount'),\n",
    " * (133113, 'deferral_term')\n",
    " \n",
    "Features related to settlement:\n",
    " * (132800, 'settlement_term'),\n",
    " * (132800, 'settlement_status'),\n",
    " * (132800, 'settlement_percentage'),\n",
    " * (132800, 'settlement_date'),\n",
    " * (132800, 'settlement_amount'),\n",
    " * (132800, 'debt_settlement_flag_date')\n",
    " \n",
    "Others:\n",
    " * (110216, 'mths_since_last_record'),\n",
    " * (100131, 'mths_since_recent_bc_dlq'),\n",
    " * (95813, 'mths_since_last_major_derog'),\n",
    " * (86104, 'mths_since_recent_revol_delinq'),\n",
    " * (64565, 'mths_since_last_delinq'),\n",
    " * (48693, 'next_pymnt_d_since_issue'),\n",
    " * (17879, 'il_util'),\n",
    " * (13798, 'mths_since_recent_inq'),\n",
    " * (10621, 'title'),\n",
    " * (8981, 'emp_title'),\n",
    " * (8944, 'emp_length'),\n",
    " * (7621, 'num_tl_120dpd_2m'),\n",
    " * (3701, 'mths_since_rcnt_il'),\n",
    " * (3646, 'mo_sin_old_il_acct'),\n",
    " * (1175, 'bc_util'),\n",
    " * (1129, 'percent_bc_gt_75'),\n",
    " * (1111, 'bc_open_to_buy'),\n",
    " * (1044, 'mths_since_recent_bc'),\n",
    " * (148, 'last_pymnt_d_since_issue'),\n",
    " * (71, 'revol_util'),\n",
    " * (67, 'all_util'),\n",
    " * (62, 'total_cu_tl'),\n",
    " * (62, 'open_acc_6m'),\n",
    " * (62, 'inq_last_12m'),\n",
    " * (61, 'total_bal_il'),\n",
    " * (61, 'open_rv_24m'),\n",
    " * (61, 'open_rv_12m'),\n",
    " * (61, 'open_il_24m'),\n",
    " * (61, 'open_il_12m'),\n",
    " * (61, 'open_act_il'),\n",
    " * (61, 'max_bal_bc'),\n",
    " * (61, 'inq_fi'),\n",
    " * (2, 'last_credit_pull_d_since_issue'),\n",
    " * (1, 'inq_last_6mths'),"
   ]
  },
  {
   "cell_type": "markdown",
   "metadata": {},
   "source": [
    "#### Remove features about the hardship program and settlement, since these records are past due, they cannot be used to classify whether a record would past due or not.\n",
    "#### Also remove features with lots of missing value to make my job easier."
   ]
  },
  {
   "cell_type": "code",
   "execution_count": 18,
   "metadata": {},
   "outputs": [
    {
     "data": {
      "text/plain": [
       "(133887, 95)"
      ]
     },
     "execution_count": 18,
     "metadata": {},
     "output_type": "execute_result"
    }
   ],
   "source": [
    "# remove features about the hardship program and settlement, since these records are past due, \n",
    "# they cannot be used to classify whether a record would past due or not\n",
    "# also remove features with lots of missing value to make my job easier\n",
    "\n",
    "loan = loan.drop(['orig_projected_additional_accrued_interest',\n",
    "                  'hardship_type','hardship_status','hardship_reason',\n",
    "                  'hardship_payoff_balance_amount','hardship_loan_status','hardship_length',\n",
    "                  'hardship_last_payment_amount','hardship_dpd',\n",
    "                  'hardship_amount','deferral_term', # hardship program\n",
    "                  'settlement_term','settlement_status','settlement_percentage',\n",
    "                  'settlement_amount', # settlement\n",
    "                  'mths_since_last_record','mths_since_recent_bc_dlq',\n",
    "                  'mths_since_last_major_derog','mths_since_recent_revol_delinq',\n",
    "                  'mths_since_last_delinq', # missing > 60,000\n",
    "                  'payment_plan_start_date_since_issue','hardship_start_date_since_issue',\n",
    "                  'hardship_end_date_since_issue','settlement_date_since_issue',\n",
    "                  'debt_settlement_flag_date_since_issue','emp_title','emp_length',\n",
    "                  'il_util','mths_since_recent_inq','num_tl_120dpd_2m',\n",
    "                  'mths_since_rcnt_il','mo_sin_old_il_acct','bc_util','percent_bc_gt_75',\n",
    "                  'bc_open_to_buy','mths_since_recent_bc'# missing > 1,000\n",
    "                 ], axis=1)\n",
    "loan.shape"
   ]
  },
  {
   "cell_type": "markdown",
   "metadata": {},
   "source": [
    "### Fill missing values"
   ]
  },
  {
   "cell_type": "code",
   "execution_count": 19,
   "metadata": {},
   "outputs": [
    {
     "data": {
      "image/png": "[encoded data removed]",
      "text/plain": [
       "<Figure size 432x288 with 1 Axes>"
      ]
     },
     "metadata": {},
     "output_type": "display_data"
    }
   ],
   "source": [
    "loan['last_credit_pull_d_since_issue'].value_counts().plot.barh()\n",
    "loan['last_credit_pull_d_since_issue'].fillna(-1, inplace=True)"
   ]
  },
  {
   "cell_type": "code",
   "execution_count": 20,
   "metadata": {},
   "outputs": [
    {
     "data": {
      "image/png": "[encoded data removed]",
      "text/plain": [
       "<Figure size 432x288 with 1 Axes>"
      ]
     },
     "metadata": {},
     "output_type": "display_data"
    }
   ],
   "source": [
    "loan['all_util'].plot.hist()\n",
    "loan['all_util'].fillna(loan['all_util'].median(), inplace=True)"
   ]
  },
  {
   "cell_type": "code",
   "execution_count": 21,
   "metadata": {},
   "outputs": [
    {
     "data": {
      "image/png": "[encoded data removed]",
      "text/plain": [
       "<Figure size 432x288 with 1 Axes>"
      ]
     },
     "metadata": {},
     "output_type": "display_data"
    }
   ],
   "source": [
    "loan['revol_util'] = loan['revol_util'].str.replace('%','').astype(float)\n",
    "loan['revol_util'].plot.hist()\n",
    "loan['revol_util'].fillna(loan['revol_util'].median(), inplace=True)"
   ]
  },
  {
   "cell_type": "code",
   "execution_count": 22,
   "metadata": {},
   "outputs": [
    {
     "name": "stdout",
     "output_type": "stream",
     "text": [
      "count    133826.000000\n",
      "mean      35704.147819\n",
      "std       42167.837355\n",
      "min           0.000000\n",
      "25%        9633.250000\n",
      "50%       24144.000000\n",
      "75%       46561.750000\n",
      "max      796104.000000\n",
      "Name: total_bal_il, dtype: float64\n"
     ]
    }
   ],
   "source": [
    "print(loan['total_bal_il'].describe())\n",
    "loan['total_bal_il'].fillna(loan['total_bal_il'].median(), inplace=True)"
   ]
  },
  {
   "cell_type": "code",
   "execution_count": 23,
   "metadata": {},
   "outputs": [
    {
     "name": "stdout",
     "output_type": "stream",
     "text": [
      "count    133826.000000\n",
      "mean       6183.582271\n",
      "std        6214.568114\n",
      "min           0.000000\n",
      "25%        2525.000000\n",
      "50%        4664.000000\n",
      "75%        8020.000000\n",
      "max      776843.000000\n",
      "Name: max_bal_bc, dtype: float64\n"
     ]
    }
   ],
   "source": [
    "print(loan['max_bal_bc'].describe())\n",
    "loan['max_bal_bc'].fillna(loan['max_bal_bc'].median(), inplace=True)"
   ]
  },
  {
   "cell_type": "code",
   "execution_count": 24,
   "metadata": {},
   "outputs": [],
   "source": [
    "loan['total_cu_tl'].fillna(0, inplace=True)\n",
    "loan['open_acc_6m'].fillna(0, inplace=True)\n",
    "loan['open_rv_24m'].fillna(0, inplace=True)\n",
    "loan['open_rv_12m'].fillna(0, inplace=True)\n",
    "loan['open_il_24m'].fillna(0, inplace=True)\n",
    "loan['open_il_12m'].fillna(0, inplace=True)\n",
    "loan['open_act_il'].fillna(0, inplace=True)\n",
    "loan['inq_last_6mths'].fillna(0, inplace=True)\n",
    "loan['inq_last_12m'].fillna(0, inplace=True)\n",
    "loan['inq_fi'].fillna(0, inplace=True)\n",
    "\n",
    "loan['title'].fillna('Other', inplace=True)\n",
    "loan['next_pymnt_d_since_issue'].fillna(-1, inplace=True)\n",
    "loan['last_pymnt_d_since_issue'].fillna(-1, inplace=True)"
   ]
  },
  {
   "cell_type": "code",
   "execution_count": 25,
   "metadata": {},
   "outputs": [
    {
     "data": {
      "text/plain": [
       "(133887, 95)"
      ]
     },
     "execution_count": 25,
     "metadata": {},
     "output_type": "execute_result"
    }
   ],
   "source": [
    "loan.shape"
   ]
  },
  {
   "cell_type": "markdown",
   "metadata": {},
   "source": [
    "### Select numerical and categorical features"
   ]
  },
  {
   "cell_type": "code",
   "execution_count": 26,
   "metadata": {},
   "outputs": [],
   "source": [
    "loan.drop(['id'], axis=1, inplace=True)"
   ]
  },
  {
   "cell_type": "code",
   "execution_count": 27,
   "metadata": {},
   "outputs": [
    {
     "name": "stdout",
     "output_type": "stream",
     "text": [
      "76\n"
     ]
    }
   ],
   "source": [
    "## numeric variables\n",
    "loan['int_rate'] = loan['int_rate'].str.replace('%','').astype(float)\n",
    "cols_numeric = list( (loan.describe()).columns)\n",
    "print(len(cols_numeric))\n",
    "\n",
    "for col in cols_numeric:\n",
    "    loan[col] = loan[col].astype(float) "
   ]
  },
  {
   "cell_type": "markdown",
   "metadata": {},
   "source": [
    "### create the binary target"
   ]
  },
  {
   "cell_type": "code",
   "execution_count": 28,
   "metadata": {},
   "outputs": [
    {
     "data": {
      "text/plain": [
       "0    79931\n",
       "1    53956\n",
       "Name: loan_status_binary, dtype: int64"
      ]
     },
     "execution_count": 28,
     "metadata": {},
     "output_type": "execute_result"
    }
   ],
   "source": [
    "# okay: 0    past due: 1\n",
    "loan['loan_status_binary'] = np.where(loan['loan_status']==('Current'or'Fully Paid'), 0, 1)\n",
    "loan['loan_status_binary'].value_counts()"
   ]
  },
  {
   "cell_type": "markdown",
   "metadata": {},
   "source": [
    "### use t test to select numerical variables"
   ]
  },
  {
   "cell_type": "code",
   "execution_count": 29,
   "metadata": {},
   "outputs": [
    {
     "data": {
      "text/plain": [
       "76"
      ]
     },
     "execution_count": 29,
     "metadata": {},
     "output_type": "execute_result"
    }
   ],
   "source": [
    "from scipy import stats\n",
    "\n",
    "for col in cols_numeric:\n",
    "    t_stat, p_value = stats.ttest_ind(loan[col],loan['loan_status_binary'], equal_var = False)\n",
    "    # print(t_stat, p_value)\n",
    "    if p_value > 0.05:\n",
    "        cols_numeric.remove(col)\n",
    "    \n",
    "len(cols_numeric)"
   ]
  },
  {
   "cell_type": "markdown",
   "metadata": {},
   "source": [
    "The t test does not help us to reduce the number of numerical features. Need to do that manually later."
   ]
  },
  {
   "cell_type": "code",
   "execution_count": null,
   "metadata": {},
   "outputs": [],
   "source": []
  },
  {
   "cell_type": "markdown",
   "metadata": {},
   "source": [
    "#### Categorical features"
   ]
  },
  {
   "cell_type": "code",
   "execution_count": 30,
   "metadata": {},
   "outputs": [
    {
     "data": {
      "text/plain": [
       "['disbursement_method',\n",
       " 'earliest_cr_line_since_issue',\n",
       " 'url',\n",
       " 'home_ownership',\n",
       " 'term',\n",
       " 'zip_code',\n",
       " 'debt_settlement_flag',\n",
       " 'hardship_flag',\n",
       " 'sub_grade',\n",
       " 'initial_list_status',\n",
       " 'pymnt_plan',\n",
       " 'grade',\n",
       " 'title',\n",
       " 'verification_status',\n",
       " 'issue_d',\n",
       " 'purpose',\n",
       " 'loan_status_binary',\n",
       " 'loan_status',\n",
       " 'addr_state']"
      ]
     },
     "execution_count": 30,
     "metadata": {},
     "output_type": "execute_result"
    }
   ],
   "source": [
    "cols_categorical = list(set(loan.columns) - set(cols_numeric))\n",
    "cols_categorical"
   ]
  },
  {
   "cell_type": "code",
   "execution_count": 31,
   "metadata": {},
   "outputs": [],
   "source": [
    "loan.drop(['loan_status','grade','sub_grade','hardship_flag','debt_settlement_flag',\n",
    "           'initial_list_status','earliest_cr_line_since_issue',\n",
    "           'url','addr_state','issue_d'], axis=1, inplace=True)"
   ]
  },
  {
   "cell_type": "code",
   "execution_count": 32,
   "metadata": {},
   "outputs": [
    {
     "data": {
      "text/plain": [
       "['disbursement_method',\n",
       " 'home_ownership',\n",
       " 'term',\n",
       " 'loan_status_binary',\n",
       " 'zip_code',\n",
       " 'title',\n",
       " 'verification_status',\n",
       " 'purpose',\n",
       " 'pymnt_plan']"
      ]
     },
     "execution_count": 32,
     "metadata": {},
     "output_type": "execute_result"
    }
   ],
   "source": [
    "cols_categorical = list(set(loan.columns) - set(cols_numeric))\n",
    "cols_categorical"
   ]
  },
  {
   "cell_type": "markdown",
   "metadata": {},
   "source": [
    "#### collapse the feature zipcode by calculation"
   ]
  },
  {
   "cell_type": "code",
   "execution_count": 33,
   "metadata": {},
   "outputs": [
    {
     "data": {
      "text/html": [
       "<div>\n",
       "<style scoped>\n",
       "    .dataframe tbody tr th:only-of-type {\n",
       "        vertical-align: middle;\n",
       "    }\n",
       "\n",
       "    .dataframe tbody tr th {\n",
       "        vertical-align: top;\n",
       "    }\n",
       "\n",
       "    .dataframe thead th {\n",
       "        text-align: right;\n",
       "    }\n",
       "</style>\n",
       "<table border=\"1\" class=\"dataframe\">\n",
       "  <thead>\n",
       "    <tr style=\"text-align: right;\">\n",
       "      <th>loan_status_binary</th>\n",
       "      <th>0</th>\n",
       "      <th>1</th>\n",
       "    </tr>\n",
       "    <tr>\n",
       "      <th>zip_code</th>\n",
       "      <th></th>\n",
       "      <th></th>\n",
       "    </tr>\n",
       "  </thead>\n",
       "  <tbody>\n",
       "    <tr>\n",
       "      <th>007xx</th>\n",
       "      <td>NaN</td>\n",
       "      <td>1.0</td>\n",
       "    </tr>\n",
       "    <tr>\n",
       "      <th>008xx</th>\n",
       "      <td>2.0</td>\n",
       "      <td>NaN</td>\n",
       "    </tr>\n",
       "  </tbody>\n",
       "</table>\n",
       "</div>"
      ],
      "text/plain": [
       "loan_status_binary    0    1\n",
       "zip_code                    \n",
       "007xx               NaN  1.0\n",
       "008xx               2.0  NaN"
      ]
     },
     "execution_count": 33,
     "metadata": {},
     "output_type": "execute_result"
    }
   ],
   "source": [
    "zip_bi_status = loan.groupby(['zip_code', loan['loan_status_binary']]).size().unstack()\n",
    "zip_bi_status.head(2)"
   ]
  },
  {
   "cell_type": "code",
   "execution_count": 34,
   "metadata": {},
   "outputs": [
    {
     "data": {
      "text/plain": [
       "count    891.000000\n",
       "mean       0.669338\n",
       "std        0.305896\n",
       "min        0.000000\n",
       "25%        0.543031\n",
       "50%        0.653846\n",
       "75%        0.760384\n",
       "max        4.000000\n",
       "dtype: float64"
      ]
     },
     "execution_count": 34,
     "metadata": {},
     "output_type": "execute_result"
    }
   ],
   "source": [
    "zip_bi_status = zip_bi_status.reset_index()\n",
    "zip_pd_rate = zip_bi_status[1]/zip_bi_status[0]\n",
    "zip_pd_rate.fillna(0, axis=0, inplace=True)\n",
    "zip_pd_rate.describe()"
   ]
  },
  {
   "cell_type": "code",
   "execution_count": 35,
   "metadata": {},
   "outputs": [
    {
     "data": {
      "text/plain": [
       "(0.654, 0.692]     91\n",
       "(0.61, 0.654]      90\n",
       "(0.405, 0.519]     90\n",
       "(-0.001, 0.405]    90\n",
       "(0.918, 4.0]       89\n",
       "(0.805, 0.918]     89\n",
       "(0.742, 0.805]     89\n",
       "(0.563, 0.61]      89\n",
       "(0.519, 0.563]     88\n",
       "(0.692, 0.742]     86\n",
       "Name: new_zip, dtype: int64"
      ]
     },
     "execution_count": 35,
     "metadata": {},
     "output_type": "execute_result"
    }
   ],
   "source": [
    "zip_bi_status['new_zip'] = pd.qcut(zip_pd_rate, 10)\n",
    "zip_bi_status['new_zip'].value_counts()"
   ]
  },
  {
   "cell_type": "code",
   "execution_count": 36,
   "metadata": {},
   "outputs": [
    {
     "data": {
      "text/html": [
       "<div>\n",
       "<style scoped>\n",
       "    .dataframe tbody tr th:only-of-type {\n",
       "        vertical-align: middle;\n",
       "    }\n",
       "\n",
       "    .dataframe tbody tr th {\n",
       "        vertical-align: top;\n",
       "    }\n",
       "\n",
       "    .dataframe thead th {\n",
       "        text-align: right;\n",
       "    }\n",
       "</style>\n",
       "<table border=\"1\" class=\"dataframe\">\n",
       "  <thead>\n",
       "    <tr style=\"text-align: right;\">\n",
       "      <th>loan_status_binary</th>\n",
       "      <th>zip_code</th>\n",
       "      <th>new_zip</th>\n",
       "    </tr>\n",
       "  </thead>\n",
       "  <tbody>\n",
       "    <tr>\n",
       "      <th>0</th>\n",
       "      <td>007xx</td>\n",
       "      <td>(-0.001, 0.405]</td>\n",
       "    </tr>\n",
       "    <tr>\n",
       "      <th>1</th>\n",
       "      <td>008xx</td>\n",
       "      <td>(-0.001, 0.405]</td>\n",
       "    </tr>\n",
       "    <tr>\n",
       "      <th>2</th>\n",
       "      <td>009xx</td>\n",
       "      <td>(-0.001, 0.405]</td>\n",
       "    </tr>\n",
       "    <tr>\n",
       "      <th>3</th>\n",
       "      <td>010xx</td>\n",
       "      <td>(0.563, 0.61]</td>\n",
       "    </tr>\n",
       "    <tr>\n",
       "      <th>4</th>\n",
       "      <td>011xx</td>\n",
       "      <td>(0.805, 0.918]</td>\n",
       "    </tr>\n",
       "  </tbody>\n",
       "</table>\n",
       "</div>"
      ],
      "text/plain": [
       "loan_status_binary zip_code          new_zip\n",
       "0                     007xx  (-0.001, 0.405]\n",
       "1                     008xx  (-0.001, 0.405]\n",
       "2                     009xx  (-0.001, 0.405]\n",
       "3                     010xx    (0.563, 0.61]\n",
       "4                     011xx   (0.805, 0.918]"
      ]
     },
     "execution_count": 36,
     "metadata": {},
     "output_type": "execute_result"
    }
   ],
   "source": [
    "zip_bi_status.drop([0,1], axis=1, inplace=True)\n",
    "zip_bi_status.head()"
   ]
  },
  {
   "cell_type": "code",
   "execution_count": 37,
   "metadata": {},
   "outputs": [
    {
     "data": {
      "text/html": [
       "<div>\n",
       "<style scoped>\n",
       "    .dataframe tbody tr th:only-of-type {\n",
       "        vertical-align: middle;\n",
       "    }\n",
       "\n",
       "    .dataframe tbody tr th {\n",
       "        vertical-align: top;\n",
       "    }\n",
       "\n",
       "    .dataframe thead th {\n",
       "        text-align: right;\n",
       "    }\n",
       "</style>\n",
       "<table border=\"1\" class=\"dataframe\">\n",
       "  <thead>\n",
       "    <tr style=\"text-align: right;\">\n",
       "      <th></th>\n",
       "      <th>loan_amnt</th>\n",
       "      <th>funded_amnt</th>\n",
       "      <th>funded_amnt_inv</th>\n",
       "      <th>term</th>\n",
       "      <th>int_rate</th>\n",
       "      <th>installment</th>\n",
       "      <th>home_ownership</th>\n",
       "      <th>annual_inc</th>\n",
       "      <th>verification_status</th>\n",
       "      <th>pymnt_plan</th>\n",
       "      <th>...</th>\n",
       "      <th>tot_hi_cred_lim</th>\n",
       "      <th>total_bal_ex_mort</th>\n",
       "      <th>total_bc_limit</th>\n",
       "      <th>total_il_high_credit_limit</th>\n",
       "      <th>disbursement_method</th>\n",
       "      <th>next_pymnt_d_since_issue</th>\n",
       "      <th>last_pymnt_d_since_issue</th>\n",
       "      <th>last_credit_pull_d_since_issue</th>\n",
       "      <th>loan_status_binary</th>\n",
       "      <th>new_zip</th>\n",
       "    </tr>\n",
       "  </thead>\n",
       "  <tbody>\n",
       "    <tr>\n",
       "      <th>0</th>\n",
       "      <td>16000.0</td>\n",
       "      <td>16000.0</td>\n",
       "      <td>16000.0</td>\n",
       "      <td>36 months</td>\n",
       "      <td>5.32</td>\n",
       "      <td>481.84</td>\n",
       "      <td>RENT</td>\n",
       "      <td>105000.0</td>\n",
       "      <td>Not Verified</td>\n",
       "      <td>n</td>\n",
       "      <td>...</td>\n",
       "      <td>47543.0</td>\n",
       "      <td>23525.0</td>\n",
       "      <td>19400.0</td>\n",
       "      <td>25243.0</td>\n",
       "      <td>Cash</td>\n",
       "      <td>-1.0</td>\n",
       "      <td>2.0</td>\n",
       "      <td>8.0</td>\n",
       "      <td>1</td>\n",
       "      <td>(0.654, 0.692]</td>\n",
       "    </tr>\n",
       "    <tr>\n",
       "      <th>1</th>\n",
       "      <td>17000.0</td>\n",
       "      <td>17000.0</td>\n",
       "      <td>17000.0</td>\n",
       "      <td>36 months</td>\n",
       "      <td>9.75</td>\n",
       "      <td>546.55</td>\n",
       "      <td>MORTGAGE</td>\n",
       "      <td>40000.0</td>\n",
       "      <td>Verified</td>\n",
       "      <td>n</td>\n",
       "      <td>...</td>\n",
       "      <td>44131.0</td>\n",
       "      <td>31939.0</td>\n",
       "      <td>16300.0</td>\n",
       "      <td>27831.0</td>\n",
       "      <td>Cash</td>\n",
       "      <td>21.0</td>\n",
       "      <td>20.0</td>\n",
       "      <td>20.0</td>\n",
       "      <td>0</td>\n",
       "      <td>(0.563, 0.61]</td>\n",
       "    </tr>\n",
       "  </tbody>\n",
       "</table>\n",
       "<p>2 rows × 86 columns</p>\n",
       "</div>"
      ],
      "text/plain": [
       "   loan_amnt  funded_amnt  funded_amnt_inv        term  int_rate  installment  \\\n",
       "0    16000.0      16000.0          16000.0   36 months      5.32       481.84   \n",
       "1    17000.0      17000.0          17000.0   36 months      9.75       546.55   \n",
       "\n",
       "  home_ownership  annual_inc verification_status pymnt_plan       ...        \\\n",
       "0           RENT    105000.0        Not Verified          n       ...         \n",
       "1       MORTGAGE     40000.0            Verified          n       ...         \n",
       "\n",
       "  tot_hi_cred_lim total_bal_ex_mort total_bc_limit  \\\n",
       "0         47543.0           23525.0        19400.0   \n",
       "1         44131.0           31939.0        16300.0   \n",
       "\n",
       "   total_il_high_credit_limit  disbursement_method  next_pymnt_d_since_issue  \\\n",
       "0                     25243.0                 Cash                      -1.0   \n",
       "1                     27831.0                 Cash                      21.0   \n",
       "\n",
       "   last_pymnt_d_since_issue  last_credit_pull_d_since_issue  \\\n",
       "0                       2.0                             8.0   \n",
       "1                      20.0                            20.0   \n",
       "\n",
       "   loan_status_binary         new_zip  \n",
       "0                   1  (0.654, 0.692]  \n",
       "1                   0   (0.563, 0.61]  \n",
       "\n",
       "[2 rows x 86 columns]"
      ]
     },
     "execution_count": 37,
     "metadata": {},
     "output_type": "execute_result"
    }
   ],
   "source": [
    "loan = pd.merge(loan, zip_bi_status, how='left', on = 'zip_code')\n",
    "loan.head(2)"
   ]
  },
  {
   "cell_type": "code",
   "execution_count": 39,
   "metadata": {},
   "outputs": [
    {
     "data": {
      "text/plain": [
       "(133887, 85)"
      ]
     },
     "execution_count": 39,
     "metadata": {},
     "output_type": "execute_result"
    }
   ],
   "source": [
    "loan.drop(['zip_code'], axis=1, inplace=True)\n",
    "loan.shape"
   ]
  },
  {
   "cell_type": "code",
   "execution_count": 40,
   "metadata": {},
   "outputs": [],
   "source": [
    "loan.to_csv('LoanStats_2016Q1_cleaned.csv', index=False)"
   ]
  },
  {
   "cell_type": "code",
   "execution_count": null,
   "metadata": {},
   "outputs": [],
   "source": []
  },
  {
   "cell_type": "code",
   "execution_count": null,
   "metadata": {},
   "outputs": [],
   "source": []
  },
  {
   "cell_type": "code",
   "execution_count": null,
   "metadata": {},
   "outputs": [],
   "source": []
  },
  {
   "cell_type": "markdown",
   "metadata": {},
   "source": [
    "## Start building models"
   ]
  },
  {
   "cell_type": "code",
   "execution_count": 1,
   "metadata": {},
   "outputs": [
    {
     "data": {
      "text/plain": [
       "(133887, 85)"
      ]
     },
     "execution_count": 1,
     "metadata": {},
     "output_type": "execute_result"
    }
   ],
   "source": [
    "import pandas as pd\n",
    "import numpy as np\n",
    "import matplotlib.pyplot as plt\n",
    "%matplotlib inline\n",
    "plt.style.use('ggplot')\n",
    "\n",
    "loan =  pd.read_csv('LoanStats_2016Q1_cleaned.csv')\n",
    "loan.shape"
   ]
  },
  {
   "cell_type": "markdown",
   "metadata": {},
   "source": [
    "#### Numerical features\n",
    "* 'int_rate', 'installment', 'annual_inc', 'dti', 'last_pymnt_amnt', 'total_bal_il', 'revol_util', \n",
    "\n",
    "* 'loan_amnt', ('funded_amnt', 'funded_amnt_inv',) \n",
    "\n",
    "* 'total_pymnt', ('total_pymnt_inv',) \n",
    "\n",
    "* 'out_prncp', ('out_prncp_inv',)\n",
    "\n",
    "* 'fico_range_low',('fico_range_high',)\n",
    "\n",
    "* 'last_fico_range_low', ('last_fico_range_high',)\n",
    "\n",
    "* 'inq_last_6mths', 'inq_last_12m', \n",
    "\n",
    "* 'open_il_12m', ('open_il_24m',) \n",
    "\n",
    "* 'open_rv_12m', ('open_rv_24m',) \n",
    " \n",
    "* ('total_acc',) 'open_acc','open_acc_6m', 'acc_open_past_24mths', 'open_act_il', \n",
    "\n",
    "* 'num_actv_bc_tl', ('num_actv_rev_tl', 'num_bc_sats',)\n",
    "\n",
    "* 'num_bc_tl', ('num_rev_accts',)\n",
    "\n",
    "* 'delinq_2yrs', 'delinq_amnt', 'pub_rec', 'pub_rec_bankruptcies', 'tax_liens', 'chargeoff_within_12_mths', 'total_rec_prncp', 'total_rec_int', 'total_rec_late_fee', 'recoveries', 'collection_recovery_fee', 'collections_12_mths_ex_med', 'acc_now_delinq', 'tot_coll_amt','tot_cur_bal', 'avg_cur_bal', 'revol_bal', 'max_bal_bc', 'all_util', 'total_rev_hi_lim', 'inq_fi', 'total_cu_tl',  'mo_sin_old_rev_tl_op', 'mo_sin_rcnt_rev_tl_op', 'mo_sin_rcnt_tl', 'mort_acc', 'num_accts_ever_120_pd', 'num_tl_30dpd', 'num_tl_90g_dpd_24m', 'num_tl_op_past_12m', 'pct_tl_nvr_dlq', 'num_il_tl', 'num_op_rev_tl',  'num_rev_tl_bal_gt_0', 'num_sats', 'tot_hi_cred_lim', 'total_bc_limit', 'total_il_high_credit_limit', 'total_bal_ex_mort', 'next_pymnt_d_since_issue', 'last_pymnt_d_since_issue', 'last_credit_pull_d_since_issue', "
   ]
  },
  {
   "cell_type": "markdown",
   "metadata": {},
   "source": [
    "#### check the correlation and drop some features"
   ]
  },
  {
   "cell_type": "code",
   "execution_count": 2,
   "metadata": {},
   "outputs": [
    {
     "data": {
      "text/plain": [
       "array([[ 1.        ,  0.68822838],\n",
       "       [ 0.68822838,  1.        ]])"
      ]
     },
     "execution_count": 2,
     "metadata": {},
     "output_type": "execute_result"
    }
   ],
   "source": [
    "cols = ['num_actv_rev_tl', 'num_bc_sats',]\n",
    "np.corrcoef(loan[cols].values.T)"
   ]
  },
  {
   "cell_type": "code",
   "execution_count": 3,
   "metadata": {},
   "outputs": [],
   "source": [
    "loan.drop(['funded_amnt', 'funded_amnt_inv', 'total_pymnt_inv', 'out_prncp_inv',\n",
    "           'fico_range_high', 'last_fico_range_high', 'open_il_24m', 'open_rv_24m',\n",
    "           'total_acc', 'num_actv_rev_tl', 'num_bc_sats', 'num_rev_accts'\n",
    "          ], axis=1, inplace=True)"
   ]
  },
  {
   "cell_type": "code",
   "execution_count": 4,
   "metadata": {},
   "outputs": [],
   "source": [
    "# np.log(loan['loan_amnt']).describe()\n",
    "# np.log(loan['revol_bal']+1).describe()\n",
    "# np.log(loan['out_prncp']+1).plot.hist()\n",
    "\n",
    "## transform some features\n",
    "loan['log_loan_amnt'] = np.log(loan['loan_amnt'])\n",
    "loan['log_revol_bal'] = np.log(loan['revol_bal']+1)"
   ]
  },
  {
   "cell_type": "markdown",
   "metadata": {},
   "source": [
    "#### Categorical features"
   ]
  },
  {
   "cell_type": "code",
   "execution_count": 5,
   "metadata": {},
   "outputs": [],
   "source": [
    "cols_categorical = ['disbursement_method','home_ownership','term',\n",
    "                    'new_zip','title','verification_status', 'purpose','pymnt_plan']"
   ]
  },
  {
   "cell_type": "markdown",
   "metadata": {},
   "source": [
    "#### onehot encoding"
   ]
  },
  {
   "cell_type": "code",
   "execution_count": 6,
   "metadata": {},
   "outputs": [
    {
     "data": {
      "text/plain": [
       "(133887, 74)"
      ]
     },
     "execution_count": 6,
     "metadata": {},
     "output_type": "execute_result"
    }
   ],
   "source": [
    "X = loan.drop('loan_status_binary', axis=1)\n",
    "X.shape"
   ]
  },
  {
   "cell_type": "code",
   "execution_count": 7,
   "metadata": {},
   "outputs": [],
   "source": [
    "from sklearn.preprocessing import OneHotEncoder\n",
    "from sklearn.preprocessing import LabelEncoder"
   ]
  },
  {
   "cell_type": "code",
   "execution_count": 8,
   "metadata": {},
   "outputs": [],
   "source": [
    "# need do label encoding for string features to int before onehot encoding\n",
    "le = LabelEncoder()\n",
    "for col in cols_categorical:\n",
    "    le.fit(X[col])\n",
    "    X[col] = le.transform(X[col])"
   ]
  },
  {
   "cell_type": "code",
   "execution_count": 9,
   "metadata": {},
   "outputs": [
    {
     "data": {
      "text/html": [
       "<div>\n",
       "<style scoped>\n",
       "    .dataframe tbody tr th:only-of-type {\n",
       "        vertical-align: middle;\n",
       "    }\n",
       "\n",
       "    .dataframe tbody tr th {\n",
       "        vertical-align: top;\n",
       "    }\n",
       "\n",
       "    .dataframe thead th {\n",
       "        text-align: right;\n",
       "    }\n",
       "</style>\n",
       "<table border=\"1\" class=\"dataframe\">\n",
       "  <thead>\n",
       "    <tr style=\"text-align: right;\">\n",
       "      <th></th>\n",
       "      <th>disbursement_method</th>\n",
       "      <th>home_ownership</th>\n",
       "      <th>term</th>\n",
       "      <th>new_zip</th>\n",
       "      <th>title</th>\n",
       "      <th>verification_status</th>\n",
       "      <th>purpose</th>\n",
       "      <th>pymnt_plan</th>\n",
       "    </tr>\n",
       "  </thead>\n",
       "  <tbody>\n",
       "    <tr>\n",
       "      <th>0</th>\n",
       "      <td>0</td>\n",
       "      <td>2</td>\n",
       "      <td>0</td>\n",
       "      <td>5</td>\n",
       "      <td>4</td>\n",
       "      <td>0</td>\n",
       "      <td>2</td>\n",
       "      <td>0</td>\n",
       "    </tr>\n",
       "    <tr>\n",
       "      <th>1</th>\n",
       "      <td>0</td>\n",
       "      <td>0</td>\n",
       "      <td>0</td>\n",
       "      <td>3</td>\n",
       "      <td>3</td>\n",
       "      <td>2</td>\n",
       "      <td>1</td>\n",
       "      <td>0</td>\n",
       "    </tr>\n",
       "    <tr>\n",
       "      <th>2</th>\n",
       "      <td>0</td>\n",
       "      <td>0</td>\n",
       "      <td>1</td>\n",
       "      <td>6</td>\n",
       "      <td>7</td>\n",
       "      <td>1</td>\n",
       "      <td>3</td>\n",
       "      <td>0</td>\n",
       "    </tr>\n",
       "  </tbody>\n",
       "</table>\n",
       "</div>"
      ],
      "text/plain": [
       "   disbursement_method  home_ownership  term  new_zip  title  \\\n",
       "0                    0               2     0        5      4   \n",
       "1                    0               0     0        3      3   \n",
       "2                    0               0     1        6      7   \n",
       "\n",
       "   verification_status  purpose  pymnt_plan  \n",
       "0                    0        2           0  \n",
       "1                    2        1           0  \n",
       "2                    1        3           0  "
      ]
     },
     "execution_count": 9,
     "metadata": {},
     "output_type": "execute_result"
    }
   ],
   "source": [
    "X[cols_categorical].head(3)"
   ]
  },
  {
   "cell_type": "code",
   "execution_count": 10,
   "metadata": {},
   "outputs": [
    {
     "data": {
      "text/plain": [
       "OneHotEncoder(categorical_features='all', dtype=<class 'numpy.float64'>,\n",
       "       handle_unknown='error', n_values='auto', sparse=True)"
      ]
     },
     "execution_count": 10,
     "metadata": {},
     "output_type": "execute_result"
    }
   ],
   "source": [
    "enc = OneHotEncoder()\n",
    "enc.fit(X[cols_categorical])  "
   ]
  },
  {
   "cell_type": "code",
   "execution_count": 11,
   "metadata": {},
   "outputs": [
    {
     "data": {
      "text/plain": [
       "(array([ 2,  3,  2, 10, 13,  3, 12,  2]),\n",
       " array([ 0,  2,  5,  7, 17, 30, 33, 45, 47]))"
      ]
     },
     "execution_count": 11,
     "metadata": {},
     "output_type": "execute_result"
    }
   ],
   "source": [
    "X_cate = enc.transform(X[cols_categorical])\n",
    "enc.n_values_, enc.feature_indices_"
   ]
  },
  {
   "cell_type": "code",
   "execution_count": 12,
   "metadata": {},
   "outputs": [
    {
     "data": {
      "text/plain": [
       "((133887, 66), (133887, 47))"
      ]
     },
     "execution_count": 12,
     "metadata": {},
     "output_type": "execute_result"
    }
   ],
   "source": [
    "X_num = X.drop(cols_categorical, axis=1).values\n",
    "X_num.shape, X_cate.shape"
   ]
  },
  {
   "cell_type": "code",
   "execution_count": 13,
   "metadata": {},
   "outputs": [
    {
     "data": {
      "text/plain": [
       "Index(['loan_amnt', 'int_rate', 'installment', 'annual_inc', 'dti',\n",
       "       'delinq_2yrs', 'fico_range_low', 'inq_last_6mths', 'open_acc',\n",
       "       'pub_rec', 'revol_bal', 'revol_util', 'out_prncp', 'total_pymnt',\n",
       "       'total_rec_prncp', 'total_rec_int', 'total_rec_late_fee', 'recoveries',\n",
       "       'collection_recovery_fee', 'last_pymnt_amnt', 'last_fico_range_low',\n",
       "       'collections_12_mths_ex_med', 'acc_now_delinq', 'tot_coll_amt',\n",
       "       'tot_cur_bal', 'open_acc_6m', 'open_act_il', 'open_il_12m',\n",
       "       'total_bal_il', 'open_rv_12m', 'max_bal_bc', 'all_util',\n",
       "       'total_rev_hi_lim', 'inq_fi', 'total_cu_tl', 'inq_last_12m',\n",
       "       'acc_open_past_24mths', 'avg_cur_bal', 'chargeoff_within_12_mths',\n",
       "       'delinq_amnt', 'mo_sin_old_rev_tl_op', 'mo_sin_rcnt_rev_tl_op',\n",
       "       'mo_sin_rcnt_tl', 'mort_acc', 'num_accts_ever_120_pd', 'num_actv_bc_tl',\n",
       "       'num_bc_tl', 'num_il_tl', 'num_op_rev_tl', 'num_rev_tl_bal_gt_0',\n",
       "       'num_sats', 'num_tl_30dpd', 'num_tl_90g_dpd_24m', 'num_tl_op_past_12m',\n",
       "       'pct_tl_nvr_dlq', 'pub_rec_bankruptcies', 'tax_liens',\n",
       "       'tot_hi_cred_lim', 'total_bal_ex_mort', 'total_bc_limit',\n",
       "       'total_il_high_credit_limit', 'next_pymnt_d_since_issue',\n",
       "       'last_pymnt_d_since_issue', 'last_credit_pull_d_since_issue',\n",
       "       'log_loan_amnt', 'log_revol_bal'],\n",
       "      dtype='object')"
      ]
     },
     "execution_count": 13,
     "metadata": {},
     "output_type": "execute_result"
    }
   ],
   "source": [
    "X.drop(cols_categorical, axis=1).columns"
   ]
  },
  {
   "cell_type": "markdown",
   "metadata": {},
   "source": [
    "#### create a list to record all feature names after one-hot encoding"
   ]
  },
  {
   "cell_type": "code",
   "execution_count": 14,
   "metadata": {
    "scrolled": false
   },
   "outputs": [
    {
     "data": {
      "text/plain": [
       "(['disbursement_method',\n",
       "  'disbursement_method',\n",
       "  'home_ownership',\n",
       "  'home_ownership',\n",
       "  'home_ownership',\n",
       "  'term',\n",
       "  'term',\n",
       "  'new_zip',\n",
       "  'new_zip',\n",
       "  'new_zip',\n",
       "  'new_zip',\n",
       "  'new_zip',\n",
       "  'new_zip',\n",
       "  'new_zip',\n",
       "  'new_zip',\n",
       "  'new_zip',\n",
       "  'new_zip',\n",
       "  'title',\n",
       "  'title',\n",
       "  'title',\n",
       "  'title',\n",
       "  'title',\n",
       "  'title',\n",
       "  'title',\n",
       "  'title',\n",
       "  'title',\n",
       "  'title',\n",
       "  'title',\n",
       "  'title',\n",
       "  'title',\n",
       "  'verification_status',\n",
       "  'verification_status',\n",
       "  'verification_status',\n",
       "  'purpose',\n",
       "  'purpose',\n",
       "  'purpose',\n",
       "  'purpose',\n",
       "  'purpose',\n",
       "  'purpose',\n",
       "  'purpose',\n",
       "  'purpose',\n",
       "  'purpose',\n",
       "  'purpose',\n",
       "  'purpose',\n",
       "  'purpose',\n",
       "  'pymnt_plan',\n",
       "  'pymnt_plan',\n",
       "  'loan_amnt',\n",
       "  'int_rate',\n",
       "  'installment',\n",
       "  'annual_inc',\n",
       "  'dti',\n",
       "  'delinq_2yrs',\n",
       "  'fico_range_low',\n",
       "  'inq_last_6mths',\n",
       "  'open_acc',\n",
       "  'pub_rec',\n",
       "  'revol_bal',\n",
       "  'revol_util',\n",
       "  'out_prncp',\n",
       "  'total_pymnt',\n",
       "  'total_rec_prncp',\n",
       "  'total_rec_int',\n",
       "  'total_rec_late_fee',\n",
       "  'recoveries',\n",
       "  'collection_recovery_fee',\n",
       "  'last_pymnt_amnt',\n",
       "  'last_fico_range_low',\n",
       "  'collections_12_mths_ex_med',\n",
       "  'acc_now_delinq',\n",
       "  'tot_coll_amt',\n",
       "  'tot_cur_bal',\n",
       "  'open_acc_6m',\n",
       "  'open_act_il',\n",
       "  'open_il_12m',\n",
       "  'total_bal_il',\n",
       "  'open_rv_12m',\n",
       "  'max_bal_bc',\n",
       "  'all_util',\n",
       "  'total_rev_hi_lim',\n",
       "  'inq_fi',\n",
       "  'total_cu_tl',\n",
       "  'inq_last_12m',\n",
       "  'acc_open_past_24mths',\n",
       "  'avg_cur_bal',\n",
       "  'chargeoff_within_12_mths',\n",
       "  'delinq_amnt',\n",
       "  'mo_sin_old_rev_tl_op',\n",
       "  'mo_sin_rcnt_rev_tl_op',\n",
       "  'mo_sin_rcnt_tl',\n",
       "  'mort_acc',\n",
       "  'num_accts_ever_120_pd',\n",
       "  'num_actv_bc_tl',\n",
       "  'num_bc_tl',\n",
       "  'num_il_tl',\n",
       "  'num_op_rev_tl',\n",
       "  'num_rev_tl_bal_gt_0',\n",
       "  'num_sats',\n",
       "  'num_tl_30dpd',\n",
       "  'num_tl_90g_dpd_24m',\n",
       "  'num_tl_op_past_12m',\n",
       "  'pct_tl_nvr_dlq',\n",
       "  'pub_rec_bankruptcies',\n",
       "  'tax_liens',\n",
       "  'tot_hi_cred_lim',\n",
       "  'total_bal_ex_mort',\n",
       "  'total_bc_limit',\n",
       "  'total_il_high_credit_limit',\n",
       "  'next_pymnt_d_since_issue',\n",
       "  'last_pymnt_d_since_issue',\n",
       "  'last_credit_pull_d_since_issue',\n",
       "  'log_loan_amnt',\n",
       "  'log_revol_bal'],\n",
       " 113)"
      ]
     },
     "execution_count": 14,
     "metadata": {},
     "output_type": "execute_result"
    }
   ],
   "source": [
    "cols_categorical = ['disbursement_method','home_ownership','term',\n",
    "                    'new_zip','title','verification_status', 'purpose','pymnt_plan']\n",
    "freq = [2, 3, 2, 10, 13, 3, 12, 2]\n",
    "\n",
    "feature_names = []\n",
    "for i in range(len(freq)):\n",
    "    feature_names.append([cols_categorical[i]]*freq[i])\n",
    "\n",
    "\n",
    "feature_names.append(['loan_amnt', 'int_rate', 'installment', 'annual_inc', 'dti',\n",
    "       'delinq_2yrs', 'fico_range_low', 'inq_last_6mths', 'open_acc',\n",
    "       'pub_rec', 'revol_bal', 'revol_util', 'out_prncp', 'total_pymnt',\n",
    "       'total_rec_prncp', 'total_rec_int', 'total_rec_late_fee', 'recoveries',\n",
    "       'collection_recovery_fee', 'last_pymnt_amnt', 'last_fico_range_low',\n",
    "       'collections_12_mths_ex_med', 'acc_now_delinq', 'tot_coll_amt',\n",
    "       'tot_cur_bal', 'open_acc_6m', 'open_act_il', 'open_il_12m',\n",
    "       'total_bal_il', 'open_rv_12m', 'max_bal_bc', 'all_util',\n",
    "       'total_rev_hi_lim', 'inq_fi', 'total_cu_tl', 'inq_last_12m',\n",
    "       'acc_open_past_24mths', 'avg_cur_bal', 'chargeoff_within_12_mths',\n",
    "       'delinq_amnt', 'mo_sin_old_rev_tl_op', 'mo_sin_rcnt_rev_tl_op',\n",
    "       'mo_sin_rcnt_tl', 'mort_acc', 'num_accts_ever_120_pd', 'num_actv_bc_tl',\n",
    "       'num_bc_tl', 'num_il_tl', 'num_op_rev_tl', 'num_rev_tl_bal_gt_0',\n",
    "       'num_sats', 'num_tl_30dpd', 'num_tl_90g_dpd_24m', 'num_tl_op_past_12m',\n",
    "       'pct_tl_nvr_dlq', 'pub_rec_bankruptcies', 'tax_liens',\n",
    "       'tot_hi_cred_lim', 'total_bal_ex_mort', 'total_bc_limit',\n",
    "       'total_il_high_credit_limit', 'next_pymnt_d_since_issue',\n",
    "       'last_pymnt_d_since_issue', 'last_credit_pull_d_since_issue',\n",
    "       'log_loan_amnt', 'log_revol_bal'])\n",
    "\n",
    "\n",
    "from functools import reduce\n",
    "feature_names = reduce(lambda x,y: x+y, feature_names)\n",
    "feature_names, len(feature_names)"
   ]
  },
  {
   "cell_type": "code",
   "execution_count": 15,
   "metadata": {},
   "outputs": [
    {
     "data": {
      "text/plain": [
       "(133887, 113)"
      ]
     },
     "execution_count": 15,
     "metadata": {},
     "output_type": "execute_result"
    }
   ],
   "source": [
    "from scipy.sparse import hstack\n",
    "X_new = hstack((X_cate, X_num))\n",
    "X_new.shape"
   ]
  },
  {
   "cell_type": "markdown",
   "metadata": {},
   "source": [
    "#### split data into training and test datasets"
   ]
  },
  {
   "cell_type": "code",
   "execution_count": 16,
   "metadata": {},
   "outputs": [],
   "source": [
    "from sklearn.model_selection import train_test_split\n",
    "\n",
    "y = loan['loan_status_binary'].values\n",
    "X_train, X_test, y_train, y_test = train_test_split(X_new, y, test_size=0.3, random_state=42)"
   ]
  },
  {
   "cell_type": "code",
   "execution_count": 17,
   "metadata": {},
   "outputs": [],
   "source": [
    "# define function to perform train, test, and get model performance\n",
    "def train_test_model(clf, X_train, y_train, X_test, y_test):\n",
    "    # Fit a model by providing X and y from training set\n",
    "    clf.fit(X_train, y_train)\n",
    "\n",
    "    # Make prediction on the training data\n",
    "    y_train_pred = clf.predict(X_train)\n",
    "    p_train_pred = clf.predict_proba(X_train)[:,1]\n",
    "\n",
    "    # Make predictions on test data\n",
    "    y_test_pred = clf.predict(X_test)\n",
    "    p_test_pred = clf.predict_proba(X_test)[:,1]\n",
    "\n",
    "    # print model results\n",
    "    get_performance_metrics(y_train, p_train_pred, y_test, p_test_pred)\n",
    "    plot_roc_curve(y_train, p_train_pred, y_test, p_test_pred)\n",
    "    \n",
    "\n",
    "    \n",
    "import pandas as pd\n",
    "from sklearn.metrics import precision_score, accuracy_score, recall_score, f1_score, roc_auc_score\n",
    "\n",
    "# Helper method to print metric scores    \n",
    "def get_performance_metrics(y_train, y_train_pred, y_test, y_test_pred, threshold=0.5):\n",
    "    metric_names = ['AUC','Accuracy','Precision','Recall','f1-score']\n",
    "    \n",
    "    metric_values_train = [roc_auc_score(y_train, y_train_pred),\n",
    "                    accuracy_score(y_train, y_train_pred > threshold),\n",
    "                    precision_score(y_train, y_train_pred > threshold),\n",
    "                    recall_score(y_train, y_train_pred > threshold),\n",
    "                    f1_score(y_train, y_train_pred > threshold)]\n",
    "    \n",
    "    metric_values_test = [roc_auc_score(y_test, y_test_pred),\n",
    "                    accuracy_score(y_test, y_test_pred > threshold),\n",
    "                    precision_score(y_test, y_test_pred > threshold),\n",
    "                    recall_score(y_test, y_test_pred > threshold),\n",
    "                    f1_score(y_test, y_test_pred > threshold)]\n",
    "    \n",
    "    all_metrics = pd.DataFrame({'metrics':metric_names,\n",
    "                                'train':metric_values_train,\n",
    "                                'test':metric_values_test},\n",
    "                               columns=['metrics','train','test']).set_index('metrics')\n",
    "    print(all_metrics)\n",
    "    \n",
    "    \n",
    "    \n",
    "\n",
    "import matplotlib.pyplot as plt\n",
    "from sklearn.metrics import roc_curve, auc\n",
    "%matplotlib inline\n",
    "\n",
    "def plot_roc_curve(y_train, y_train_pred, y_test, y_test_pred):\n",
    "    roc_auc_train = roc_auc_score(y_train, y_train_pred)\n",
    "    fpr_train, tpr_train, _ = roc_curve(y_train, y_train_pred)\n",
    "\n",
    "    roc_auc_test = roc_auc_score(y_test, y_test_pred)\n",
    "    fpr_test, tpr_test, _ = roc_curve(y_test, y_test_pred)\n",
    "    plt.figure()\n",
    "    lw = 2\n",
    "    plt.plot(fpr_train, tpr_train, color='green',\n",
    "             lw=lw, label='ROC Train (AUC = %0.4f)' % roc_auc_train)\n",
    "    plt.plot(fpr_test, tpr_test, color='darkorange',\n",
    "             lw=lw, label='ROC Test (AUC = %0.4f)' % roc_auc_test)\n",
    "    plt.plot([0, 1], [0, 1], color='navy', lw=lw, linestyle='--')\n",
    "    plt.xlim([0.0, 1.0])\n",
    "    plt.ylim([0.0, 1.05])\n",
    "    plt.xlabel('False Positive Rate')\n",
    "    plt.ylabel('True Positive Rate')\n",
    "    plt.title('ROC Curve')\n",
    "    plt.legend(loc=\"lower right\")\n",
    "    plt.show()"
   ]
  },
  {
   "cell_type": "markdown",
   "metadata": {},
   "source": [
    "### Build a Logistic Regression Classifier"
   ]
  },
  {
   "cell_type": "code",
   "execution_count": 18,
   "metadata": {},
   "outputs": [
    {
     "name": "stdout",
     "output_type": "stream",
     "text": [
      "              train      test\n",
      "metrics                      \n",
      "AUC        0.994611  0.994743\n",
      "Accuracy   0.983835  0.984490\n",
      "Precision  0.996027  0.996501\n",
      "Recall     0.963685  0.965005\n",
      "f1-score   0.979589  0.980500\n"
     ]
    },
    {
     "data": {
      "image/png": "[encoded data removed]",
      "text/plain": [
       "<Figure size 432x288 with 1 Axes>"
      ]
     },
     "metadata": {},
     "output_type": "display_data"
    }
   ],
   "source": [
    "from sklearn.linear_model import LogisticRegression\n",
    "\n",
    "logis = LogisticRegression(C=0.2, penalty='l1')\n",
    "train_test_model(logis, X_train, y_train, X_test, y_test)"
   ]
  },
  {
   "cell_type": "code",
   "execution_count": 19,
   "metadata": {},
   "outputs": [
    {
     "data": {
      "text/plain": [
       "Text(0.5,0,'Feature Indice')"
      ]
     },
     "execution_count": 19,
     "metadata": {},
     "output_type": "execute_result"
    },
    {
     "data": {
      "image/png": "[encoded data removed]",
      "text/plain": [
       "<Figure size 432x288 with 1 Axes>"
      ]
     },
     "metadata": {},
     "output_type": "display_data"
    }
   ],
   "source": [
    "plt.bar(np.arange(len(logis.coef_[0])), \n",
    "        logis.coef_.flatten())\n",
    "plt.ylabel('Coefficients')\n",
    "plt.xlabel('Feature Indice')"
   ]
  },
  {
   "cell_type": "code",
   "execution_count": 20,
   "metadata": {},
   "outputs": [
    {
     "name": "stdout",
     "output_type": "stream",
     "text": [
      "[ 7.21171913  3.45290556  0.89957613  0.51002345  0.46104471  0.22625557\n",
      "  0.16037451  0.15541605  0.11857504  0.08894334]\n"
     ]
    },
    {
     "data": {
      "text/plain": [
       "['pymnt_plan',\n",
       " 'last_credit_pull_d_since_issue',\n",
       " 'log_loan_amnt',\n",
       " 'disbursement_method',\n",
       " 'term',\n",
       " 'new_zip',\n",
       " 'new_zip',\n",
       " 'new_zip',\n",
       " 'purpose',\n",
       " 'pub_rec_bankruptcies']"
      ]
     },
     "execution_count": 20,
     "metadata": {},
     "output_type": "execute_result"
    }
   ],
   "source": [
    "# top 10 indices of the features\n",
    "print(np.sort(logis.coef_.flatten())[::-1][:10])\n",
    "[feature_names[i] for i in np.argsort(logis.coef_.flatten())[::-1][:10]]"
   ]
  },
  {
   "cell_type": "code",
   "execution_count": null,
   "metadata": {},
   "outputs": [],
   "source": []
  },
  {
   "cell_type": "markdown",
   "metadata": {},
   "source": [
    "### Build a Random Forest Classifier"
   ]
  },
  {
   "cell_type": "code",
   "execution_count": 21,
   "metadata": {},
   "outputs": [
    {
     "name": "stdout",
     "output_type": "stream",
     "text": [
      "              train      test\n",
      "metrics                      \n",
      "AUC        0.999961  0.996116\n",
      "Accuracy   0.988487  0.984067\n",
      "Precision  0.998422  0.997892\n",
      "Recall     0.972936  0.962602\n",
      "f1-score   0.985514  0.979930\n"
     ]
    },
    {
     "data": {
      "image/png": "[encoded data removed]",
      "text/plain": [
       "<Figure size 432x288 with 1 Axes>"
      ]
     },
     "metadata": {},
     "output_type": "display_data"
    }
   ],
   "source": [
    "from sklearn.ensemble import RandomForestClassifier\n",
    "\n",
    "rfc = RandomForestClassifier(n_estimators=200,\n",
    "                                   max_depth=30,\n",
    "                                   min_samples_leaf=3, \n",
    "                                   min_samples_split=5,\n",
    "                                   random_state=42)\n",
    "\n",
    "train_test_model(rfc, X_train, y_train, X_test, y_test)"
   ]
  },
  {
   "cell_type": "code",
   "execution_count": 22,
   "metadata": {},
   "outputs": [
    {
     "data": {
      "text/plain": [
       "Text(0.5,0,'Feature Indice')"
      ]
     },
     "execution_count": 22,
     "metadata": {},
     "output_type": "execute_result"
    },
    {
     "data": {
      "image/png": "[encoded data removed]",
      "text/plain": [
       "<Figure size 432x288 with 1 Axes>"
      ]
     },
     "metadata": {},
     "output_type": "display_data"
    }
   ],
   "source": [
    "plt.bar(np.arange(len(rfc.feature_importances_)), \n",
    "        rfc.feature_importances_.flatten())\n",
    "plt.ylabel('Coefficients')\n",
    "plt.xlabel('Feature Indice')"
   ]
  },
  {
   "cell_type": "code",
   "execution_count": 24,
   "metadata": {},
   "outputs": [
    {
     "name": "stdout",
     "output_type": "stream",
     "text": [
      "[ 0.27428036  0.23451562  0.15504442  0.10601232  0.0607016   0.03716934\n",
      "  0.02647464  0.01319035  0.01228895  0.00928086]\n"
     ]
    },
    {
     "data": {
      "text/plain": [
       "['next_pymnt_d_since_issue',\n",
       " 'last_pymnt_d_since_issue',\n",
       " 'out_prncp',\n",
       " 'last_pymnt_amnt',\n",
       " 'last_credit_pull_d_since_issue',\n",
       " 'total_rec_prncp',\n",
       " 'last_fico_range_low',\n",
       " 'total_rec_int',\n",
       " 'total_pymnt',\n",
       " 'collection_recovery_fee']"
      ]
     },
     "execution_count": 24,
     "metadata": {},
     "output_type": "execute_result"
    }
   ],
   "source": [
    "# top 10 indices of the features\n",
    "print(np.sort(rfc.feature_importances_)[::-1][:10])\n",
    "[feature_names[i] for i in np.argsort(rfc.feature_importances_)[::-1][:10]]"
   ]
  },
  {
   "cell_type": "code",
   "execution_count": null,
   "metadata": {},
   "outputs": [],
   "source": []
  }
 ],
 "metadata": {
  "kernelspec": {
   "display_name": "Python 3",
   "language": "python",
   "name": "python3"
  },
  "language_info": {
   "codemirror_mode": {
    "name": "ipython",
    "version": 3
   },
   "file_extension": ".py",
   "mimetype": "text/x-python",
   "name": "python",
   "nbconvert_exporter": "python",
   "pygments_lexer": "ipython3",
   "version": "3.5.5"
  }
 },
 "nbformat": 4,
 "nbformat_minor": 2
}
