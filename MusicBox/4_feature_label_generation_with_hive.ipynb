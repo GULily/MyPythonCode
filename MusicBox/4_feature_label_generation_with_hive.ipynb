{
 "cells": [
  {
   "cell_type": "markdown",
   "metadata": {},
   "source": [
    "# Load data into Spark DataFrame"
   ]
  },
  {
   "cell_type": "code",
   "execution_count": 1,
   "metadata": {},
   "outputs": [
    {
     "name": "stdout",
     "output_type": "stream",
     "text": [
      "Welcome to\n",
      "      ____              __\n",
      "     / __/__  ___ _____/ /__\n",
      "    _\\ \\/ _ \\/ _ `/ __/  '_/\n",
      "   /__ / .__/\\_,_/_/ /_/\\_\\   version 2.3.0\n",
      "      /_/\n",
      "\n",
      "Using Python version 3.5.5 (default, Mar 12 2018 16:25:05)\n",
      "SparkSession available as 'spark'.\n"
     ]
    }
   ],
   "source": [
    "import os\n",
    "exec(open(os.path.join(os.environ[\"SPARK_HOME\"], 'python/pyspark/shell.py')).read())"
   ]
  },
  {
   "cell_type": "code",
   "execution_count": 2,
   "metadata": {},
   "outputs": [
    {
     "data": {
      "text/html": [
       "\n",
       "        <div>\n",
       "            <p><b>SparkContext</b></p>\n",
       "\n",
       "            <p><a href=\"http://10.0.0.112:4040\">Spark UI</a></p>\n",
       "\n",
       "            <dl>\n",
       "              <dt>Version</dt>\n",
       "                <dd><code>v2.3.0</code></dd>\n",
       "              <dt>Master</dt>\n",
       "                <dd><code>local[*]</code></dd>\n",
       "              <dt>AppName</dt>\n",
       "                <dd><code>pyspark-shell</code></dd>\n",
       "            </dl>\n",
       "        </div>\n",
       "        "
      ],
      "text/plain": [
       "<SparkContext master=local[*] appName=pyspark-shell>"
      ]
     },
     "execution_count": 2,
     "metadata": {},
     "output_type": "execute_result"
    }
   ],
   "source": [
    "sc"
   ]
  },
  {
   "cell_type": "code",
   "execution_count": 3,
   "metadata": {},
   "outputs": [],
   "source": [
    "from pyspark.context import SparkContext\n",
    "from pyspark.sql import HiveContext\n",
    "sqlContext = HiveContext(sc)\n",
    "\n",
    "import pyspark.sql.functions as F\n",
    "\n",
    "import matplotlib.pyplot as plt\n",
    "%matplotlib inline"
   ]
  },
  {
   "cell_type": "code",
   "execution_count": 4,
   "metadata": {},
   "outputs": [],
   "source": [
    "# df = spark.read.csv('../data/event_ds.csv',header=True).cache()\n",
    "df = sqlContext.read.format('com.databricks.spark.csv').options(header='true').load('../data/event_ds.csv')"
   ]
  },
  {
   "cell_type": "code",
   "execution_count": 5,
   "metadata": {},
   "outputs": [],
   "source": [
    "# create new or overwrite original field with withColumn\n",
    "df = df.withColumn('date', F.col('date').cast('date'))\n",
    "# df.show()"
   ]
  },
  {
   "cell_type": "code",
   "execution_count": 6,
   "metadata": {},
   "outputs": [
    {
     "name": "stdout",
     "output_type": "stream",
     "text": [
      "+--------+---------+-----------+\n",
      "|database|tableName|isTemporary|\n",
      "+--------+---------+-----------+\n",
      "|        |    event|       true|\n",
      "+--------+---------+-----------+\n",
      "\n"
     ]
    }
   ],
   "source": [
    "sqlContext.registerDataFrameAsTable(df, \"event\")\n",
    "sqlContext.sql(\"show tables\").show()"
   ]
  },
  {
   "cell_type": "code",
   "execution_count": 7,
   "metadata": {},
   "outputs": [
    {
     "name": "stdout",
     "output_type": "stream",
     "text": [
      "+---------+-----+--------+----------+\n",
      "|      uid|event| song_id|      date|\n",
      "+---------+-----+--------+----------+\n",
      "|168542959|    P| 6124109|2017-03-30|\n",
      "|168548032|    P|  896579|2017-03-30|\n",
      "|168550948|    P|  277286|2017-03-30|\n",
      "|168550949|    P|  360750|2017-03-30|\n",
      "|168550716|    P| 1873326|2017-03-30|\n",
      "|168547123|    P|       0|2017-03-30|\n",
      "|168551120|    P|22858485|2017-03-30|\n",
      "|168550329|    P| 3514083|2017-03-30|\n",
      "|168548032|    P| 6684886|2017-03-30|\n",
      "|168551589|    P| 1179220|2017-03-30|\n",
      "+---------+-----+--------+----------+\n",
      "\n"
     ]
    }
   ],
   "source": [
    "sqlContext.sql(\"select * from event limit 10\").show()"
   ]
  },
  {
   "cell_type": "markdown",
   "metadata": {},
   "source": [
    "### Some exploration"
   ]
  },
  {
   "cell_type": "code",
   "execution_count": 8,
   "metadata": {},
   "outputs": [
    {
     "name": "stdout",
     "output_type": "stream",
     "text": [
      "+-------------------+\n",
      "|count(DISTINCT uid)|\n",
      "+-------------------+\n",
      "|              60003|\n",
      "+-------------------+\n",
      "\n"
     ]
    }
   ],
   "source": [
    "## count distinct user id\n",
    "sqlContext.sql(\"select count(distinct uid) from event\").show()"
   ]
  },
  {
   "cell_type": "code",
   "execution_count": 9,
   "metadata": {},
   "outputs": [
    {
     "name": "stdout",
     "output_type": "stream",
     "text": [
      "+-----+--------+---------+--------+\n",
      "|event|   COUNT| min(uid)|max(uid)|\n",
      "+-----+--------+---------+--------+\n",
      "|    D|  647688|100202712|99800656|\n",
      "|    S|  783461|100202712|99800656|\n",
      "|    P|10961522|100202712|99800656|\n",
      "+-----+--------+---------+--------+\n",
      "\n"
     ]
    }
   ],
   "source": [
    "# group by aggregation\n",
    "# df.groupBy('event').count().show()\n",
    "sqlContext.sql('''\n",
    "    select event, count(1) as COUNT, min(uid), max(uid) \n",
    "    from event\n",
    "    group by event\n",
    "    ''').show()"
   ]
  },
  {
   "cell_type": "code",
   "execution_count": 10,
   "metadata": {},
   "outputs": [
    {
     "name": "stdout",
     "output_type": "stream",
     "text": [
      "+----------+-----+------+\n",
      "|      date|event| count|\n",
      "+----------+-----+------+\n",
      "|2017-04-29|    D|  8778|\n",
      "|2017-04-29|    P|209596|\n",
      "|2017-04-29|    S| 14325|\n",
      "|2017-04-30|    D|  8125|\n",
      "|2017-04-30|    P|205213|\n",
      "|2017-04-30|    S| 13407|\n",
      "|2017-05-01|    D| 13509|\n",
      "|2017-05-01|    P|203396|\n",
      "|2017-05-01|    S| 13272|\n",
      "|2017-05-02|    D|  6854|\n",
      "|2017-05-02|    P|177877|\n",
      "|2017-05-02|    S| 11644|\n",
      "|2017-05-03|    D|  5302|\n",
      "|2017-05-03|    P|181454|\n",
      "|2017-05-03|    S| 10922|\n",
      "|2017-05-04|    D|  8412|\n",
      "|2017-05-04|    P|181906|\n",
      "|2017-05-04|    S| 10882|\n",
      "|2017-05-05|    D|  6978|\n",
      "|2017-05-05|    P|179756|\n",
      "+----------+-----+------+\n",
      "only showing top 20 rows\n",
      "\n"
     ]
    }
   ],
   "source": [
    "sqlContext.sql('''\n",
    "    select date, event, count(*) as count\n",
    "    from event\n",
    "    where date >= '2017-04-29'\n",
    "    group by 1,2\n",
    "    order by 1,2\n",
    "    ''').show()  "
   ]
  },
  {
   "cell_type": "code",
   "execution_count": 11,
   "metadata": {},
   "outputs": [
    {
     "data": {
      "image/png": "[encoded data removed]",
      "text/plain": [
       "<Figure size 432x288 with 1 Axes>"
      ]
     },
     "metadata": {},
     "output_type": "display_data"
    }
   ],
   "source": [
    "# date_count = df.groupBy('date').count().orderBy('date').toPandas()\n",
    "date_count = sqlContext.sql('''\n",
    "    select date, event, count(*) as count\n",
    "    from event\n",
    "    group by 1,2\n",
    "    order by 1,2\n",
    "    ''').toPandas()\n",
    "\n",
    "plt.bar(date_count['date'].astype(str), date_count['count'])\n",
    "plt.xticks(rotation='vertical')\n",
    "plt.tight_layout;"
   ]
  },
  {
   "cell_type": "code",
   "execution_count": null,
   "metadata": {},
   "outputs": [],
   "source": []
  },
  {
   "cell_type": "markdown",
   "metadata": {},
   "source": [
    "# Label definition"
   ]
  },
  {
   "cell_type": "code",
   "execution_count": 12,
   "metadata": {},
   "outputs": [],
   "source": [
    "# import datetime\n",
    "# from dateutil import parser\n",
    "\n",
    "# label_window_size = 14\n",
    "# label_window_end_date = parser.parse('2017-05-12').date()\n",
    "# label_window_start_date = label_window_end_date - datetime.timedelta(label_window_size - 1)\n",
    "# print('label window:', label_window_start_date,'~', \n",
    "#       label_window_end_date,'days:', label_window_size)\n",
    "\n",
    "# feature_window_size = 30\n",
    "# feature_window_end_date = label_window_start_date - datetime.timedelta(1)\n",
    "# feature_window_start_date = feature_window_end_date - datetime.timedelta(feature_window_size - 1)\n",
    "# print('feature window:', feature_window_start_date,'~', \n",
    "#       feature_window_end_date,'days:', feature_window_size)"
   ]
  },
  {
   "cell_type": "code",
   "execution_count": 13,
   "metadata": {},
   "outputs": [
    {
     "name": "stdout",
     "output_type": "stream",
     "text": [
      "+--------+\n",
      "|count(1)|\n",
      "+--------+\n",
      "|   58693|\n",
      "+--------+\n",
      "\n"
     ]
    }
   ],
   "source": [
    "## feature window: 2017-03-30 ~ 2017-04-28 days: 30\n",
    "## all the uid that we will use for the model\n",
    "sqlContext.sql('''\n",
    "CREATE TEMPORARY VIEW df_model_uid AS\n",
    "    SELECT DISTINCT uid\n",
    "    FROM event\n",
    "    WHERE date >= '2017-03-30' AND date <= '2017-04-28'\n",
    "    ''')\n",
    "\n",
    "sqlContext.sql('SELECT COUNT(*) FROM df_model_uid').show()"
   ]
  },
  {
   "cell_type": "code",
   "execution_count": 14,
   "metadata": {},
   "outputs": [
    {
     "name": "stdout",
     "output_type": "stream",
     "text": [
      "+--------+\n",
      "|count(1)|\n",
      "+--------+\n",
      "|   23531|\n",
      "+--------+\n",
      "\n"
     ]
    }
   ],
   "source": [
    "## label window: 2017-04-29 ~ 2017-05-12 days: 14\n",
    "## active uid in label window\n",
    "sqlContext.sql('''\n",
    "CREATE TEMPORARY VIEW df_active_uid AS\n",
    "    SELECT DISTINCT uid\n",
    "    FROM event\n",
    "    WHERE date >= '2017-04-29' and date <= '2017-05-12'\n",
    "    ''')\n",
    "\n",
    "sqlContext.sql('SELECT COUNT(*) FROM df_active_uid').show()"
   ]
  },
  {
   "cell_type": "code",
   "execution_count": 15,
   "metadata": {},
   "outputs": [
    {
     "name": "stdout",
     "output_type": "stream",
     "text": [
      "+---------+-----+\n",
      "|      uid|churn|\n",
      "+---------+-----+\n",
      "|128106175|    1|\n",
      "|160554394|    0|\n",
      "|166397219|    1|\n",
      "|167574952|    1|\n",
      "|167576066|    0|\n",
      "|167577418|    1|\n",
      "|167582447|    1|\n",
      "|167596703|    1|\n",
      "|167606193|    0|\n",
      "|167612678|    1|\n",
      "+---------+-----+\n",
      "\n"
     ]
    }
   ],
   "source": [
    "## left join and return the uid and label for the model\n",
    "sqlContext.sql('''\n",
    "CREATE TEMPORARY VIEW df_label AS\n",
    "    SELECT df_model_uid.uid,\n",
    "        CASE\n",
    "            WHEN df_active_uid.uid > 0 THEN 0\n",
    "            ELSE 1\n",
    "        END AS churn\n",
    "    FROM df_model_uid\n",
    "    LEFT JOIN df_active_uid\n",
    "        ON df_model_uid.uid = df_active_uid.uid\n",
    "    ''')\n",
    "\n",
    "sqlContext.sql('SELECT * FROM df_label LIMIT 10').show()"
   ]
  },
  {
   "cell_type": "code",
   "execution_count": 16,
   "metadata": {},
   "outputs": [
    {
     "name": "stdout",
     "output_type": "stream",
     "text": [
      "+-----+--------+\n",
      "|churn|count(1)|\n",
      "+-----+--------+\n",
      "|    1|   36472|\n",
      "|    0|   22221|\n",
      "+-----+--------+\n",
      "\n"
     ]
    }
   ],
   "source": [
    "## check if the labels are almost balanced\n",
    "sqlContext.sql('''\n",
    "    SELECT churn, COUNT(*)\n",
    "    FROM df_label\n",
    "    GROUP BY churn\n",
    "    ''').show()"
   ]
  },
  {
   "cell_type": "markdown",
   "metadata": {},
   "source": [
    "# Feature generation"
   ]
  },
  {
   "cell_type": "code",
   "execution_count": 17,
   "metadata": {},
   "outputs": [
    {
     "name": "stdout",
     "output_type": "stream",
     "text": [
      "+--------+\n",
      "|count(1)|\n",
      "+--------+\n",
      "| 9534079|\n",
      "+--------+\n",
      "\n"
     ]
    }
   ],
   "source": [
    "# event_data in feature_window\n",
    "sqlContext.sql('''\n",
    "CREATE TEMPORARY VIEW df_feature_window AS\n",
    "    SELECT *\n",
    "    FROM event\n",
    "    WHERE date >= '2017-03-30' AND date <= '2017-04-28'\n",
    "    ''')\n",
    "\n",
    "sqlContext.sql('SELECT COUNT(*) FROM df_feature_window').show()"
   ]
  },
  {
   "cell_type": "markdown",
   "metadata": {},
   "source": [
    "### Frequency features"
   ]
  },
  {
   "cell_type": "code",
   "execution_count": 18,
   "metadata": {},
   "outputs": [
    {
     "name": "stdout",
     "output_type": "stream",
     "text": [
      "+---------+-------------+-------------+-------------+-------------+-------------+-------------+-------------+-------------+-------------+--------------+--------------+--------------+--------------+--------------+--------------+\n",
      "|      uid|freq_D_last_1|freq_S_last_1|freq_P_last_1|freq_D_last_3|freq_S_last_3|freq_P_last_3|freq_D_last_7|freq_S_last_7|freq_P_last_7|freq_D_last_14|freq_S_last_14|freq_P_last_14|freq_D_last_30|freq_S_last_30|freq_P_last_30|\n",
      "+---------+-------------+-------------+-------------+-------------+-------------+-------------+-------------+-------------+-------------+--------------+--------------+--------------+--------------+--------------+--------------+\n",
      "| 81114900|            0|            0|            0|            0|            0|            0|            0|            0|            0|             0|             0|             0|             0|             0|            14|\n",
      "|168555996|            0|            0|            0|            0|            0|            0|            0|            0|            0|             0|             0|             0|             1|             6|            19|\n",
      "+---------+-------------+-------------+-------------+-------------+-------------+-------------+-------------+-------------+-------------+--------------+--------------+--------------+--------------+--------------+--------------+\n",
      "only showing top 2 rows\n",
      "\n"
     ]
    }
   ],
   "source": [
    "## defined as count of events happend in last X days\n",
    "sqlContext.sql('''\n",
    "CREATE TEMPORARY VIEW frequency_features AS\n",
    "    SELECT uid, \n",
    "        SUM(CASE WHEN event = 'D' AND date >= '2017-04-28' THEN 1 ELSE 0 END) AS freq_D_last_1,\n",
    "        SUM(CASE WHEN event = 'S' AND date >= '2017-04-28' THEN 1 ELSE 0 END) AS freq_S_last_1,\n",
    "        SUM(CASE WHEN event = 'P' AND date >= '2017-04-28' THEN 1 ELSE 0 END) AS freq_P_last_1,\n",
    "        SUM(CASE WHEN event = 'D' AND date >= '2017-04-26' THEN 1 ELSE 0 END) AS freq_D_last_3,\n",
    "        SUM(CASE WHEN event = 'S' AND date >= '2017-04-26' THEN 1 ELSE 0 END) AS freq_S_last_3,\n",
    "        SUM(CASE WHEN event = 'P' AND date >= '2017-04-26' THEN 1 ELSE 0 END) AS freq_P_last_3,\n",
    "        SUM(CASE WHEN event = 'D' AND date >= '2017-04-22' THEN 1 ELSE 0 END) AS freq_D_last_7,\n",
    "        SUM(CASE WHEN event = 'S' AND date >= '2017-04-22' THEN 1 ELSE 0 END) AS freq_S_last_7,\n",
    "        SUM(CASE WHEN event = 'P' AND date >= '2017-04-22' THEN 1 ELSE 0 END) AS freq_P_last_7,\n",
    "        SUM(CASE WHEN event = 'D' AND date >= '2017-04-15' THEN 1 ELSE 0 END) AS freq_D_last_14,\n",
    "        SUM(CASE WHEN event = 'S' AND date >= '2017-04-15' THEN 1 ELSE 0 END) AS freq_S_last_14,\n",
    "        SUM(CASE WHEN event = 'P' AND date >= '2017-04-15' THEN 1 ELSE 0 END) AS freq_P_last_14,\n",
    "        SUM(CASE WHEN event = 'D' THEN 1 ELSE 0 END) AS freq_D_last_30,\n",
    "        SUM(CASE WHEN event = 'S' THEN 1 ELSE 0 END) AS freq_S_last_30,\n",
    "        SUM(CASE WHEN event = 'P' THEN 1 ELSE 0 END) AS freq_P_last_30\n",
    "    FROM df_feature_window\n",
    "    GROUP BY uid\n",
    "    ''')\n",
    "\n",
    "sqlContext.sql('SELECT * FROM frequency_features').show(2)"
   ]
  },
  {
   "cell_type": "markdown",
   "metadata": {},
   "source": [
    "### Recency features"
   ]
  },
  {
   "cell_type": "code",
   "execution_count": 19,
   "metadata": {},
   "outputs": [
    {
     "name": "stdout",
     "output_type": "stream",
     "text": [
      "+---------+---------+---------+---------+\n",
      "|      uid|recency_D|recency_S|recency_P|\n",
      "+---------+---------+---------+---------+\n",
      "|167606193|       11|       11|        0|\n",
      "|167621306|        8|        3|        1|\n",
      "|167659082|       19|        9|        0|\n",
      "|167667113|        5|        3|        1|\n",
      "|167677091|        4|        2|        0|\n",
      "|167708557|       21|       16|       12|\n",
      "|167719927|       28|       28|       27|\n",
      "|167756744|        3|        1|        0|\n",
      "|167764301|       15|       11|       11|\n",
      "|167772654|        0|        0|        0|\n",
      "+---------+---------+---------+---------+\n",
      "only showing top 10 rows\n",
      "\n"
     ]
    }
   ],
   "source": [
    "## defined as days from last event\n",
    "## can generate one feature for each type of event\n",
    "sqlContext.sql('''\n",
    "CREATE TEMPORARY VIEW recency_features AS\n",
    "    SELECT D.uid, D.recency_D, S.recency_S, P.recency_P\n",
    "    FROM\n",
    "        (SELECT uid, datediff(to_date('2017-04-28'), MAX(date)) AS recency_D\n",
    "        FROM df_feature_window\n",
    "        WHERE event = 'D'\n",
    "        GROUP BY uid) AS D\n",
    "    JOIN\n",
    "        (SELECT uid, datediff(to_date('2017-04-28'), MAX(date)) AS recency_S\n",
    "        FROM df_feature_window\n",
    "        WHERE event = 'S'\n",
    "        GROUP BY uid) AS S\n",
    "    ON D.uid = S.uid\n",
    "    JOIN\n",
    "        (SELECT uid, datediff(to_date('2017-04-28'), MAX(date)) AS recency_P\n",
    "        FROM df_feature_window\n",
    "        WHERE event = 'P'\n",
    "        GROUP BY uid) AS P\n",
    "    ON D.uid = P.uid\n",
    "    ''')\n",
    "\n",
    "sqlContext.sql('SELECT * FROM recency_features').show(10)"
   ]
  },
  {
   "cell_type": "markdown",
   "metadata": {},
   "source": [
    "### Profile features"
   ]
  },
  {
   "cell_type": "code",
   "execution_count": 20,
   "metadata": {},
   "outputs": [],
   "source": [
    "df_play = sqlContext.read.format('com.databricks.spark.csv').options(header='true').load('../data/play_ds.csv')\n",
    "df_play = df_play.withColumn('date', F.col('date').cast('date'))"
   ]
  },
  {
   "cell_type": "code",
   "execution_count": 21,
   "metadata": {},
   "outputs": [
    {
     "name": "stdout",
     "output_type": "stream",
     "text": [
      "+--------+------------------+-----------+\n",
      "|database|         tableName|isTemporary|\n",
      "+--------+------------------+-----------+\n",
      "|        |     df_active_uid|       true|\n",
      "|        | df_feature_window|       true|\n",
      "|        |          df_label|       true|\n",
      "|        |      df_model_uid|       true|\n",
      "|        |             event|       true|\n",
      "|        |frequency_features|       true|\n",
      "|        |              play|       true|\n",
      "|        |  recency_features|       true|\n",
      "+--------+------------------+-----------+\n",
      "\n"
     ]
    }
   ],
   "source": [
    "sqlContext.registerDataFrameAsTable(df_play, \"play\")\n",
    "sqlContext.sql(\"show tables\").show()"
   ]
  },
  {
   "cell_type": "code",
   "execution_count": 22,
   "metadata": {},
   "outputs": [
    {
     "name": "stdout",
     "output_type": "stream",
     "text": [
      "+---------+------+--------+----------+---------+-----------+\n",
      "|      uid|device| song_id|      date|play_time|song_length|\n",
      "+---------+------+--------+----------+---------+-----------+\n",
      "|168542959|    ar| 6124109|2017-03-30|      335|        336|\n",
      "|168548032|    ip|  896579|2017-03-30|        8|        184|\n",
      "|168550948|    ar|  277286|2017-03-30|      254|        254|\n",
      "|168550949|    ar|  360750|2017-03-30|      249|        249|\n",
      "|168550716|    ar| 1873326|2017-03-30|       24|        234|\n",
      "|168547123|    ar|       0|2017-03-30|        9|        243|\n",
      "|168551120|    ar|22858485|2017-03-30|      119|        233|\n",
      "|168550329|    ar| 3514083|2017-03-30|      274|        273|\n",
      "|168548032|    ip| 6684886|2017-03-30|        6|        320|\n",
      "|168551589|    ar| 1179220|2017-03-30|      217|        231|\n",
      "+---------+------+--------+----------+---------+-----------+\n",
      "only showing top 10 rows\n",
      "\n"
     ]
    }
   ],
   "source": [
    "## extract the log data in feature window\n",
    "sqlContext.sql('''\n",
    "CREATE TEMPORARY VIEW df_play_feature_window AS\n",
    "    SELECT * FROM play\n",
    "    WHERE date >= '2017-03-30' AND date <= '2017-04-28'\n",
    "    ''')\n",
    "\n",
    "sqlContext.sql('SELECT * FROM df_play_feature_window').show(10)"
   ]
  },
  {
   "cell_type": "code",
   "execution_count": 23,
   "metadata": {},
   "outputs": [
    {
     "name": "stdout",
     "output_type": "stream",
     "text": [
      "+---------------------------+-------------------+\n",
      "|count(DISTINCT uid, device)|count(DISTINCT uid)|\n",
      "+---------------------------+-------------------+\n",
      "|                      58537|              58522|\n",
      "+---------------------------+-------------------+\n",
      "\n"
     ]
    }
   ],
   "source": [
    "# check if one user has two devices\n",
    "sqlContext.sql('''\n",
    "SELECT COUNT(DISTINCT uid, device), COUNT(DISTINCT uid) \n",
    "FROM df_play_feature_window\n",
    "''').show()"
   ]
  },
  {
   "cell_type": "code",
   "execution_count": 24,
   "metadata": {},
   "outputs": [
    {
     "name": "stdout",
     "output_type": "stream",
     "text": [
      "+------+-----+----------+\n",
      "|device|count|percentage|\n",
      "+------+-----+----------+\n",
      "|    ar|51058|      0.87|\n",
      "|    wp|    1|       0.0|\n",
      "|    ip| 7478|      0.13|\n",
      "+------+-----+----------+\n",
      "\n"
     ]
    }
   ],
   "source": [
    "# count group by device\n",
    "sqlContext.sql('''\n",
    "SELECT device, count(1) as count, round(count(1)/58537,2) as percentage\n",
    "FROM(\n",
    "    SELECT distinct(uid), device\n",
    "    FROM df_play_feature_window)\n",
    "GROUP BY device\n",
    "''').show()"
   ]
  },
  {
   "cell_type": "code",
   "execution_count": 25,
   "metadata": {},
   "outputs": [
    {
     "name": "stdout",
     "output_type": "stream",
     "text": [
      "+-----------+--------+\n",
      "|device_type|count(1)|\n",
      "+-----------+--------+\n",
      "|          1| 1387228|\n",
      "|          0| 6980849|\n",
      "+-----------+--------+\n",
      "\n"
     ]
    }
   ],
   "source": [
    "## device_type = 1 (if iphone), device_type = 0 (if not iphone)\n",
    "sqlContext.sql('''\n",
    "CREATE TEMPORARY VIEW profile_features AS\n",
    "    SELECT uid, CASE WHEN device = 'ip' THEN 1 ELSE 0 END AS device_type\n",
    "    FROM df_play_feature_window\n",
    "    ''')\n",
    "\n",
    "sqlContext.sql('SELECT device_type, count(1) FROM profile_features GROUP BY device_type').show()"
   ]
  },
  {
   "cell_type": "markdown",
   "metadata": {},
   "source": [
    "### Play time features"
   ]
  },
  {
   "cell_type": "code",
   "execution_count": 26,
   "metadata": {},
   "outputs": [
    {
     "name": "stdout",
     "output_type": "stream",
     "text": [
      "+---------+-------------------+-------------------+-------------------+--------------------+--------------------+\n",
      "|      uid|freq_P_80pct_last_1|freq_P_80pct_last_3|freq_P_80pct_last_7|freq_P_80pct_last_14|freq_P_80pct_last_30|\n",
      "+---------+-------------------+-------------------+-------------------+--------------------+--------------------+\n",
      "| 81114900|                  0|                  0|                  0|                   0|                   8|\n",
      "|168576728|                  0|                  0|                  0|                   0|                   4|\n",
      "|168580603|                  0|                  0|                  0|                   0|                  38|\n",
      "|168618438|                  0|                  0|                  0|                   0|                  46|\n",
      "|168587465|                  0|                  0|                 10|                  19|                  84|\n",
      "|168642448|                  0|                  0|                  0|                   0|                  50|\n",
      "|168678365|                  0|                  0|                  0|                   0|                   1|\n",
      "|168686530|                  0|                  0|                  0|                   0|                   1|\n",
      "|168691192|                  0|                  0|                  0|                   0|                  13|\n",
      "|168744871|                  0|                 48|                 77|                 127|                 243|\n",
      "+---------+-------------------+-------------------+-------------------+--------------------+--------------------+\n",
      "only showing top 10 rows\n",
      "\n"
     ]
    }
   ],
   "source": [
    "# generate counts of songs play 80% of their song length (using play_ds data) for different time window\n",
    "# using play data (need to clean play time and song length first, play time may be negative in data)\n",
    "\n",
    "sqlContext.sql('''\n",
    "CREATE TEMPORARY VIEW playtime_features AS\n",
    "    SELECT uid, \n",
    "        SUM(CASE WHEN date >= '2017-04-28' THEN 1 ELSE 0 END) AS freq_P_80pct_last_1,\n",
    "        SUM(CASE WHEN date >= '2017-04-26' THEN 1 ELSE 0 END) AS freq_P_80pct_last_3,\n",
    "        SUM(CASE WHEN date >= '2017-04-22' THEN 1 ELSE 0 END) AS freq_P_80pct_last_7,\n",
    "        SUM(CASE WHEN date >= '2017-04-15' THEN 1 ELSE 0 END) AS freq_P_80pct_last_14,\n",
    "        SUM(CASE WHEN date >= '2017-03-30' THEN 1 ELSE 0 END) AS freq_P_80pct_last_30\n",
    "    FROM df_play_feature_window\n",
    "    WHERE play_time > 0 AND play_time >= 0.8*song_length\n",
    "    GROUP BY uid\n",
    "    ''')\n",
    "\n",
    "sqlContext.sql('SELECT * FROM playtime_features').show(10)"
   ]
  },
  {
   "cell_type": "markdown",
   "metadata": {},
   "source": [
    "# Join all tables and form training data"
   ]
  },
  {
   "cell_type": "code",
   "execution_count": 27,
   "metadata": {},
   "outputs": [
    {
     "name": "stdout",
     "output_type": "stream",
     "text": [
      "+--------+--------------------+-----------+\n",
      "|database|           tableName|isTemporary|\n",
      "+--------+--------------------+-----------+\n",
      "|        |       df_active_uid|       true|\n",
      "|        |   df_feature_window|       true|\n",
      "|        |            df_label|       true|\n",
      "|        |        df_model_uid|       true|\n",
      "|        |df_play_feature_w...|       true|\n",
      "|        |               event|       true|\n",
      "|        |  frequency_features|       true|\n",
      "|        |                play|       true|\n",
      "|        |   playtime_features|       true|\n",
      "|        |    profile_features|       true|\n",
      "|        |    recency_features|       true|\n",
      "+--------+--------------------+-----------+\n",
      "\n"
     ]
    }
   ],
   "source": [
    "sqlContext.sql(\"show tables\").show()"
   ]
  },
  {
   "cell_type": "code",
   "execution_count": 28,
   "metadata": {},
   "outputs": [
    {
     "name": "stdout",
     "output_type": "stream",
     "text": [
      "+---------+-------------+-------------+-------------+-------------+-------------+-------------+-------------+-------------+-------------+--------------+--------------+--------------+--------------+--------------+--------------+---------+---------+---------+-------------------+-------------------+-------------------+--------------------+--------------------+-----------+-----+\n",
      "|      uid|freq_D_last_1|freq_S_last_1|freq_P_last_1|freq_D_last_3|freq_S_last_3|freq_P_last_3|freq_D_last_7|freq_S_last_7|freq_P_last_7|freq_D_last_14|freq_S_last_14|freq_P_last_14|freq_D_last_30|freq_S_last_30|freq_P_last_30|recency_D|recency_S|recency_P|freq_P_80pct_last_1|freq_P_80pct_last_3|freq_P_80pct_last_7|freq_P_80pct_last_14|freq_P_80pct_last_30|device_type|churn|\n",
      "+---------+-------------+-------------+-------------+-------------+-------------+-------------+-------------+-------------+-------------+--------------+--------------+--------------+--------------+--------------+--------------+---------+---------+---------+-------------------+-------------------+-------------------+--------------------+--------------------+-----------+-----+\n",
      "|167606193|            0|            0|           14|            0|            0|           35|            0|            0|          160|             5|            16|           220|           599|            69|           445|       11|       11|        0|                  6|                 18|                 83|                 115|                 213|          1|    0|\n",
      "|167606193|            0|            0|           14|            0|            0|           35|            0|            0|          160|             5|            16|           220|           599|            69|           445|       11|       11|        0|                  6|                 18|                 83|                 115|                 213|          1|    0|\n",
      "|167606193|            0|            0|           14|            0|            0|           35|            0|            0|          160|             5|            16|           220|           599|            69|           445|       11|       11|        0|                  6|                 18|                 83|                 115|                 213|          1|    0|\n",
      "|167606193|            0|            0|           14|            0|            0|           35|            0|            0|          160|             5|            16|           220|           599|            69|           445|       11|       11|        0|                  6|                 18|                 83|                 115|                 213|          1|    0|\n",
      "|167606193|            0|            0|           14|            0|            0|           35|            0|            0|          160|             5|            16|           220|           599|            69|           445|       11|       11|        0|                  6|                 18|                 83|                 115|                 213|          1|    0|\n",
      "|167606193|            0|            0|           14|            0|            0|           35|            0|            0|          160|             5|            16|           220|           599|            69|           445|       11|       11|        0|                  6|                 18|                 83|                 115|                 213|          1|    0|\n",
      "|167606193|            0|            0|           14|            0|            0|           35|            0|            0|          160|             5|            16|           220|           599|            69|           445|       11|       11|        0|                  6|                 18|                 83|                 115|                 213|          1|    0|\n",
      "|167606193|            0|            0|           14|            0|            0|           35|            0|            0|          160|             5|            16|           220|           599|            69|           445|       11|       11|        0|                  6|                 18|                 83|                 115|                 213|          1|    0|\n",
      "|167606193|            0|            0|           14|            0|            0|           35|            0|            0|          160|             5|            16|           220|           599|            69|           445|       11|       11|        0|                  6|                 18|                 83|                 115|                 213|          1|    0|\n",
      "|167606193|            0|            0|           14|            0|            0|           35|            0|            0|          160|             5|            16|           220|           599|            69|           445|       11|       11|        0|                  6|                 18|                 83|                 115|                 213|          1|    0|\n",
      "+---------+-------------+-------------+-------------+-------------+-------------+-------------+-------------+-------------+-------------+--------------+--------------+--------------+--------------+--------------+--------------+---------+---------+---------+-------------------+-------------------+-------------------+--------------------+--------------------+-----------+-----+\n",
      "only showing top 10 rows\n",
      "\n"
     ]
    }
   ],
   "source": [
    "df_model_final = sqlContext.sql('''\n",
    "  SELECT freq.*, recency_D, recency_S, recency_P,\n",
    "         freq_P_80pct_last_1, freq_P_80pct_last_3, freq_P_80pct_last_7,\n",
    "         freq_P_80pct_last_14, freq_P_80pct_last_30, device_type, churn\n",
    "    FROM frequency_features AS freq\n",
    "    JOIN recency_features AS recency\n",
    "        ON freq.uid = recency.uid\n",
    "    JOIN playtime_features AS playtime    \n",
    "        ON freq.uid = playtime.uid\n",
    "    JOIN profile_features AS profile\n",
    "        ON freq.uid = profile.uid\n",
    "    JOIN df_label AS label\n",
    "        ON freq.uid = label.uid\n",
    "    ''')\n",
    "\n",
    "df_model_final.show(10)"
   ]
  },
  {
   "cell_type": "code",
   "execution_count": 30,
   "metadata": {},
   "outputs": [],
   "source": [
    "df_model_final.toPandas().to_csv('../data/df_model_final.csv',index=False)"
   ]
  },
  {
   "cell_type": "code",
   "execution_count": null,
   "metadata": {},
   "outputs": [],
   "source": []
  },
  {
   "cell_type": "code",
   "execution_count": null,
   "metadata": {},
   "outputs": [],
   "source": []
  }
 ],
 "metadata": {
  "kernelspec": {
   "display_name": "Python 3",
   "language": "python",
   "name": "python3"
  },
  "language_info": {
   "codemirror_mode": {
    "name": "ipython",
    "version": 3
   },
   "file_extension": ".py",
   "mimetype": "text/x-python",
   "name": "python",
   "nbconvert_exporter": "python",
   "pygments_lexer": "ipython3",
   "version": "3.5.5"
  }
 },
 "nbformat": 4,
 "nbformat_minor": 2
}
