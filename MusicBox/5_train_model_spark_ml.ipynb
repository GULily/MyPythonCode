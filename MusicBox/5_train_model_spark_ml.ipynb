{
 "cells": [
  {
   "cell_type": "code",
   "execution_count": 1,
   "metadata": {},
   "outputs": [
    {
     "name": "stdout",
     "output_type": "stream",
     "text": [
      "Welcome to\n",
      "      ____              __\n",
      "     / __/__  ___ _____/ /__\n",
      "    _\\ \\/ _ \\/ _ `/ __/  '_/\n",
      "   /__ / .__/\\_,_/_/ /_/\\_\\   version 2.3.0\n",
      "      /_/\n",
      "\n",
      "Using Python version 3.5.5 (default, Mar 12 2018 16:25:05)\n",
      "SparkSession available as 'spark'.\n"
     ]
    }
   ],
   "source": [
    "import os\n",
    "exec(open(os.path.join(os.environ[\"SPARK_HOME\"], 'python/pyspark/shell.py')).read())"
   ]
  },
  {
   "cell_type": "markdown",
   "metadata": {},
   "source": [
    "### Load data"
   ]
  },
  {
   "cell_type": "code",
   "execution_count": 2,
   "metadata": {},
   "outputs": [],
   "source": [
    "from pyspark.sql.types import *\n",
    "from pyspark.mllib.linalg import Vectors\n",
    "from pyspark.mllib.linalg import DenseVector\n",
    "from pyspark.ml.feature import VectorAssembler\n",
    "from pyspark.ml.feature import StringIndexer, VectorIndexer\n",
    "from pyspark.ml import Pipeline\n",
    "from pyspark.ml.classification import LogisticRegression\n",
    "from pyspark.ml.classification import DecisionTreeClassifier\n",
    "from pyspark.ml.classification import RandomForestClassifier\n",
    "from pyspark.ml.classification import GBTClassifier\n",
    "from pyspark.ml.tuning import CrossValidator, ParamGridBuilder\n",
    "from pyspark.ml.evaluation import BinaryClassificationEvaluator\n",
    "from pyspark.ml.evaluation import MulticlassClassificationEvaluator"
   ]
  },
  {
   "cell_type": "code",
   "execution_count": 3,
   "metadata": {},
   "outputs": [
    {
     "data": {
      "text/plain": [
       "DataFrame[uid: int, label: int, freq_P_last_1: int, freq_P_last_3: int, freq_P_last_7: int, freq_P_last_14: int, freq_P_last_30: int, freq_D_last_1: int, freq_D_last_3: int, freq_D_last_7: int, freq_D_last_14: int, freq_D_last_30: int, freq_S_last_1: int, freq_S_last_3: int, freq_S_last_7: int, freq_S_last_14: int, freq_S_last_30: int, device_type: int, #song_play_80pct_last_1: int, #song_play_80pct_last_3: int, #song_play_80pct_last_7: int, #song_play_80pct_last_14: int, #song_play_80pct_last_30: int]"
      ]
     },
     "execution_count": 3,
     "metadata": {},
     "output_type": "execute_result"
    }
   ],
   "source": [
    "df = spark.read.csv('../data/df_model_final.csv', header=True, inferSchema=True).cache()\n",
    "df"
   ]
  },
  {
   "cell_type": "code",
   "execution_count": 4,
   "metadata": {},
   "outputs": [
    {
     "name": "stdout",
     "output_type": "stream",
     "text": [
      "+---------+-----+-------------+-------------+-------------+--------------+--------------+-------------+-------------+-------------+--------------+--------------+-------------+-------------+-------------+--------------+--------------+-----------+-----------------------+-----------------------+-----------------------+------------------------+------------------------+\n",
      "|      uid|label|freq_P_last_1|freq_P_last_3|freq_P_last_7|freq_P_last_14|freq_P_last_30|freq_D_last_1|freq_D_last_3|freq_D_last_7|freq_D_last_14|freq_D_last_30|freq_S_last_1|freq_S_last_3|freq_S_last_7|freq_S_last_14|freq_S_last_30|device_type|#song_play_80pct_last_1|#song_play_80pct_last_3|#song_play_80pct_last_7|#song_play_80pct_last_14|#song_play_80pct_last_30|\n",
      "+---------+-----+-------------+-------------+-------------+--------------+--------------+-------------+-------------+-------------+--------------+--------------+-------------+-------------+-------------+--------------+--------------+-----------+-----------------------+-----------------------+-----------------------+------------------------+------------------------+\n",
      "|128106175|    1|            0|            0|            0|             0|            12|            0|            0|            0|             0|             0|            0|            0|            0|             0|             0|          1|                      0|                      0|                      0|                       0|                      10|\n",
      "|160554394|    0|            0|            0|            0|             4|            13|            0|            0|            0|             0|             0|            0|            0|            0|             1|             8|          2|                      0|                      0|                      0|                       1|                       1|\n",
      "+---------+-----+-------------+-------------+-------------+--------------+--------------+-------------+-------------+-------------+--------------+--------------+-------------+-------------+-------------+--------------+--------------+-----------+-----------------------+-----------------------+-----------------------+------------------------+------------------------+\n",
      "only showing top 2 rows\n",
      "\n"
     ]
    }
   ],
   "source": [
    "df.show(2)"
   ]
  },
  {
   "cell_type": "markdown",
   "metadata": {},
   "source": [
    "### Prepare training data"
   ]
  },
  {
   "cell_type": "code",
   "execution_count": 5,
   "metadata": {},
   "outputs": [
    {
     "data": {
      "text/plain": [
       "['freq_P_last_1',\n",
       " 'freq_P_last_3',\n",
       " 'freq_P_last_7',\n",
       " 'freq_P_last_14',\n",
       " 'freq_P_last_30',\n",
       " 'freq_D_last_1',\n",
       " 'freq_D_last_3',\n",
       " 'freq_D_last_7',\n",
       " 'freq_D_last_14',\n",
       " 'freq_D_last_30',\n",
       " 'freq_S_last_1',\n",
       " 'freq_S_last_3',\n",
       " 'freq_S_last_7',\n",
       " 'freq_S_last_14',\n",
       " 'freq_S_last_30',\n",
       " '#song_play_80pct_last_1',\n",
       " '#song_play_80pct_last_3',\n",
       " '#song_play_80pct_last_7',\n",
       " '#song_play_80pct_last_14',\n",
       " '#song_play_80pct_last_30']"
      ]
     },
     "execution_count": 5,
     "metadata": {},
     "output_type": "execute_result"
    }
   ],
   "source": [
    "selected_features = df.columns\n",
    "selected_features.remove('uid')\n",
    "selected_features.remove('label')\n",
    "selected_features.remove('device_type')\n",
    "selected_features"
   ]
  },
  {
   "cell_type": "code",
   "execution_count": 6,
   "metadata": {},
   "outputs": [
    {
     "data": {
      "text/plain": [
       "DataFrame[uid: int, label: int, freq_P_last_1: int, freq_P_last_3: int, freq_P_last_7: int, freq_P_last_14: int, freq_P_last_30: int, freq_D_last_1: int, freq_D_last_3: int, freq_D_last_7: int, freq_D_last_14: int, freq_D_last_30: int, freq_S_last_1: int, freq_S_last_3: int, freq_S_last_7: int, freq_S_last_14: int, freq_S_last_30: int, device_type: int, #song_play_80pct_last_1: int, #song_play_80pct_last_3: int, #song_play_80pct_last_7: int, #song_play_80pct_last_14: int, #song_play_80pct_last_30: int, features: vector]"
      ]
     },
     "execution_count": 6,
     "metadata": {},
     "output_type": "execute_result"
    }
   ],
   "source": [
    "# prepare data\n",
    "assembler = VectorAssembler(inputCols=selected_features, outputCol=\"features\")\n",
    "data = assembler.transform(df)\n",
    "data"
   ]
  },
  {
   "cell_type": "code",
   "execution_count": 7,
   "metadata": {},
   "outputs": [],
   "source": [
    "# train test split\n",
    "(train, test) = data.randomSplit([0.7, 0.3], seed=1)"
   ]
  },
  {
   "cell_type": "markdown",
   "metadata": {},
   "source": [
    "### Fit logistic regression"
   ]
  },
  {
   "cell_type": "code",
   "execution_count": 8,
   "metadata": {},
   "outputs": [],
   "source": [
    "ml = LogisticRegression(maxIter=3, regParam=0.01)\n",
    "model = ml.fit(train)"
   ]
  },
  {
   "cell_type": "markdown",
   "metadata": {},
   "source": [
    "### Predict and Evaluate performance"
   ]
  },
  {
   "cell_type": "code",
   "execution_count": 9,
   "metadata": {},
   "outputs": [
    {
     "name": "stdout",
     "output_type": "stream",
     "text": [
      "+--------------------+----------+-----+--------------------+\n",
      "|         probability|prediction|label|            features|\n",
      "+--------------------+----------+-----+--------------------+\n",
      "|[0.93664801529136...|       0.0|    0|(20,[2,3,4,17,18,...|\n",
      "|[0.40613318812373...|       1.0|    0|(20,[1,2,3,4,11,1...|\n",
      "|[0.24939890838509...|       1.0|    1|(20,[3,4,18,19],[...|\n",
      "|[0.82328573381778...|       0.0|    0|(20,[1,2,3,4,9,14...|\n",
      "|[0.25321609481450...|       1.0|    1|(20,[4,19],[24.0,...|\n",
      "+--------------------+----------+-----+--------------------+\n",
      "only showing top 5 rows\n",
      "\n",
      "+--------------------+----------+-----+--------------------+\n",
      "|         probability|prediction|label|            features|\n",
      "+--------------------+----------+-----+--------------------+\n",
      "|[0.26346626147596...|       1.0|    1|(20,[3,4,13,14,18...|\n",
      "|[0.28246377123545...|       1.0|    1|(20,[2,3,4,14,17,...|\n",
      "|[0.93329148570641...|       0.0|    0|[6.0,6.0,6.0,27.0...|\n",
      "|[0.70227865724527...|       0.0|    1|(20,[3,4,9,12,13,...|\n",
      "|[0.34651468435073...|       1.0|    1|(20,[3,4,18,19],[...|\n",
      "+--------------------+----------+-----+--------------------+\n",
      "only showing top 5 rows\n",
      "\n"
     ]
    }
   ],
   "source": [
    "#### predict and evaluate performance\n",
    "\n",
    "# Predict train data\n",
    "predictions_train = model.transform(train)\n",
    "\n",
    "# Select example rows to display.\n",
    "predictions_train.select(\"probability\",\"prediction\", \"label\", \"features\").show(5)\n",
    "res_train = predictions_train.select(\"probability\", \"label\").toPandas()\n",
    "\n",
    "\n",
    "# Predict test data\n",
    "predictions_test = model.transform(test)\n",
    "\n",
    "# Select example rows to display.\n",
    "predictions_test.select(\"probability\",\"prediction\", \"label\", \"features\").show(5)\n",
    "res_test = predictions_test.select(\"probability\", \"label\").toPandas()\n"
   ]
  },
  {
   "cell_type": "markdown",
   "metadata": {},
   "source": [
    "### Evaluate performance"
   ]
  },
  {
   "cell_type": "code",
   "execution_count": 10,
   "metadata": {},
   "outputs": [],
   "source": [
    "%matplotlib inline\n",
    "import matplotlib.pyplot as plt\n",
    "from sklearn.metrics import roc_curve, auc, roc_auc_score\n",
    "\n",
    "def plot_roc_curve(y_train, y_train_pred, y_test, y_test_pred):\n",
    "    roc_auc_train = roc_auc_score(y_train, y_train_pred)\n",
    "    fpr_train, tpr_train, _ = roc_curve(y_train, y_train_pred)\n",
    "\n",
    "    roc_auc_test = roc_auc_score(y_test, y_test_pred)\n",
    "    fpr_test, tpr_test, _ = roc_curve(y_test, y_test_pred)\n",
    "    plt.figure()\n",
    "    lw = 2\n",
    "    plt.plot(fpr_train, tpr_train, color='green',\n",
    "             lw=lw, label='ROC Train (AUC = %0.4f)' % roc_auc_train)\n",
    "    plt.plot(fpr_test, tpr_test, color='darkorange',\n",
    "             lw=lw, label='ROC Test (AUC = %0.4f)' % roc_auc_test)\n",
    "    plt.plot([0, 1], [0, 1], color='navy', lw=lw, linestyle='--')\n",
    "    plt.xlim([0.0, 1.0])\n",
    "    plt.ylim([0.0, 1.05])\n",
    "    plt.xlabel('False Positive Rate')\n",
    "    plt.ylabel('True Positive Rate')\n",
    "    plt.title('Receiver operating characteristic example')\n",
    "    plt.legend(loc=\"lower right\")\n",
    "    plt.show() "
   ]
  },
  {
   "cell_type": "code",
   "execution_count": 11,
   "metadata": {},
   "outputs": [
    {
     "data": {
      "image/png": "[encoded data removed]",
      "text/plain": [
       "<Figure size 432x288 with 1 Axes>"
      ]
     },
     "metadata": {},
     "output_type": "display_data"
    }
   ],
   "source": [
    "y_train = res_train['label']\n",
    "y_train_pred = [v[1] for v in res_train['probability']]\n",
    "y_test = res_test['label']\n",
    "y_test_pred = [v[1] for v in res_test['probability']]\n",
    "\n",
    "plot_roc_curve(y_train, y_train_pred, y_test, y_test_pred)"
   ]
  },
  {
   "cell_type": "markdown",
   "metadata": {},
   "source": [
    "### Let's train random forest too!"
   ]
  },
  {
   "cell_type": "code",
   "execution_count": 12,
   "metadata": {},
   "outputs": [],
   "source": [
    "ml = RandomForestClassifier(labelCol=\"label\", featuresCol=\"features\"\n",
    "                            ,numTrees=50\n",
    "                            ,featureSubsetStrategy=\"auto\"\n",
    "                            ,impurity='gini'\n",
    "                            ,maxDepth=12 #20\n",
    "                            ,minInstancesPerNode=10\n",
    "                            ,maxBins=16\n",
    "                            )\n",
    "model = ml.fit(train)"
   ]
  },
  {
   "cell_type": "code",
   "execution_count": 13,
   "metadata": {},
   "outputs": [
    {
     "name": "stdout",
     "output_type": "stream",
     "text": [
      "+--------------------+----------+-----+--------------------+\n",
      "|         probability|prediction|label|            features|\n",
      "+--------------------+----------+-----+--------------------+\n",
      "|[0.43591661456382...|       1.0|    0|(20,[2,3,4,17,18,...|\n",
      "|[0.90975564697654...|       0.0|    0|(20,[1,2,3,4,11,1...|\n",
      "|[0.20042914003498...|       1.0|    1|(20,[3,4,18,19],[...|\n",
      "|[0.88303186577469...|       0.0|    0|(20,[1,2,3,4,9,14...|\n",
      "|[0.07604977148124...|       1.0|    1|(20,[4,19],[24.0,...|\n",
      "+--------------------+----------+-----+--------------------+\n",
      "only showing top 5 rows\n",
      "\n",
      "+--------------------+----------+-----+--------------------+\n",
      "|         probability|prediction|label|            features|\n",
      "+--------------------+----------+-----+--------------------+\n",
      "|[0.46344741783660...|       1.0|    1|(20,[3,4,13,14,18...|\n",
      "|[0.64677486201482...|       0.0|    1|(20,[2,3,4,14,17,...|\n",
      "|[0.80484301743821...|       0.0|    0|[6.0,6.0,6.0,27.0...|\n",
      "|[0.64960286285768...|       0.0|    1|(20,[3,4,9,12,13,...|\n",
      "|[0.31712669789464...|       1.0|    1|(20,[3,4,18,19],[...|\n",
      "+--------------------+----------+-----+--------------------+\n",
      "only showing top 5 rows\n",
      "\n"
     ]
    }
   ],
   "source": [
    "#### predict and evaluate performance\n",
    "\n",
    "# Predict train data\n",
    "predictions_train = model.transform(train)\n",
    "\n",
    "# Select example rows to display.\n",
    "predictions_train.select(\"probability\",\"prediction\", \"label\", \"features\").show(5)\n",
    "res_train = predictions_train.select(\"probability\", \"label\").toPandas()\n",
    "\n",
    "\n",
    "# Predict test data\n",
    "predictions_test = model.transform(test)\n",
    "\n",
    "# Select example rows to display.\n",
    "predictions_test.select(\"probability\",\"prediction\", \"label\", \"features\").show(5)\n",
    "res_test = predictions_test.select(\"probability\", \"label\").toPandas()"
   ]
  },
  {
   "cell_type": "code",
   "execution_count": 14,
   "metadata": {},
   "outputs": [
    {
     "data": {
      "image/png": "[encoded data removed]",
      "text/plain": [
       "<Figure size 432x288 with 1 Axes>"
      ]
     },
     "metadata": {},
     "output_type": "display_data"
    }
   ],
   "source": [
    "y_train = res_train['label']\n",
    "y_train_pred = [v[1] for v in res_train['probability']]\n",
    "y_test = res_test['label']\n",
    "y_test_pred = [v[1] for v in res_test['probability']]\n",
    "\n",
    "plot_roc_curve(y_train, y_train_pred, y_test, y_test_pred)"
   ]
  },
  {
   "cell_type": "code",
   "execution_count": null,
   "metadata": {},
   "outputs": [],
   "source": []
  }
 ],
 "metadata": {
  "kernelspec": {
   "display_name": "Python 3",
   "language": "python",
   "name": "python3"
  },
  "language_info": {
   "codemirror_mode": {
    "name": "ipython",
    "version": 3
   },
   "file_extension": ".py",
   "mimetype": "text/x-python",
   "name": "python",
   "nbconvert_exporter": "python",
   "pygments_lexer": "ipython3",
   "version": "3.5.5"
  }
 },
 "nbformat": 4,
 "nbformat_minor": 2
}
