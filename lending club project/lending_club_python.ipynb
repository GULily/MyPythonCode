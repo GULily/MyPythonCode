{
 "cells": [
  {
   "cell_type": "code",
   "execution_count": 1,
   "metadata": {},
   "outputs": [],
   "source": [
    "import pandas as pd\n",
    "import numpy as np\n",
    "import matplotlib.pyplot as plt\n",
    "%matplotlib inline\n",
    "plt.style.use('ggplot')"
   ]
  },
  {
   "cell_type": "code",
   "execution_count": 2,
   "metadata": {},
   "outputs": [
    {
     "name": "stderr",
     "output_type": "stream",
     "text": [
      "/anaconda/lib/python3.5/site-packages/ipykernel_launcher.py:2: ParserWarning: Falling back to the 'python' engine because the 'c' engine does not support skipfooter; you can avoid this warning by specifying engine='python'.\n",
      "  \n"
     ]
    },
    {
     "data": {
      "text/plain": [
       "(133887, 151)"
      ]
     },
     "execution_count": 2,
     "metadata": {},
     "output_type": "execute_result"
    }
   ],
   "source": [
    "# load the data from https://www.lendingclub.com/info/download-data.action\n",
    "loan =  pd.read_csv('LoanStats_securev1_2016Q1.csv', skiprows=1, skipfooter=2)\n",
    "loan.shape"
   ]
  },
  {
   "cell_type": "code",
   "execution_count": 3,
   "metadata": {},
   "outputs": [
    {
     "data": {
      "text/html": [
       "<div>\n",
       "<style scoped>\n",
       "    .dataframe tbody tr th:only-of-type {\n",
       "        vertical-align: middle;\n",
       "    }\n",
       "\n",
       "    .dataframe tbody tr th {\n",
       "        vertical-align: top;\n",
       "    }\n",
       "\n",
       "    .dataframe thead th {\n",
       "        text-align: right;\n",
       "    }\n",
       "</style>\n",
       "<table border=\"1\" class=\"dataframe\">\n",
       "  <thead>\n",
       "    <tr style=\"text-align: right;\">\n",
       "      <th></th>\n",
       "      <th>id</th>\n",
       "      <th>member_id</th>\n",
       "      <th>loan_amnt</th>\n",
       "      <th>funded_amnt</th>\n",
       "      <th>funded_amnt_inv</th>\n",
       "      <th>term</th>\n",
       "      <th>int_rate</th>\n",
       "      <th>installment</th>\n",
       "      <th>grade</th>\n",
       "      <th>sub_grade</th>\n",
       "      <th>...</th>\n",
       "      <th>hardship_payoff_balance_amount</th>\n",
       "      <th>hardship_last_payment_amount</th>\n",
       "      <th>disbursement_method</th>\n",
       "      <th>debt_settlement_flag</th>\n",
       "      <th>debt_settlement_flag_date</th>\n",
       "      <th>settlement_status</th>\n",
       "      <th>settlement_date</th>\n",
       "      <th>settlement_amount</th>\n",
       "      <th>settlement_percentage</th>\n",
       "      <th>settlement_term</th>\n",
       "    </tr>\n",
       "  </thead>\n",
       "  <tbody>\n",
       "    <tr>\n",
       "      <th>0</th>\n",
       "      <td>76003542</td>\n",
       "      <td>NaN</td>\n",
       "      <td>16000</td>\n",
       "      <td>16000</td>\n",
       "      <td>16000.0</td>\n",
       "      <td>36 months</td>\n",
       "      <td>5.32%</td>\n",
       "      <td>481.84</td>\n",
       "      <td>A</td>\n",
       "      <td>A1</td>\n",
       "      <td>...</td>\n",
       "      <td>NaN</td>\n",
       "      <td>NaN</td>\n",
       "      <td>Cash</td>\n",
       "      <td>N</td>\n",
       "      <td>NaN</td>\n",
       "      <td>NaN</td>\n",
       "      <td>NaN</td>\n",
       "      <td>NaN</td>\n",
       "      <td>NaN</td>\n",
       "      <td>NaN</td>\n",
       "    </tr>\n",
       "    <tr>\n",
       "      <th>1</th>\n",
       "      <td>76023477</td>\n",
       "      <td>NaN</td>\n",
       "      <td>17000</td>\n",
       "      <td>17000</td>\n",
       "      <td>17000.0</td>\n",
       "      <td>36 months</td>\n",
       "      <td>9.75%</td>\n",
       "      <td>546.55</td>\n",
       "      <td>B</td>\n",
       "      <td>B3</td>\n",
       "      <td>...</td>\n",
       "      <td>NaN</td>\n",
       "      <td>NaN</td>\n",
       "      <td>Cash</td>\n",
       "      <td>N</td>\n",
       "      <td>NaN</td>\n",
       "      <td>NaN</td>\n",
       "      <td>NaN</td>\n",
       "      <td>NaN</td>\n",
       "      <td>NaN</td>\n",
       "      <td>NaN</td>\n",
       "    </tr>\n",
       "  </tbody>\n",
       "</table>\n",
       "<p>2 rows × 151 columns</p>\n",
       "</div>"
      ],
      "text/plain": [
       "         id  member_id  loan_amnt  funded_amnt  funded_amnt_inv        term  \\\n",
       "0  76003542        NaN      16000        16000          16000.0   36 months   \n",
       "1  76023477        NaN      17000        17000          17000.0   36 months   \n",
       "\n",
       "  int_rate  installment grade sub_grade       ...        \\\n",
       "0    5.32%       481.84     A        A1       ...         \n",
       "1    9.75%       546.55     B        B3       ...         \n",
       "\n",
       "  hardship_payoff_balance_amount hardship_last_payment_amount  \\\n",
       "0                            NaN                          NaN   \n",
       "1                            NaN                          NaN   \n",
       "\n",
       "  disbursement_method  debt_settlement_flag debt_settlement_flag_date  \\\n",
       "0                Cash                     N                       NaN   \n",
       "1                Cash                     N                       NaN   \n",
       "\n",
       "  settlement_status settlement_date settlement_amount settlement_percentage  \\\n",
       "0               NaN             NaN               NaN                   NaN   \n",
       "1               NaN             NaN               NaN                   NaN   \n",
       "\n",
       "  settlement_term  \n",
       "0             NaN  \n",
       "1             NaN  \n",
       "\n",
       "[2 rows x 151 columns]"
      ]
     },
     "execution_count": 3,
     "metadata": {},
     "output_type": "execute_result"
    }
   ],
   "source": [
    "loan.head(2)"
   ]
  },
  {
   "cell_type": "code",
   "execution_count": 4,
   "metadata": {},
   "outputs": [
    {
     "data": {
      "text/plain": [
       "(Current               79931\n",
       " Fully Paid            35650\n",
       " Charged Off           13043\n",
       " Late (31-120 days)     3157\n",
       " In Grace Period        1637\n",
       " Late (16-30 days)       458\n",
       " Default                  11\n",
       " Name: loan_status, dtype: int64, 0)"
      ]
     },
     "execution_count": 4,
     "metadata": {},
     "output_type": "execute_result"
    }
   ],
   "source": [
    "## Meaning of loan status\n",
    "# Completed or fully paid: All paid off\n",
    "# Current: All past payments on time and as agreed, not fully paid off yet.\n",
    "# In grace period: Loan is past due but within the 15-day grace period.\n",
    "# Default: 121+ days past due.\n",
    "# Charged off: 150 days past due\n",
    "loan['loan_status'].value_counts(), loan['loan_status'].isnull().sum()"
   ]
  },
  {
   "cell_type": "markdown",
   "metadata": {},
   "source": [
    "### Exploration some dates related variables"
   ]
  },
  {
   "cell_type": "code",
   "execution_count": 5,
   "metadata": {},
   "outputs": [
    {
     "data": {
      "text/plain": [
       "<matplotlib.axes._subplots.AxesSubplot at 0x115cb0400>"
      ]
     },
     "execution_count": 5,
     "metadata": {},
     "output_type": "execute_result"
    },
    {
     "data": {
      "image/png": "[encoded data removed]",
      "text/plain": [
       "<Figure size 432x288 with 1 Axes>"
      ]
     },
     "metadata": {},
     "output_type": "display_data"
    }
   ],
   "source": [
    "loan['issue_d'].value_counts().plot.barh()"
   ]
  },
  {
   "cell_type": "code",
   "execution_count": 6,
   "metadata": {},
   "outputs": [
    {
     "data": {
      "text/plain": [
       "<matplotlib.axes._subplots.AxesSubplot at 0x115cbfbe0>"
      ]
     },
     "execution_count": 6,
     "metadata": {},
     "output_type": "execute_result"
    },
    {
     "data": {
      "image/png": "[encoded data removed]",
      "text/plain": [
       "<Figure size 432x288 with 1 Axes>"
      ]
     },
     "metadata": {},
     "output_type": "display_data"
    }
   ],
   "source": [
    "loan['last_pymnt_d'].value_counts().plot.barh()"
   ]
  },
  {
   "cell_type": "code",
   "execution_count": 7,
   "metadata": {},
   "outputs": [
    {
     "data": {
      "text/plain": [
       "<matplotlib.axes._subplots.AxesSubplot at 0x115cdfc18>"
      ]
     },
     "execution_count": 7,
     "metadata": {},
     "output_type": "execute_result"
    },
    {
     "data": {
      "image/png": "[encoded data removed]",
      "text/plain": [
       "<Figure size 432x288 with 1 Axes>"
      ]
     },
     "metadata": {},
     "output_type": "display_data"
    }
   ],
   "source": [
    "loan['next_pymnt_d'].value_counts().plot.barh()"
   ]
  },
  {
   "cell_type": "code",
   "execution_count": 8,
   "metadata": {},
   "outputs": [
    {
     "data": {
      "text/plain": [
       "loan_status         next_pymnt_d  last_pymnt_d\n",
       "Charged Off         True          False           12895\n",
       "                                  True              148\n",
       "Current             False         False           79931\n",
       "Default             False         False              11\n",
       "Fully Paid          True          False           35650\n",
       "In Grace Period     False         False            1637\n",
       "Late (16-30 days)   False         False             458\n",
       "Late (31-120 days)  False         False            3157\n",
       "dtype: int64"
      ]
     },
     "execution_count": 8,
     "metadata": {},
     "output_type": "execute_result"
    }
   ],
   "source": [
    "loan.groupby(['loan_status', loan['next_pymnt_d'].isnull(), \n",
    "              loan['last_pymnt_d'].isnull()]).size()"
   ]
  },
  {
   "cell_type": "markdown",
   "metadata": {},
   "source": [
    "If it is fully paid, the \"next payment day\" is nan.\n",
    "\n",
    "If it is charged off, the \"next payment day\" is nan, the \"last payment day\" is nan or not nan."
   ]
  },
  {
   "cell_type": "markdown",
   "metadata": {},
   "source": [
    "## Data Cleaning & Feature Engineering"
   ]
  },
  {
   "cell_type": "markdown",
   "metadata": {},
   "source": [
    "### Update features to reflect loan is jointly applied"
   ]
  },
  {
   "cell_type": "code",
   "execution_count": 9,
   "metadata": {},
   "outputs": [
    {
     "name": "stdout",
     "output_type": "stream",
     "text": [
      "['Individual' 'Joint App']\n"
     ]
    },
    {
     "data": {
      "text/plain": [
       "(133887, 147)"
      ]
     },
     "execution_count": 9,
     "metadata": {},
     "output_type": "execute_result"
    }
   ],
   "source": [
    "loan['dti'] = np.where(loan['dti_joint'] > 0, loan['dti_joint'], loan['dti'])\n",
    "\n",
    "loan['annual_inc'] = np.where(loan['annual_inc_joint'] > 0, \n",
    "                              loan['annual_inc_joint'], \n",
    "                              loan['annual_inc'])\n",
    "\n",
    "loan['verification_status'] = np.where(loan['verification_status_joint'].notnull(), \n",
    "                                       loan['verification_status_joint'], \n",
    "                                       loan['verification_status'])\n",
    "\n",
    "loan.drop(['dti_joint', 'annual_inc_joint', 'verification_status_joint'], axis=1, inplace=True)\n",
    "\n",
    "print(loan['application_type'].unique())\n",
    "loan.drop(['application_type'], axis=1,inplace=True)\n",
    "loan.shape"
   ]
  },
  {
   "cell_type": "markdown",
   "metadata": {},
   "source": [
    "### Clean data - remove unnessary features"
   ]
  },
  {
   "cell_type": "code",
   "execution_count": 10,
   "metadata": {},
   "outputs": [
    {
     "data": {
      "text/plain": [
       "[(133887, 'sec_app_revol_util'),\n",
       " (133887, 'sec_app_open_act_il'),\n",
       " (133887, 'sec_app_open_acc'),\n",
       " (133887, 'sec_app_num_rev_accts'),\n",
       " (133887, 'sec_app_mths_since_last_major_derog'),\n",
       " (133887, 'sec_app_mort_acc'),\n",
       " (133887, 'sec_app_inq_last_6mths'),\n",
       " (133887, 'sec_app_fico_range_low'),\n",
       " (133887, 'sec_app_fico_range_high'),\n",
       " (133887, 'sec_app_earliest_cr_line'),\n",
       " (133887, 'sec_app_collections_12_mths_ex_med'),\n",
       " (133887, 'sec_app_chargeoff_within_12_mths'),\n",
       " (133887, 'revol_bal_joint'),\n",
       " (133887, 'member_id'),\n",
       " (133877, 'desc'),\n",
       " (133252, 'orig_projected_additional_accrued_interest'),\n",
       " (133113, 'payment_plan_start_date')]"
      ]
     },
     "execution_count": 10,
     "metadata": {},
     "output_type": "execute_result"
    }
   ],
   "source": [
    "# Remove features with all NaN value\n",
    "#loan.isnull().sum(axis=0)\n",
    "sorted([(loan[loan.columns[i]].isnull().sum(), loan.columns[i]) for i in \n",
    "        range(len(loan.columns))], reverse=True)[:17]"
   ]
  },
  {
   "cell_type": "code",
   "execution_count": 11,
   "metadata": {},
   "outputs": [
    {
     "data": {
      "text/plain": [
       "(133887, 132)"
      ]
     },
     "execution_count": 11,
     "metadata": {},
     "output_type": "execute_result"
    }
   ],
   "source": [
    "loan = loan.drop(['sec_app_revol_util', 'sec_app_open_act_il', 'sec_app_open_acc',\n",
    "                  'sec_app_num_rev_accts','sec_app_mths_since_last_major_derog',\n",
    "                  'sec_app_mort_acc', 'sec_app_inq_last_6mths', 'sec_app_fico_range_low',\n",
    "                  'sec_app_fico_range_high','sec_app_earliest_cr_line',\n",
    "                  'sec_app_chargeoff_within_12_mths','sec_app_collections_12_mths_ex_med', \n",
    "                  'revol_bal_joint','member_id','desc'],axis=1)\n",
    "loan.shape"
   ]
  },
  {
   "cell_type": "code",
   "execution_count": 12,
   "metadata": {},
   "outputs": [
    {
     "name": "stdout",
     "output_type": "stream",
     "text": [
      "['policy_code']\n"
     ]
    },
    {
     "data": {
      "text/plain": [
       "(133887, 131)"
      ]
     },
     "execution_count": 12,
     "metadata": {},
     "output_type": "execute_result"
    }
   ],
   "source": [
    "# Remove features with same values, that is, len(feature.unique()==1).\n",
    "colnames_uni_is_one = [(loan.columns[i]) for i in range(len(loan.columns)) \n",
    " if len(loan[loan.columns[i]].unique())==1]\n",
    "\n",
    "print(colnames_uni_is_one)\n",
    "loan.drop(colnames_uni_is_one, axis=1, inplace=True)\n",
    "loan.shape"
   ]
  },
  {
   "cell_type": "code",
   "execution_count": 13,
   "metadata": {},
   "outputs": [
    {
     "data": {
      "text/plain": [
       "[]"
      ]
     },
     "execution_count": 13,
     "metadata": {},
     "output_type": "execute_result"
    }
   ],
   "source": [
    "# Remove features with all different values, that is, len(feature.unique()==shape[1]).\n",
    "[(loan.columns[i]) for i in range(len(loan.columns)) if \n",
    " len(loan[loan.columns[i]].unique())==loan.shape[1]]"
   ]
  },
  {
   "cell_type": "markdown",
   "metadata": {},
   "source": [
    "### Process all dates related columns"
   ]
  },
  {
   "cell_type": "code",
   "execution_count": 14,
   "metadata": {},
   "outputs": [
    {
     "data": {
      "text/html": [
       "<div>\n",
       "<style scoped>\n",
       "    .dataframe tbody tr th:only-of-type {\n",
       "        vertical-align: middle;\n",
       "    }\n",
       "\n",
       "    .dataframe tbody tr th {\n",
       "        vertical-align: top;\n",
       "    }\n",
       "\n",
       "    .dataframe thead th {\n",
       "        text-align: right;\n",
       "    }\n",
       "</style>\n",
       "<table border=\"1\" class=\"dataframe\">\n",
       "  <thead>\n",
       "    <tr style=\"text-align: right;\">\n",
       "      <th></th>\n",
       "      <th>issue_d</th>\n",
       "      <th>next_pymnt_d</th>\n",
       "      <th>last_pymnt_d</th>\n",
       "      <th>last_credit_pull_d</th>\n",
       "      <th>hardship_start_date</th>\n",
       "      <th>hardship_end_date</th>\n",
       "      <th>payment_plan_start_date</th>\n",
       "      <th>debt_settlement_flag_date</th>\n",
       "      <th>settlement_date</th>\n",
       "      <th>earliest_cr_line</th>\n",
       "    </tr>\n",
       "  </thead>\n",
       "  <tbody>\n",
       "    <tr>\n",
       "      <th>0</th>\n",
       "      <td>2016-03-01</td>\n",
       "      <td>NaT</td>\n",
       "      <td>2016-05-01</td>\n",
       "      <td>2016-11-01</td>\n",
       "      <td>NaT</td>\n",
       "      <td>NaT</td>\n",
       "      <td>NaT</td>\n",
       "      <td>NaT</td>\n",
       "      <td>NaT</td>\n",
       "      <td>2000-11-01</td>\n",
       "    </tr>\n",
       "    <tr>\n",
       "      <th>1</th>\n",
       "      <td>2016-03-01</td>\n",
       "      <td>2017-12-01</td>\n",
       "      <td>2017-11-01</td>\n",
       "      <td>2017-11-01</td>\n",
       "      <td>NaT</td>\n",
       "      <td>NaT</td>\n",
       "      <td>NaT</td>\n",
       "      <td>NaT</td>\n",
       "      <td>NaT</td>\n",
       "      <td>2006-08-01</td>\n",
       "    </tr>\n",
       "  </tbody>\n",
       "</table>\n",
       "</div>"
      ],
      "text/plain": [
       "     issue_d next_pymnt_d last_pymnt_d last_credit_pull_d hardship_start_date  \\\n",
       "0 2016-03-01          NaT   2016-05-01         2016-11-01                 NaT   \n",
       "1 2016-03-01   2017-12-01   2017-11-01         2017-11-01                 NaT   \n",
       "\n",
       "  hardship_end_date payment_plan_start_date debt_settlement_flag_date  \\\n",
       "0               NaT                     NaT                       NaT   \n",
       "1               NaT                     NaT                       NaT   \n",
       "\n",
       "  settlement_date earliest_cr_line  \n",
       "0             NaT       2000-11-01  \n",
       "1             NaT       2006-08-01  "
      ]
     },
     "execution_count": 14,
     "metadata": {},
     "output_type": "execute_result"
    }
   ],
   "source": [
    "colnames_date = ['issue_d','next_pymnt_d', 'last_pymnt_d', 'last_credit_pull_d',\n",
    "                 'hardship_start_date', 'hardship_end_date', 'payment_plan_start_date',\n",
    "                 'debt_settlement_flag_date', 'settlement_date', 'earliest_cr_line']\n",
    "\n",
    "for col in colnames_date:\n",
    "    loan[col] = pd.to_datetime(loan[col])\n",
    "\n",
    "loan[colnames_date].head(2)"
   ]
  },
  {
   "cell_type": "markdown",
   "metadata": {},
   "source": [
    "#### change dates related features to months since the issue month"
   ]
  },
  {
   "cell_type": "code",
   "execution_count": 15,
   "metadata": {},
   "outputs": [],
   "source": [
    "for col in colnames_date[1:]:\n",
    "    loan[col + '_since_issue'] = loan[col].dt.to_period('M') - loan['issue_d'].dt.to_period('M')"
   ]
  },
  {
   "cell_type": "code",
   "execution_count": 16,
   "metadata": {},
   "outputs": [],
   "source": [
    "loan = loan.drop(['next_pymnt_d', 'last_pymnt_d', 'last_credit_pull_d',\n",
    "                 'hardship_start_date', 'hardship_end_date', 'payment_plan_start_date',\n",
    "                 'debt_settlement_flag_date', 'settlement_date', 'earliest_cr_line'], axis=1)"
   ]
  },
  {
   "cell_type": "code",
   "execution_count": 17,
   "metadata": {},
   "outputs": [
    {
     "data": {
      "text/plain": [
       "pymnt_plan  loan_status       \n",
       "n           Charged Off           13043\n",
       "            Current               79929\n",
       "            Default                  11\n",
       "            Fully Paid            35650\n",
       "            In Grace Period        1635\n",
       "            Late (16-30 days)       453\n",
       "            Late (31-120 days)     2914\n",
       "y           Current                   2\n",
       "            In Grace Period           2\n",
       "            Late (16-30 days)         5\n",
       "            Late (31-120 days)      243\n",
       "dtype: int64"
      ]
     },
     "execution_count": 17,
     "metadata": {},
     "output_type": "execute_result"
    }
   ],
   "source": [
    "loan.groupby([loan['pymnt_plan'], 'loan_status']).size()"
   ]
  },
  {
   "cell_type": "code",
   "execution_count": null,
   "metadata": {},
   "outputs": [],
   "source": []
  },
  {
   "cell_type": "markdown",
   "metadata": {},
   "source": [
    "### Dealing with missing value"
   ]
  },
  {
   "cell_type": "code",
   "execution_count": null,
   "metadata": {},
   "outputs": [],
   "source": [
    "# sorted([(loan[loan.columns[i]].isnull().sum(), loan.columns[i]) \n",
    "#         for i in range(len(loan.columns))], reverse=True)"
   ]
  },
  {
   "cell_type": "markdown",
   "metadata": {},
   "source": [
    "#### Results\n",
    "Features related to the hardship progam:\n",
    " * (133252, 'orig_projected_additional_accrued_interest'),\n",
    " * (133113, 'payment_plan_start_date'),\n",
    " * (133113, 'hardship_type'),\n",
    " * (133113, 'hardship_status'),\n",
    " * (133113, 'hardship_start_date'),\n",
    " * (133113, 'hardship_reason'),\n",
    " * (133113, 'hardship_payoff_balance_amount'),\n",
    " * (133113, 'hardship_loan_status'),\n",
    " * (133113, 'hardship_length'),\n",
    " * (133113, 'hardship_last_payment_amount'),\n",
    " * (133113, 'hardship_end_date'),\n",
    " * (133113, 'hardship_dpd'),\n",
    " * (133113, 'hardship_amount'),\n",
    " * (133113, 'deferral_term')\n",
    " \n",
    "Features related to settlement:\n",
    " * (132800, 'settlement_term'),\n",
    " * (132800, 'settlement_status'),\n",
    " * (132800, 'settlement_percentage'),\n",
    " * (132800, 'settlement_date'),\n",
    " * (132800, 'settlement_amount'),\n",
    " * (132800, 'debt_settlement_flag_date')\n",
    " \n",
    "Others:\n",
    " * (110216, 'mths_since_last_record'),\n",
    " * (100131, 'mths_since_recent_bc_dlq'),\n",
    " * (95813, 'mths_since_last_major_derog'),\n",
    " * (86104, 'mths_since_recent_revol_delinq'),\n",
    " * (64565, 'mths_since_last_delinq'),\n",
    " * (48693, 'next_pymnt_d_since_issue'),\n",
    " * (17879, 'il_util'),\n",
    " * (13798, 'mths_since_recent_inq'),\n",
    " * (10621, 'title'),\n",
    " * (8981, 'emp_title'),\n",
    " * (8944, 'emp_length'),\n",
    " * (7621, 'num_tl_120dpd_2m'),\n",
    " * (3701, 'mths_since_rcnt_il'),\n",
    " * (3646, 'mo_sin_old_il_acct'),\n",
    " * (1175, 'bc_util'),\n",
    " * (1129, 'percent_bc_gt_75'),\n",
    " * (1111, 'bc_open_to_buy'),\n",
    " * (1044, 'mths_since_recent_bc'),\n",
    " * (148, 'last_pymnt_d_since_issue'),\n",
    " * (71, 'revol_util'),\n",
    " * (67, 'all_util'),\n",
    " * (62, 'total_cu_tl'),\n",
    " * (62, 'open_acc_6m'),\n",
    " * (62, 'inq_last_12m'),\n",
    " * (61, 'total_bal_il'),\n",
    " * (61, 'open_rv_24m'),\n",
    " * (61, 'open_rv_12m'),\n",
    " * (61, 'open_il_24m'),\n",
    " * (61, 'open_il_12m'),\n",
    " * (61, 'open_act_il'),\n",
    " * (61, 'max_bal_bc'),\n",
    " * (61, 'inq_fi'),\n",
    " * (2, 'last_credit_pull_d_since_issue'),\n",
    " * (1, 'inq_last_6mths'),"
   ]
  },
  {
   "cell_type": "markdown",
   "metadata": {},
   "source": [
    "#### Remove features about the hardship program and settlement, since these records are past due, they cannot be used to classify whether a record would past due or not.\n",
    "#### Also remove features with lots of missing value to make my job easier."
   ]
  },
  {
   "cell_type": "code",
   "execution_count": 18,
   "metadata": {},
   "outputs": [
    {
     "data": {
      "text/plain": [
       "(133887, 95)"
      ]
     },
     "execution_count": 18,
     "metadata": {},
     "output_type": "execute_result"
    }
   ],
   "source": [
    "# remove features about the hardship program and settlement, since these records are past due, \n",
    "# they cannot be used to classify whether a record would past due or not\n",
    "# also remove features with lots of missing value to make my job easier\n",
    "\n",
    "loan = loan.drop(['orig_projected_additional_accrued_interest',\n",
    "                  'hardship_type','hardship_status','hardship_reason',\n",
    "                  'hardship_payoff_balance_amount','hardship_loan_status','hardship_length',\n",
    "                  'hardship_last_payment_amount','hardship_dpd',\n",
    "                  'hardship_amount','deferral_term', # hardship program\n",
    "                  'settlement_term','settlement_status','settlement_percentage',\n",
    "                  'settlement_amount', # settlement\n",
    "                  'mths_since_last_record','mths_since_recent_bc_dlq',\n",
    "                  'mths_since_last_major_derog','mths_since_recent_revol_delinq',\n",
    "                  'mths_since_last_delinq', # missing > 60,000\n",
    "                  'payment_plan_start_date_since_issue','hardship_start_date_since_issue',\n",
    "                  'hardship_end_date_since_issue','settlement_date_since_issue',\n",
    "                  'debt_settlement_flag_date_since_issue','emp_title','emp_length',\n",
    "                  'il_util','mths_since_recent_inq','num_tl_120dpd_2m',\n",
    "                  'mths_since_rcnt_il','mo_sin_old_il_acct','bc_util','percent_bc_gt_75',\n",
    "                  'bc_open_to_buy','mths_since_recent_bc'# missing > 1,000\n",
    "                 ], axis=1)\n",
    "loan.shape"
   ]
  },
  {
   "cell_type": "markdown",
   "metadata": {},
   "source": [
    "### Fill missing values"
   ]
  },
  {
   "cell_type": "code",
   "execution_count": 19,
   "metadata": {},
   "outputs": [
    {
     "data": {
      "image/png": "[encoded data removed]",
      "text/plain": [
       "<Figure size 432x288 with 1 Axes>"
      ]
     },
     "metadata": {},
     "output_type": "display_data"
    }
   ],
   "source": [
    "loan['last_credit_pull_d_since_issue'].value_counts().plot.barh()\n",
    "loan['last_credit_pull_d_since_issue'].fillna(-1, inplace=True)"
   ]
  },
  {
   "cell_type": "code",
   "execution_count": 20,
   "metadata": {},
   "outputs": [
    {
     "data": {
      "image/png": "[encoded data removed]",
      "text/plain": [
       "<Figure size 432x288 with 1 Axes>"
      ]
     },
     "metadata": {},
     "output_type": "display_data"
    }
   ],
   "source": [
    "loan['all_util'].plot.hist()\n",
    "loan['all_util'].fillna(loan['all_util'].median(), inplace=True)"
   ]
  },
  {
   "cell_type": "code",
   "execution_count": 21,
   "metadata": {},
   "outputs": [
    {
     "data": {
      "image/png": "[encoded data removed]",
      "text/plain": [
       "<Figure size 432x288 with 1 Axes>"
      ]
     },
     "metadata": {},
     "output_type": "display_data"
    }
   ],
   "source": [
    "loan['revol_util'] = loan['revol_util'].str.replace('%','').astype(float)\n",
    "loan['revol_util'].plot.hist()\n",
    "loan['revol_util'].fillna(loan['revol_util'].median(), inplace=True)"
   ]
  },
  {
   "cell_type": "code",
   "execution_count": 22,
   "metadata": {},
   "outputs": [
    {
     "name": "stdout",
     "output_type": "stream",
     "text": [
      "count    133826.000000\n",
      "mean      35704.147819\n",
      "std       42167.837355\n",
      "min           0.000000\n",
      "25%        9633.250000\n",
      "50%       24144.000000\n",
      "75%       46561.750000\n",
      "max      796104.000000\n",
      "Name: total_bal_il, dtype: float64\n"
     ]
    }
   ],
   "source": [
    "print(loan['total_bal_il'].describe())\n",
    "loan['total_bal_il'].fillna(loan['total_bal_il'].median(), inplace=True)"
   ]
  },
  {
   "cell_type": "code",
   "execution_count": 23,
   "metadata": {},
   "outputs": [
    {
     "name": "stdout",
     "output_type": "stream",
     "text": [
      "count    133826.000000\n",
      "mean       6183.582271\n",
      "std        6214.568114\n",
      "min           0.000000\n",
      "25%        2525.000000\n",
      "50%        4664.000000\n",
      "75%        8020.000000\n",
      "max      776843.000000\n",
      "Name: max_bal_bc, dtype: float64\n"
     ]
    }
   ],
   "source": [
    "print(loan['max_bal_bc'].describe())\n",
    "loan['max_bal_bc'].fillna(loan['max_bal_bc'].median(), inplace=True)"
   ]
  },
  {
   "cell_type": "code",
   "execution_count": 24,
   "metadata": {},
   "outputs": [],
   "source": [
    "loan['total_cu_tl'].fillna(0, inplace=True)\n",
    "loan['open_acc_6m'].fillna(0, inplace=True)\n",
    "loan['open_rv_24m'].fillna(0, inplace=True)\n",
    "loan['open_rv_12m'].fillna(0, inplace=True)\n",
    "loan['open_il_24m'].fillna(0, inplace=True)\n",
    "loan['open_il_12m'].fillna(0, inplace=True)\n",
    "loan['open_act_il'].fillna(0, inplace=True)\n",
    "loan['inq_last_6mths'].fillna(0, inplace=True)\n",
    "loan['inq_last_12m'].fillna(0, inplace=True)\n",
    "loan['inq_fi'].fillna(0, inplace=True)\n",
    "\n",
    "loan['title'].fillna('Other', inplace=True)\n",
    "loan['next_pymnt_d_since_issue'].fillna(-1, inplace=True)\n",
    "loan['last_pymnt_d_since_issue'].fillna(-1, inplace=True)"
   ]
  },
  {
   "cell_type": "code",
   "execution_count": 25,
   "metadata": {},
   "outputs": [
    {
     "data": {
      "text/plain": [
       "(133887, 95)"
      ]
     },
     "execution_count": 25,
     "metadata": {},
     "output_type": "execute_result"
    }
   ],
   "source": [
    "loan.shape"
   ]
  },
  {
   "cell_type": "markdown",
   "metadata": {},
   "source": [
    "### Select numerical and categorical features"
   ]
  },
  {
   "cell_type": "code",
   "execution_count": 26,
   "metadata": {},
   "outputs": [],
   "source": [
    "loan.drop(['id'], axis=1, inplace=True)"
   ]
  },
  {
   "cell_type": "code",
   "execution_count": 27,
   "metadata": {},
   "outputs": [
    {
     "name": "stdout",
     "output_type": "stream",
     "text": [
      "76\n"
     ]
    }
   ],
   "source": [
    "## numeric variables\n",
    "loan['int_rate'] = loan['int_rate'].str.replace('%','').astype(float)\n",
    "cols_numeric = list( (loan.describe()).columns)\n",
    "print(len(cols_numeric))\n",
    "\n",
    "for col in cols_numeric:\n",
    "    loan[col] = loan[col].astype(float) "
   ]
  },
  {
   "cell_type": "markdown",
   "metadata": {},
   "source": [
    "### create the binary target"
   ]
  },
  {
   "cell_type": "code",
   "execution_count": 28,
   "metadata": {},
   "outputs": [
    {
     "data": {
      "text/plain": [
       "0    79931\n",
       "1    53956\n",
       "Name: loan_status_binary, dtype: int64"
      ]
     },
     "execution_count": 28,
     "metadata": {},
     "output_type": "execute_result"
    }
   ],
   "source": [
    "# okay: 0    past due: 1\n",
    "loan['loan_status_binary'] = np.where(loan['loan_status']==('Current'or'Fully Paid'), 0, 1)\n",
    "loan['loan_status_binary'].value_counts()"
   ]
  },
  {
   "cell_type": "markdown",
   "metadata": {},
   "source": [
    "### use t test to select numerical variables"
   ]
  },
  {
   "cell_type": "code",
   "execution_count": 29,
   "metadata": {},
   "outputs": [
    {
     "data": {
      "text/plain": [
       "76"
      ]
     },
     "execution_count": 29,
     "metadata": {},
     "output_type": "execute_result"
    }
   ],
   "source": [
    "from scipy import stats\n",
    "\n",
    "for col in cols_numeric:\n",
    "    t_stat, p_value = stats.ttest_ind(loan[col],loan['loan_status_binary'], equal_var = False)\n",
    "    # print(t_stat, p_value)\n",
    "    if p_value > 0.05:\n",
    "        cols_numeric.remove(col)\n",
    "    \n",
    "len(cols_numeric)"
   ]
  },
  {
   "cell_type": "markdown",
   "metadata": {},
   "source": [
    "The t test does not help us to reduce the number of numerical features. Need to do that manually later."
   ]
  },
  {
   "cell_type": "code",
   "execution_count": null,
   "metadata": {},
   "outputs": [],
   "source": []
  },
  {
   "cell_type": "markdown",
   "metadata": {},
   "source": [
    "#### Categorical features"
   ]
  },
  {
   "cell_type": "code",
   "execution_count": 30,
   "metadata": {},
   "outputs": [
    {
     "data": {
      "text/plain": [
       "['disbursement_method',\n",
       " 'earliest_cr_line_since_issue',\n",
       " 'url',\n",
       " 'home_ownership',\n",
       " 'term',\n",
       " 'zip_code',\n",
       " 'debt_settlement_flag',\n",
       " 'hardship_flag',\n",
       " 'sub_grade',\n",
       " 'initial_list_status',\n",
       " 'pymnt_plan',\n",
       " 'grade',\n",
       " 'title',\n",
       " 'verification_status',\n",
       " 'issue_d',\n",
       " 'purpose',\n",
       " 'loan_status_binary',\n",
       " 'loan_status',\n",
       " 'addr_state']"
      ]
     },
     "execution_count": 30,
     "metadata": {},
     "output_type": "execute_result"
    }
   ],
   "source": [
    "cols_categorical = list(set(loan.columns) - set(cols_numeric))\n",
    "cols_categorical"
   ]
  },
  {
   "cell_type": "code",
   "execution_count": 31,
   "metadata": {},
   "outputs": [],
   "source": [
    "loan.drop(['loan_status','grade','sub_grade','hardship_flag','debt_settlement_flag',\n",
    "           'initial_list_status','earliest_cr_line_since_issue',\n",
    "           'url','addr_state','issue_d'], axis=1, inplace=True)"
   ]
  },
  {
   "cell_type": "code",
   "execution_count": 32,
   "metadata": {},
   "outputs": [
    {
     "data": {
      "text/plain": [
       "['disbursement_method',\n",
       " 'home_ownership',\n",
       " 'term',\n",
       " 'loan_status_binary',\n",
       " 'zip_code',\n",
       " 'title',\n",
       " 'verification_status',\n",
       " 'purpose',\n",
       " 'pymnt_plan']"
      ]
     },
     "execution_count": 32,
     "metadata": {},
     "output_type": "execute_result"
    }
   ],
   "source": [
    "cols_categorical = list(set(loan.columns) - set(cols_numeric))\n",
    "cols_categorical"
   ]
  },
  {
   "cell_type": "markdown",
   "metadata": {},
   "source": [
    "#### collapse the feature zipcode by calculation"
   ]
  },
  {
   "cell_type": "code",
   "execution_count": 33,
   "metadata": {},
   "outputs": [
    {
     "data": {
      "text/html": [
       "<div>\n",
       "<style scoped>\n",
       "    .dataframe tbody tr th:only-of-type {\n",
       "        vertical-align: middle;\n",
       "    }\n",
       "\n",
       "    .dataframe tbody tr th {\n",
       "        vertical-align: top;\n",
       "    }\n",
       "\n",
       "    .dataframe thead th {\n",
       "        text-align: right;\n",
       "    }\n",
       "</style>\n",
       "<table border=\"1\" class=\"dataframe\">\n",
       "  <thead>\n",
       "    <tr style=\"text-align: right;\">\n",
       "      <th>loan_status_binary</th>\n",
       "      <th>0</th>\n",
       "      <th>1</th>\n",
       "    </tr>\n",
       "    <tr>\n",
       "      <th>zip_code</th>\n",
       "      <th></th>\n",
       "      <th></th>\n",
       "    </tr>\n",
       "  </thead>\n",
       "  <tbody>\n",
       "    <tr>\n",
       "      <th>007xx</th>\n",
       "      <td>NaN</td>\n",
       "      <td>1.0</td>\n",
       "    </tr>\n",
       "    <tr>\n",
       "      <th>008xx</th>\n",
       "      <td>2.0</td>\n",
       "      <td>NaN</td>\n",
       "    </tr>\n",
       "  </tbody>\n",
       "</table>\n",
       "</div>"
      ],
      "text/plain": [
       "loan_status_binary    0    1\n",
       "zip_code                    \n",
       "007xx               NaN  1.0\n",
       "008xx               2.0  NaN"
      ]
     },
     "execution_count": 33,
     "metadata": {},
     "output_type": "execute_result"
    }
   ],
   "source": [
    "zip_bi_status = loan.groupby(['zip_code', loan['loan_status_binary']]).size().unstack()\n",
    "zip_bi_status.head(2)"
   ]
  },
  {
   "cell_type": "code",
   "execution_count": 34,
   "metadata": {},
   "outputs": [
    {
     "data": {
      "text/plain": [
       "count    891.000000\n",
       "mean       0.669338\n",
       "std        0.305896\n",
       "min        0.000000\n",
       "25%        0.543031\n",
       "50%        0.653846\n",
       "75%        0.760384\n",
       "max        4.000000\n",
       "dtype: float64"
      ]
     },
     "execution_count": 34,
     "metadata": {},
     "output_type": "execute_result"
    }
   ],
   "source": [
    "zip_bi_status = zip_bi_status.reset_index()\n",
    "zip_pd_rate = zip_bi_status[1]/zip_bi_status[0]\n",
    "zip_pd_rate.fillna(0, axis=0, inplace=True)\n",
    "zip_pd_rate.describe()"
   ]
  },
  {
   "cell_type": "code",
   "execution_count": 35,
   "metadata": {},
   "outputs": [
    {
     "data": {
      "text/plain": [
       "(0.654, 0.692]     91\n",
       "(0.61, 0.654]      90\n",
       "(0.405, 0.519]     90\n",
       "(-0.001, 0.405]    90\n",
       "(0.918, 4.0]       89\n",
       "(0.805, 0.918]     89\n",
       "(0.742, 0.805]     89\n",
       "(0.563, 0.61]      89\n",
       "(0.519, 0.563]     88\n",
       "(0.692, 0.742]     86\n",
       "Name: new_zip, dtype: int64"
      ]
     },
     "execution_count": 35,
     "metadata": {},
     "output_type": "execute_result"
    }
   ],
   "source": [
    "zip_bi_status['new_zip'] = pd.qcut(zip_pd_rate, 10)\n",
    "zip_bi_status['new_zip'].value_counts()"
   ]
  },
  {
   "cell_type": "code",
   "execution_count": 36,
   "metadata": {},
   "outputs": [
    {
     "data": {
      "text/html": [
       "<div>\n",
       "<style scoped>\n",
       "    .dataframe tbody tr th:only-of-type {\n",
       "        vertical-align: middle;\n",
       "    }\n",
       "\n",
       "    .dataframe tbody tr th {\n",
       "        vertical-align: top;\n",
       "    }\n",
       "\n",
       "    .dataframe thead th {\n",
       "        text-align: right;\n",
       "    }\n",
       "</style>\n",
       "<table border=\"1\" class=\"dataframe\">\n",
       "  <thead>\n",
       "    <tr style=\"text-align: right;\">\n",
       "      <th>loan_status_binary</th>\n",
       "      <th>zip_code</th>\n",
       "      <th>new_zip</th>\n",
       "    </tr>\n",
       "  </thead>\n",
       "  <tbody>\n",
       "    <tr>\n",
       "      <th>0</th>\n",
       "      <td>007xx</td>\n",
       "      <td>(-0.001, 0.405]</td>\n",
       "    </tr>\n",
       "    <tr>\n",
       "      <th>1</th>\n",
       "      <td>008xx</td>\n",
       "      <td>(-0.001, 0.405]</td>\n",
       "    </tr>\n",
       "    <tr>\n",
       "      <th>2</th>\n",
       "      <td>009xx</td>\n",
       "      <td>(-0.001, 0.405]</td>\n",
       "    </tr>\n",
       "    <tr>\n",
       "      <th>3</th>\n",
       "      <td>010xx</td>\n",
       "      <td>(0.563, 0.61]</td>\n",
       "    </tr>\n",
       "    <tr>\n",
       "      <th>4</th>\n",
       "      <td>011xx</td>\n",
       "      <td>(0.805, 0.918]</td>\n",
       "    </tr>\n",
       "  </tbody>\n",
       "</table>\n",
       "</div>"
      ],
      "text/plain": [
       "loan_status_binary zip_code          new_zip\n",
       "0                     007xx  (-0.001, 0.405]\n",
       "1                     008xx  (-0.001, 0.405]\n",
       "2                     009xx  (-0.001, 0.405]\n",
       "3                     010xx    (0.563, 0.61]\n",
       "4                     011xx   (0.805, 0.918]"
      ]
     },
     "execution_count": 36,
     "metadata": {},
     "output_type": "execute_result"
    }
   ],
   "source": [
    "zip_bi_status.drop([0,1], axis=1, inplace=True)\n",
    "zip_bi_status.head()"
   ]
  },
  {
   "cell_type": "code",
   "execution_count": 37,
   "metadata": {},
   "outputs": [
    {
     "data": {
      "text/html": [
       "<div>\n",
       "<style scoped>\n",
       "    .dataframe tbody tr th:only-of-type {\n",
       "        vertical-align: middle;\n",
       "    }\n",
       "\n",
       "    .dataframe tbody tr th {\n",
       "        vertical-align: top;\n",
       "    }\n",
       "\n",
       "    .dataframe thead th {\n",
       "        text-align: right;\n",
       "    }\n",
       "</style>\n",
       "<table border=\"1\" class=\"dataframe\">\n",
       "  <thead>\n",
       "    <tr style=\"text-align: right;\">\n",
       "      <th></th>\n",
       "      <th>loan_amnt</th>\n",
       "      <th>funded_amnt</th>\n",
       "      <th>funded_amnt_inv</th>\n",
       "      <th>term</th>\n",
       "      <th>int_rate</th>\n",
       "      <th>installment</th>\n",
       "      <th>home_ownership</th>\n",
       "      <th>annual_inc</th>\n",
       "      <th>verification_status</th>\n",
       "      <th>pymnt_plan</th>\n",
       "      <th>...</th>\n",
       "      <th>tot_hi_cred_lim</th>\n",
       "      <th>total_bal_ex_mort</th>\n",
       "      <th>total_bc_limit</th>\n",
       "      <th>total_il_high_credit_limit</th>\n",
       "      <th>disbursement_method</th>\n",
       "      <th>next_pymnt_d_since_issue</th>\n",
       "      <th>last_pymnt_d_since_issue</th>\n",
       "      <th>last_credit_pull_d_since_issue</th>\n",
       "      <th>loan_status_binary</th>\n",
       "      <th>new_zip</th>\n",
       "    </tr>\n",
       "  </thead>\n",
       "  <tbody>\n",
       "    <tr>\n",
       "      <th>0</th>\n",
       "      <td>16000.0</td>\n",
       "      <td>16000.0</td>\n",
       "      <td>16000.0</td>\n",
       "      <td>36 months</td>\n",
       "      <td>5.32</td>\n",
       "      <td>481.84</td>\n",
       "      <td>RENT</td>\n",
       "      <td>105000.0</td>\n",
       "      <td>Not Verified</td>\n",
       "      <td>n</td>\n",
       "      <td>...</td>\n",
       "      <td>47543.0</td>\n",
       "      <td>23525.0</td>\n",
       "      <td>19400.0</td>\n",
       "      <td>25243.0</td>\n",
       "      <td>Cash</td>\n",
       "      <td>-1.0</td>\n",
       "      <td>2.0</td>\n",
       "      <td>8.0</td>\n",
       "      <td>1</td>\n",
       "      <td>(0.654, 0.692]</td>\n",
       "    </tr>\n",
       "    <tr>\n",
       "      <th>1</th>\n",
       "      <td>17000.0</td>\n",
       "      <td>17000.0</td>\n",
       "      <td>17000.0</td>\n",
       "      <td>36 months</td>\n",
       "      <td>9.75</td>\n",
       "      <td>546.55</td>\n",
       "      <td>MORTGAGE</td>\n",
       "      <td>40000.0</td>\n",
       "      <td>Verified</td>\n",
       "      <td>n</td>\n",
       "      <td>...</td>\n",
       "      <td>44131.0</td>\n",
       "      <td>31939.0</td>\n",
       "      <td>16300.0</td>\n",
       "      <td>27831.0</td>\n",
       "      <td>Cash</td>\n",
       "      <td>21.0</td>\n",
       "      <td>20.0</td>\n",
       "      <td>20.0</td>\n",
       "      <td>0</td>\n",
       "      <td>(0.563, 0.61]</td>\n",
       "    </tr>\n",
       "  </tbody>\n",
       "</table>\n",
       "<p>2 rows × 86 columns</p>\n",
       "</div>"
      ],
      "text/plain": [
       "   loan_amnt  funded_amnt  funded_amnt_inv        term  int_rate  installment  \\\n",
       "0    16000.0      16000.0          16000.0   36 months      5.32       481.84   \n",
       "1    17000.0      17000.0          17000.0   36 months      9.75       546.55   \n",
       "\n",
       "  home_ownership  annual_inc verification_status pymnt_plan       ...        \\\n",
       "0           RENT    105000.0        Not Verified          n       ...         \n",
       "1       MORTGAGE     40000.0            Verified          n       ...         \n",
       "\n",
       "  tot_hi_cred_lim total_bal_ex_mort total_bc_limit  \\\n",
       "0         47543.0           23525.0        19400.0   \n",
       "1         44131.0           31939.0        16300.0   \n",
       "\n",
       "   total_il_high_credit_limit  disbursement_method  next_pymnt_d_since_issue  \\\n",
       "0                     25243.0                 Cash                      -1.0   \n",
       "1                     27831.0                 Cash                      21.0   \n",
       "\n",
       "   last_pymnt_d_since_issue  last_credit_pull_d_since_issue  \\\n",
       "0                       2.0                             8.0   \n",
       "1                      20.0                            20.0   \n",
       "\n",
       "   loan_status_binary         new_zip  \n",
       "0                   1  (0.654, 0.692]  \n",
       "1                   0   (0.563, 0.61]  \n",
       "\n",
       "[2 rows x 86 columns]"
      ]
     },
     "execution_count": 37,
     "metadata": {},
     "output_type": "execute_result"
    }
   ],
   "source": [
    "loan = pd.merge(loan, zip_bi_status, how='left', on = 'zip_code')\n",
    "loan.head(2)"
   ]
  },
  {
   "cell_type": "code",
   "execution_count": 39,
   "metadata": {},
   "outputs": [
    {
     "data": {
      "text/plain": [
       "(133887, 85)"
      ]
     },
     "execution_count": 39,
     "metadata": {},
     "output_type": "execute_result"
    }
   ],
   "source": [
    "loan.drop(['zip_code'], axis=1, inplace=True)\n",
    "loan.shape"
   ]
  },
  {
   "cell_type": "code",
   "execution_count": 40,
   "metadata": {},
   "outputs": [],
   "source": [
    "loan.to_csv('LoanStats_2016Q1_cleaned.csv', index=False)"
   ]
  },
  {
   "cell_type": "code",
   "execution_count": null,
   "metadata": {},
   "outputs": [],
   "source": []
  },
  {
   "cell_type": "code",
   "execution_count": null,
   "metadata": {},
   "outputs": [],
   "source": []
  },
  {
   "cell_type": "code",
   "execution_count": null,
   "metadata": {},
   "outputs": [],
   "source": []
  },
  {
   "cell_type": "markdown",
   "metadata": {},
   "source": [
    "### Start build model"
   ]
  },
  {
   "cell_type": "code",
   "execution_count": 1,
   "metadata": {},
   "outputs": [
    {
     "data": {
      "text/plain": [
       "(133887, 85)"
      ]
     },
     "execution_count": 1,
     "metadata": {},
     "output_type": "execute_result"
    }
   ],
   "source": [
    "import pandas as pd\n",
    "import numpy as np\n",
    "import matplotlib.pyplot as plt\n",
    "%matplotlib inline\n",
    "plt.style.use('ggplot')\n",
    "\n",
    "loan =  pd.read_csv('LoanStats_2016Q1_cleaned.csv')\n",
    "loan.shape"
   ]
  },
  {
   "cell_type": "markdown",
   "metadata": {},
   "source": [
    "#### Numerical features\n",
    "* 'int_rate', 'installment', 'annual_inc', 'dti', 'last_pymnt_amnt', 'total_bal_il', 'revol_util', \n",
    "\n",
    "* 'loan_amnt', ('funded_amnt', 'funded_amnt_inv',) \n",
    "\n",
    "* 'total_pymnt', ('total_pymnt_inv',) \n",
    "\n",
    "* 'out_prncp', ('out_prncp_inv',)\n",
    "\n",
    "* 'fico_range_low',('fico_range_high',)\n",
    "\n",
    "* 'last_fico_range_low', ('last_fico_range_high',)\n",
    "\n",
    "* 'inq_last_6mths', 'inq_last_12m', \n",
    "\n",
    "* 'open_il_12m', ('open_il_24m',) \n",
    "\n",
    "* 'open_rv_12m', ('open_rv_24m',) \n",
    " \n",
    "* ('total_acc',) 'open_acc','open_acc_6m', 'acc_open_past_24mths', 'open_act_il', \n",
    "\n",
    "* 'num_actv_bc_tl', ('num_actv_rev_tl', 'num_bc_sats',)\n",
    "\n",
    "* 'num_bc_tl', ('num_rev_accts',)\n",
    "\n",
    "* 'delinq_2yrs', 'delinq_amnt', 'pub_rec', 'pub_rec_bankruptcies', 'tax_liens', 'chargeoff_within_12_mths', 'total_rec_prncp', 'total_rec_int', 'total_rec_late_fee', 'recoveries', 'collection_recovery_fee', 'collections_12_mths_ex_med', 'acc_now_delinq', 'tot_coll_amt','tot_cur_bal', 'avg_cur_bal', 'revol_bal', 'max_bal_bc', 'all_util', 'total_rev_hi_lim', 'inq_fi', 'total_cu_tl',  'mo_sin_old_rev_tl_op', 'mo_sin_rcnt_rev_tl_op', 'mo_sin_rcnt_tl', 'mort_acc', 'num_accts_ever_120_pd', 'num_tl_30dpd', 'num_tl_90g_dpd_24m', 'num_tl_op_past_12m', 'pct_tl_nvr_dlq', 'num_il_tl', 'num_op_rev_tl',  'num_rev_tl_bal_gt_0', 'num_sats', 'tot_hi_cred_lim', 'total_bc_limit', 'total_il_high_credit_limit', 'total_bal_ex_mort', 'next_pymnt_d_since_issue', 'last_pymnt_d_since_issue', 'last_credit_pull_d_since_issue', "
   ]
  },
  {
   "cell_type": "markdown",
   "metadata": {},
   "source": [
    "#### check the correlation and drop some features"
   ]
  },
  {
   "cell_type": "code",
   "execution_count": 55,
   "metadata": {},
   "outputs": [
    {
     "data": {
      "text/plain": [
       "array([[ 1.        ,  0.68822838],\n",
       "       [ 0.68822838,  1.        ]])"
      ]
     },
     "execution_count": 55,
     "metadata": {},
     "output_type": "execute_result"
    }
   ],
   "source": [
    "cols = ['num_actv_rev_tl', 'num_bc_sats',]\n",
    "np.corrcoef(loan[cols].values.T)"
   ]
  },
  {
   "cell_type": "code",
   "execution_count": 56,
   "metadata": {},
   "outputs": [],
   "source": [
    "loan.drop(['funded_amnt', 'funded_amnt_inv', 'total_pymnt_inv', 'out_prncp_inv',\n",
    "           'fico_range_high', 'last_fico_range_high', 'open_il_24m', 'open_rv_24m',\n",
    "           'total_acc', 'num_actv_rev_tl', 'num_bc_sats', 'num_rev_accts'\n",
    "          ], axis=1, inplace=True)"
   ]
  },
  {
   "cell_type": "code",
   "execution_count": null,
   "metadata": {},
   "outputs": [],
   "source": []
  },
  {
   "cell_type": "code",
   "execution_count": 70,
   "metadata": {},
   "outputs": [],
   "source": [
    "# from pandas.plotting import scatter_matrix\n",
    "# cols = ['int_rate', 'installment', 'annual_inc', 'dti']\n",
    "# scatter_matrix(loan[cols], figsize=(12,12))"
   ]
  },
  {
   "cell_type": "code",
   "execution_count": null,
   "metadata": {},
   "outputs": [],
   "source": []
  },
  {
   "cell_type": "code",
   "execution_count": null,
   "metadata": {},
   "outputs": [],
   "source": []
  },
  {
   "cell_type": "code",
   "execution_count": null,
   "metadata": {},
   "outputs": [],
   "source": [
    "# np.log(loan['loan_amnt']).describe()\n",
    "# np.log(loan['revol_bal']+1).describe()\n",
    "# np.log(loan['out_prncp']+1).plot.hist()\n",
    "\n",
    "## transform some features\n",
    "loan['log_loan_amnt'] = np.log(loan['loan_amnt'])\n",
    "loan['log_revol_bal'] = np.log(loan['revol_bal']+1)"
   ]
  },
  {
   "cell_type": "markdown",
   "metadata": {},
   "source": [
    "#### Categorical features"
   ]
  },
  {
   "cell_type": "code",
   "execution_count": 57,
   "metadata": {},
   "outputs": [],
   "source": [
    "cols_categorical = ['disbursement_method','home_ownership','term','loan_status_binary',\n",
    "                    'new_zip','title','verification_status', 'purpose','pymnt_plan']"
   ]
  },
  {
   "cell_type": "markdown",
   "metadata": {},
   "source": [
    "#### onehot encoding"
   ]
  },
  {
   "cell_type": "code",
   "execution_count": 58,
   "metadata": {},
   "outputs": [],
   "source": [
    "X = loan"
   ]
  },
  {
   "cell_type": "code",
   "execution_count": 59,
   "metadata": {},
   "outputs": [],
   "source": [
    "from sklearn.preprocessing import OneHotEncoder\n",
    "from sklearn.preprocessing import LabelEncoder\n"
   ]
  },
  {
   "cell_type": "code",
   "execution_count": 60,
   "metadata": {},
   "outputs": [],
   "source": [
    "# need do label encoding for string features to int before onehot encoding\n",
    "le = LabelEncoder()\n",
    "for col in cols_categorical:\n",
    "    le.fit(X[col])\n",
    "    X[col] = le.transform(X[col])"
   ]
  },
  {
   "cell_type": "code",
   "execution_count": 61,
   "metadata": {},
   "outputs": [
    {
     "data": {
      "text/html": [
       "<div>\n",
       "<style scoped>\n",
       "    .dataframe tbody tr th:only-of-type {\n",
       "        vertical-align: middle;\n",
       "    }\n",
       "\n",
       "    .dataframe tbody tr th {\n",
       "        vertical-align: top;\n",
       "    }\n",
       "\n",
       "    .dataframe thead th {\n",
       "        text-align: right;\n",
       "    }\n",
       "</style>\n",
       "<table border=\"1\" class=\"dataframe\">\n",
       "  <thead>\n",
       "    <tr style=\"text-align: right;\">\n",
       "      <th></th>\n",
       "      <th>disbursement_method</th>\n",
       "      <th>home_ownership</th>\n",
       "      <th>term</th>\n",
       "      <th>loan_status_binary</th>\n",
       "      <th>new_zip</th>\n",
       "      <th>title</th>\n",
       "      <th>verification_status</th>\n",
       "      <th>purpose</th>\n",
       "      <th>pymnt_plan</th>\n",
       "    </tr>\n",
       "  </thead>\n",
       "  <tbody>\n",
       "    <tr>\n",
       "      <th>0</th>\n",
       "      <td>0</td>\n",
       "      <td>2</td>\n",
       "      <td>0</td>\n",
       "      <td>1</td>\n",
       "      <td>5</td>\n",
       "      <td>4</td>\n",
       "      <td>0</td>\n",
       "      <td>2</td>\n",
       "      <td>0</td>\n",
       "    </tr>\n",
       "    <tr>\n",
       "      <th>1</th>\n",
       "      <td>0</td>\n",
       "      <td>0</td>\n",
       "      <td>0</td>\n",
       "      <td>0</td>\n",
       "      <td>3</td>\n",
       "      <td>3</td>\n",
       "      <td>2</td>\n",
       "      <td>1</td>\n",
       "      <td>0</td>\n",
       "    </tr>\n",
       "    <tr>\n",
       "      <th>2</th>\n",
       "      <td>0</td>\n",
       "      <td>0</td>\n",
       "      <td>1</td>\n",
       "      <td>1</td>\n",
       "      <td>6</td>\n",
       "      <td>7</td>\n",
       "      <td>1</td>\n",
       "      <td>3</td>\n",
       "      <td>0</td>\n",
       "    </tr>\n",
       "  </tbody>\n",
       "</table>\n",
       "</div>"
      ],
      "text/plain": [
       "   disbursement_method  home_ownership  term  loan_status_binary  new_zip  \\\n",
       "0                    0               2     0                   1        5   \n",
       "1                    0               0     0                   0        3   \n",
       "2                    0               0     1                   1        6   \n",
       "\n",
       "   title  verification_status  purpose  pymnt_plan  \n",
       "0      4                    0        2           0  \n",
       "1      3                    2        1           0  \n",
       "2      7                    1        3           0  "
      ]
     },
     "execution_count": 61,
     "metadata": {},
     "output_type": "execute_result"
    }
   ],
   "source": [
    "X[cols_categorical].head(3)"
   ]
  },
  {
   "cell_type": "code",
   "execution_count": 62,
   "metadata": {},
   "outputs": [
    {
     "data": {
      "text/plain": [
       "OneHotEncoder(categorical_features='all', dtype=<class 'numpy.float64'>,\n",
       "       handle_unknown='error', n_values='auto', sparse=True)"
      ]
     },
     "execution_count": 62,
     "metadata": {},
     "output_type": "execute_result"
    }
   ],
   "source": [
    "enc = OneHotEncoder()\n",
    "enc.fit(X[cols_categorical])  "
   ]
  },
  {
   "cell_type": "code",
   "execution_count": 63,
   "metadata": {},
   "outputs": [
    {
     "data": {
      "text/plain": [
       "(array([ 2,  3,  2,  2, 10, 13,  3, 12,  2]),\n",
       " array([ 0,  2,  5,  7,  9, 19, 32, 35, 47, 49]))"
      ]
     },
     "execution_count": 63,
     "metadata": {},
     "output_type": "execute_result"
    }
   ],
   "source": [
    "X_cate = enc.transform(X[cols_categorical])\n",
    "enc.n_values_, enc.feature_indices_"
   ]
  },
  {
   "cell_type": "code",
   "execution_count": 65,
   "metadata": {},
   "outputs": [
    {
     "data": {
      "text/plain": [
       "((133887, 64), (133887, 49))"
      ]
     },
     "execution_count": 65,
     "metadata": {},
     "output_type": "execute_result"
    }
   ],
   "source": [
    "X_num = X.drop(cols_categorical, axis=1).values\n",
    "X_num.shape, X_cate.shape"
   ]
  },
  {
   "cell_type": "code",
   "execution_count": 116,
   "metadata": {},
   "outputs": [
    {
     "data": {
      "text/plain": [
       "(133887, 113)"
      ]
     },
     "execution_count": 116,
     "metadata": {},
     "output_type": "execute_result"
    }
   ],
   "source": [
    "from scipy.sparse import hstack\n",
    "X_new = hstack((X_cate, X_num))\n",
    "X_new.shape"
   ]
  },
  {
   "cell_type": "markdown",
   "metadata": {},
   "source": [
    "#### split data into training and test datasets"
   ]
  },
  {
   "cell_type": "code",
   "execution_count": 117,
   "metadata": {},
   "outputs": [],
   "source": [
    "from sklearn.model_selection import train_test_split\n",
    "\n",
    "y = X['loan_status_binary']\n",
    "X_train, X_test, y_train, y_test = train_test_split(X_new, y, test_size=0.3, random_state=42)"
   ]
  },
  {
   "cell_type": "markdown",
   "metadata": {},
   "source": [
    "### Build a Logistic Regression Classifier"
   ]
  },
  {
   "cell_type": "code",
   "execution_count": 140,
   "metadata": {},
   "outputs": [
    {
     "data": {
      "text/plain": [
       "LogisticRegression(C=0.01, class_weight=None, dual=False, fit_intercept=True,\n",
       "          intercept_scaling=1, max_iter=100, multi_class='ovr', n_jobs=1,\n",
       "          penalty='l1', random_state=None, solver='liblinear', tol=0.0001,\n",
       "          verbose=0, warm_start=False)"
      ]
     },
     "execution_count": 140,
     "metadata": {},
     "output_type": "execute_result"
    }
   ],
   "source": [
    "from sklearn.linear_model import LogisticRegression\n",
    "\n",
    "logis = LogisticRegression(C=0.01, penalty='l1')\n",
    "logis.fit(X_train, y_train)"
   ]
  },
  {
   "cell_type": "code",
   "execution_count": 135,
   "metadata": {},
   "outputs": [
    {
     "data": {
      "text/plain": [
       "(1.0, 1.0)"
      ]
     },
     "execution_count": 135,
     "metadata": {},
     "output_type": "execute_result"
    }
   ],
   "source": [
    "logis.score(X_train, y_train), logis.score(X_test, y_test)"
   ]
  },
  {
   "cell_type": "code",
   "execution_count": 136,
   "metadata": {},
   "outputs": [
    {
     "data": {
      "text/plain": [
       "(array([[  0.00000000e+00,   0.00000000e+00,   0.00000000e+00,\n",
       "           0.00000000e+00,   0.00000000e+00,   0.00000000e+00,\n",
       "           0.00000000e+00,  -2.24840906e+00,   7.31260365e+00,\n",
       "           0.00000000e+00,   0.00000000e+00,   0.00000000e+00,\n",
       "           0.00000000e+00,   0.00000000e+00,   0.00000000e+00,\n",
       "           0.00000000e+00,   0.00000000e+00,   0.00000000e+00,\n",
       "           0.00000000e+00,   0.00000000e+00,   0.00000000e+00,\n",
       "           0.00000000e+00,   0.00000000e+00,   0.00000000e+00,\n",
       "           0.00000000e+00,   0.00000000e+00,   0.00000000e+00,\n",
       "           0.00000000e+00,   0.00000000e+00,   0.00000000e+00,\n",
       "           0.00000000e+00,   0.00000000e+00,   0.00000000e+00,\n",
       "           0.00000000e+00,   0.00000000e+00,   0.00000000e+00,\n",
       "           0.00000000e+00,   0.00000000e+00,   0.00000000e+00,\n",
       "           0.00000000e+00,   0.00000000e+00,   0.00000000e+00,\n",
       "           0.00000000e+00,   0.00000000e+00,   0.00000000e+00,\n",
       "           0.00000000e+00,   0.00000000e+00,   0.00000000e+00,\n",
       "           0.00000000e+00,   4.00684711e-05,   3.38231421e-02,\n",
       "           1.59185281e-03,  -1.48492925e-07,   8.97553996e-04,\n",
       "           0.00000000e+00,   2.04661033e-03,   0.00000000e+00,\n",
       "           0.00000000e+00,   0.00000000e+00,  -1.64612484e-06,\n",
       "           0.00000000e+00,  -2.26489672e-05,  -3.42271229e-05,\n",
       "          -8.05964589e-05,  -1.02628398e-04,   1.00672481e-02,\n",
       "           1.61110567e-03,   0.00000000e+00,   3.07232204e-04,\n",
       "          -3.06906417e-03,   0.00000000e+00,   0.00000000e+00,\n",
       "           6.99828698e-07,   4.03504505e-07,   0.00000000e+00,\n",
       "           0.00000000e+00,   0.00000000e+00,   2.12313508e-06,\n",
       "           0.00000000e+00,  -5.93537346e-06,   3.60317125e-03,\n",
       "           3.07544925e-07,   0.00000000e+00,   0.00000000e+00,\n",
       "           0.00000000e+00,   0.00000000e+00,  -6.24086194e-06,\n",
       "           0.00000000e+00,  -2.40424253e-05,   1.30785546e-04,\n",
       "          -1.73678988e-04,   0.00000000e+00,   0.00000000e+00,\n",
       "           0.00000000e+00,   0.00000000e+00,   0.00000000e+00,\n",
       "           0.00000000e+00,   0.00000000e+00,   0.00000000e+00,\n",
       "           0.00000000e+00,   0.00000000e+00,   0.00000000e+00,\n",
       "           0.00000000e+00,   3.18204661e-03,   0.00000000e+00,\n",
       "           0.00000000e+00,   3.50870192e-08,  -1.32890150e-07,\n",
       "          -3.24225193e-06,  -1.62035920e-06,  -1.54539594e-01,\n",
       "          -4.95543231e-02,   0.00000000e+00]]), 113)"
      ]
     },
     "execution_count": 136,
     "metadata": {},
     "output_type": "execute_result"
    }
   ],
   "source": [
    "logis.coef_, len(logis.coef_[0])"
   ]
  },
  {
   "cell_type": "code",
   "execution_count": 137,
   "metadata": {},
   "outputs": [
    {
     "data": {
      "text/plain": [
       "Text(0,0.5,'Coefficients')"
      ]
     },
     "execution_count": 137,
     "metadata": {},
     "output_type": "execute_result"
    },
    {
     "data": {
      "image/png": "[encoded data removed]",
      "text/plain": [
       "<Figure size 432x288 with 1 Axes>"
      ]
     },
     "metadata": {},
     "output_type": "display_data"
    }
   ],
   "source": [
    "#range = np.arange(73) + 1\n",
    "#pca_names = ['PCA_%s' % i for i in pca_range]\n",
    "plt.bar(np.arange(113), logis.coef_.flatten())\n",
    "#xticks = plt.xticks(pca_range, pca_names, rotation=90)\n",
    "plt.ylabel('Coefficients')"
   ]
  },
  {
   "cell_type": "markdown",
   "metadata": {},
   "source": [
    "### Build a Random Forest Classifier"
   ]
  },
  {
   "cell_type": "code",
   "execution_count": 123,
   "metadata": {},
   "outputs": [
    {
     "data": {
      "text/plain": [
       "RandomForestClassifier(bootstrap=True, class_weight=None, criterion='gini',\n",
       "            max_depth=40, max_features='auto', max_leaf_nodes=None,\n",
       "            min_impurity_decrease=0.0, min_impurity_split=None,\n",
       "            min_samples_leaf=3, min_samples_split=5,\n",
       "            min_weight_fraction_leaf=0.0, n_estimators=100, n_jobs=1,\n",
       "            oob_score=False, random_state=1, verbose=0, warm_start=False)"
      ]
     },
     "execution_count": 123,
     "metadata": {},
     "output_type": "execute_result"
    }
   ],
   "source": [
    "from sklearn.ensemble import RandomForestClassifier\n",
    "\n",
    "rfc = RandomForestClassifier(n_estimators=100,\n",
    "                                   max_depth=40,\n",
    "                                   min_samples_leaf=3, \n",
    "                                   min_samples_split=5,\n",
    "                                   random_state=1)\n",
    "rfc.fit(X_train, y_train)"
   ]
  },
  {
   "cell_type": "code",
   "execution_count": 124,
   "metadata": {},
   "outputs": [
    {
     "data": {
      "text/plain": [
       "(1.0, 1.0)"
      ]
     },
     "execution_count": 124,
     "metadata": {},
     "output_type": "execute_result"
    }
   ],
   "source": [
    "rfc.score(X_train, y_train), rfc.score(X_test, y_test)"
   ]
  },
  {
   "cell_type": "code",
   "execution_count": 125,
   "metadata": {},
   "outputs": [
    {
     "data": {
      "text/plain": [
       "(array([  9.57612730e-07,   1.02177495e-06,   1.43691904e-05,\n",
       "          7.69202286e-06,   9.62733631e-06,   3.89946862e-05,\n",
       "          1.25853710e-04,   1.83997502e-01,   2.50213109e-01,\n",
       "          4.29768201e-07,   5.34403596e-06,   6.07452133e-06,\n",
       "          7.29830949e-06,   8.61182870e-06,   7.94218288e-06,\n",
       "          8.50175143e-06,   9.79443131e-06,   1.23387589e-05,\n",
       "          3.74345779e-06,   7.81661740e-07,   4.01048617e-06,\n",
       "          0.00000000e+00,   4.89078520e-06,   1.11713266e-05,\n",
       "          0.00000000e+00,   1.88347325e-06,   3.97857818e-06,\n",
       "          2.44423292e-06,   1.36482031e-06,   2.31702206e-06,\n",
       "          6.01139116e-06,   2.54405024e-06,   1.45472859e-04,\n",
       "          8.31391135e-06,   5.47868993e-05,   7.73417271e-08,\n",
       "          1.45645259e-05,   1.88902973e-05,   1.54690161e-06,\n",
       "          1.78563090e-06,   3.01182931e-06,   1.13703898e-06,\n",
       "          0.00000000e+00,   2.71539561e-06,   0.00000000e+00,\n",
       "          2.13024577e-06,   2.70893293e-06,   6.94117528e-04,\n",
       "          8.50368570e-04,   9.05250462e-04,   7.38007944e-04,\n",
       "          4.65902857e-04,   8.75779313e-05,   1.00872219e-04,\n",
       "          2.64950888e-05,   8.48142911e-05,   1.46287913e-04,\n",
       "          5.86038082e-05,   1.20441761e-05,   1.71927802e-04,\n",
       "          1.80488551e-04,   1.51642400e-01,   4.79390298e-03,\n",
       "          1.03499341e-02,   3.94052508e-03,   8.70934461e-04,\n",
       "          4.71718650e-03,   3.46711077e-03,   5.06329995e-02,\n",
       "          1.13259751e-02,   2.61348222e-06,   2.28329623e-06,\n",
       "          2.29439028e-05,   7.70439607e-05,   1.64652553e-04,\n",
       "          3.20673271e-05,   6.65084858e-04,   7.90706135e-05,\n",
       "          2.76472647e-05,   1.94028522e-04,   9.96097672e-05,\n",
       "          1.46399823e-04,   3.63690237e-04,   7.82469668e-05,\n",
       "          9.46283166e-05,   4.27504794e-04,   9.37213985e-05,\n",
       "          1.94795240e-06,   1.52380148e-06,   2.08376456e-04,\n",
       "          1.14547191e-04,   2.91515942e-04,   2.04173119e-05,\n",
       "          2.27274778e-05,   4.16334239e-05,   5.41647331e-05,\n",
       "          1.15287059e-04,   4.90208823e-05,   5.07611754e-05,\n",
       "          5.44830899e-05,   1.68378213e-07,   5.27903498e-06,\n",
       "          7.48131980e-04,   7.43793551e-05,   1.53163188e-05,\n",
       "          1.05052719e-05,   9.00399975e-05,   8.27761369e-05,\n",
       "          1.91091881e-04,   6.10465128e-05,   1.12920451e-01,\n",
       "          1.62031597e-01,   3.91300991e-02]), 113)"
      ]
     },
     "execution_count": 125,
     "metadata": {},
     "output_type": "execute_result"
    }
   ],
   "source": [
    "rfc.feature_importances_, len(rfc.feature_importances_)"
   ]
  },
  {
   "cell_type": "code",
   "execution_count": 129,
   "metadata": {},
   "outputs": [
    {
     "data": {
      "text/plain": [
       "Text(0,0.5,'Coefficients')"
      ]
     },
     "execution_count": 129,
     "metadata": {},
     "output_type": "execute_result"
    },
    {
     "data": {
      "image/png": "[encoded data removed]",
      "text/plain": [
       "<Figure size 432x288 with 1 Axes>"
      ]
     },
     "metadata": {},
     "output_type": "display_data"
    }
   ],
   "source": [
    "plt.bar(np.arange(113), rfc.feature_importances_.flatten())\n",
    "#xticks = plt.xticks(pca_range, pca_names, rotation=90)\n",
    "plt.ylabel('Coefficients')"
   ]
  },
  {
   "cell_type": "code",
   "execution_count": null,
   "metadata": {},
   "outputs": [],
   "source": []
  },
  {
   "cell_type": "code",
   "execution_count": null,
   "metadata": {},
   "outputs": [],
   "source": []
  }
 ],
 "metadata": {
  "kernelspec": {
   "display_name": "Python 3",
   "language": "python",
   "name": "python3"
  },
  "language_info": {
   "codemirror_mode": {
    "name": "ipython",
    "version": 3
   },
   "file_extension": ".py",
   "mimetype": "text/x-python",
   "name": "python",
   "nbconvert_exporter": "python",
   "pygments_lexer": "ipython3",
   "version": "3.5.5"
  }
 },
 "nbformat": 4,
 "nbformat_minor": 2
}
